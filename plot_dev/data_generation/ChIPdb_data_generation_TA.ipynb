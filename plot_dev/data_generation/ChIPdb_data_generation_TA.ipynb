{
 "cells": [
  {
   "cell_type": "markdown",
   "id": "guided-diameter",
   "metadata": {},
   "source": [
    "# Table of Contents"
   ]
  },
  {
   "cell_type": "markdown",
   "id": "hybrid-education",
   "metadata": {},
   "source": [
    "This notebook generates data used to contruct `binding peak` tables and `venn diagrams` for ChIPPro database. But before you run the notebook, make sure of the following: \n",
    "\n",
    "1. Do not concatanate TF files with differernt conditions. The goal is to have one TF with one condidtion on each dashboard.\n",
    "2. Make sure to rename TF in the gff file to match the TF convention and not gene convension."
   ]
  },
  {
   "cell_type": "code",
   "execution_count": 3,
   "id": "south-weight",
   "metadata": {},
   "outputs": [],
   "source": [
    "#basics:\n",
    "import numpy as np     \n",
    "import pandas as pd\n",
    "import urllib                      \n",
    "import gzip\n",
    "import os\n",
    "from os import path\n",
    "from collections import defaultdict"
   ]
  },
  {
   "cell_type": "markdown",
   "id": "received-threshold",
   "metadata": {},
   "source": [
    "# Binding Peak Tables"
   ]
  },
  {
   "cell_type": "markdown",
   "id": "living-forth",
   "metadata": {},
   "source": [
    "## Generate a data objects"
   ]
  },
  {
   "cell_type": "markdown",
   "id": "decent-salvation",
   "metadata": {},
   "source": [
    "### Prerequisit\n",
    "Ensure the following paths reflect your local **input** and **output** directories"
   ]
  },
  {
   "cell_type": "code",
   "execution_count": 4,
   "id": "computational-inspiration",
   "metadata": {},
   "outputs": [],
   "source": [
    "data_dir = './'+'input_data/'"
   ]
  },
  {
   "cell_type": "code",
   "execution_count": 5,
   "id": "33d3e6ba",
   "metadata": {},
   "outputs": [],
   "source": [
    "in_data = data_dir + 'gff_data/'"
   ]
  },
  {
   "cell_type": "markdown",
   "id": "83116ccb",
   "metadata": {},
   "source": [
    "List of organisms with available curated gff files"
   ]
  },
  {
   "cell_type": "code",
   "execution_count": 6,
   "id": "c8e53e45",
   "metadata": {},
   "outputs": [
    {
     "data": {
      "text/plain": [
       "['ecoli', 'putida', 'salmonella', 'staph']"
      ]
     },
     "execution_count": 6,
     "metadata": {},
     "output_type": "execute_result"
    }
   ],
   "source": [
    "org_list = [file for file in os.listdir(in_data)]\n",
    "org_list"
   ]
  },
  {
   "cell_type": "code",
   "execution_count": 30,
   "id": "efec11e5",
   "metadata": {},
   "outputs": [],
   "source": [
    "in_dir = in_data + org_list[3]+'/'"
   ]
  },
  {
   "cell_type": "markdown",
   "id": "31d90086",
   "metadata": {},
   "source": [
    "Change the index of organisms accordingly:"
   ]
  },
  {
   "cell_type": "code",
   "execution_count": 31,
   "id": "signed-atmosphere",
   "metadata": {},
   "outputs": [],
   "source": [
    "out_data_venn = '../venn/data/' \n",
    "out_data_table = '../binding_site_table/data/' "
   ]
  },
  {
   "cell_type": "markdown",
   "id": "a1b23191",
   "metadata": {},
   "source": [
    "List of organism with curated gff files"
   ]
  },
  {
   "cell_type": "code",
   "execution_count": 32,
   "id": "nuclear-oliver",
   "metadata": {
    "scrolled": true
   },
   "outputs": [
    {
     "data": {
      "text/plain": [
       "['codY_M9_curated.gff']"
      ]
     },
     "execution_count": 32,
     "metadata": {},
     "output_type": "execute_result"
    }
   ],
   "source": [
    "filelist = [file for file in os.listdir(in_dir)]\n",
    "filelist"
   ]
  },
  {
   "cell_type": "code",
   "execution_count": 33,
   "id": "e830dec3",
   "metadata": {},
   "outputs": [],
   "source": [
    "database = defaultdict(list)"
   ]
  },
  {
   "cell_type": "code",
   "execution_count": 34,
   "id": "important-moral",
   "metadata": {},
   "outputs": [],
   "source": [
    "filelist = [file for file in os.listdir(in_dir)]\n",
    "\n",
    "for i in range(0,len(filelist)):\n",
    "    df = pd.read_csv(path.join(in_dir,filelist[i]),index_col=0, \n",
    "                                 delimiter='\\t', header=None, \n",
    "                                 names = ['ref','condition', 'condition_name', \n",
    "                                          \"binding_peak_start\",'binding_peak_end', \n",
    "                                          'binding_peak_strength', 'direction', '.','ID'])\n",
    "\n",
    "    df = df.set_index(pd.Series(range(1,len(df)+1)))\n",
    "    database[i] = df"
   ]
  },
  {
   "cell_type": "code",
   "execution_count": 35,
   "id": "familiar-community",
   "metadata": {
    "scrolled": true
   },
   "outputs": [
    {
     "data": {
      "text/html": [
       "<div>\n",
       "<style scoped>\n",
       "    .dataframe tbody tr th:only-of-type {\n",
       "        vertical-align: middle;\n",
       "    }\n",
       "\n",
       "    .dataframe tbody tr th {\n",
       "        vertical-align: top;\n",
       "    }\n",
       "\n",
       "    .dataframe thead th {\n",
       "        text-align: right;\n",
       "    }\n",
       "</style>\n",
       "<table border=\"1\" class=\"dataframe\">\n",
       "  <thead>\n",
       "    <tr style=\"text-align: right;\">\n",
       "      <th></th>\n",
       "      <th>condition</th>\n",
       "      <th>condition_name</th>\n",
       "      <th>binding_peak_start</th>\n",
       "      <th>binding_peak_end</th>\n",
       "      <th>binding_peak_strength</th>\n",
       "      <th>direction</th>\n",
       "      <th>.</th>\n",
       "      <th>ID</th>\n",
       "    </tr>\n",
       "  </thead>\n",
       "  <tbody>\n",
       "    <tr>\n",
       "      <th>1</th>\n",
       "      <td>MACE</td>\n",
       "      <td>_filtered_0.95</td>\n",
       "      <td>25225</td>\n",
       "      <td>25265</td>\n",
       "      <td>12.30</td>\n",
       "      <td>+</td>\n",
       "      <td>.</td>\n",
       "      <td>NaN</td>\n",
       "    </tr>\n",
       "    <tr>\n",
       "      <th>2</th>\n",
       "      <td>MACE</td>\n",
       "      <td>_filtered_0.95</td>\n",
       "      <td>34096</td>\n",
       "      <td>34142</td>\n",
       "      <td>1.20</td>\n",
       "      <td>+</td>\n",
       "      <td>.</td>\n",
       "      <td>SFB</td>\n",
       "    </tr>\n",
       "    <tr>\n",
       "      <th>3</th>\n",
       "      <td>MACE</td>\n",
       "      <td>_filtered_0.95</td>\n",
       "      <td>43940</td>\n",
       "      <td>43978</td>\n",
       "      <td>1.34</td>\n",
       "      <td>+</td>\n",
       "      <td>.</td>\n",
       "      <td>SRB</td>\n",
       "    </tr>\n",
       "    <tr>\n",
       "      <th>4</th>\n",
       "      <td>MACE</td>\n",
       "      <td>_filtered_0.95</td>\n",
       "      <td>45184</td>\n",
       "      <td>45215</td>\n",
       "      <td>2.51</td>\n",
       "      <td>+</td>\n",
       "      <td>.</td>\n",
       "      <td>SRB</td>\n",
       "    </tr>\n",
       "    <tr>\n",
       "      <th>5</th>\n",
       "      <td>MACE</td>\n",
       "      <td>_filtered_0.95</td>\n",
       "      <td>52903</td>\n",
       "      <td>52940</td>\n",
       "      <td>0.95</td>\n",
       "      <td>+</td>\n",
       "      <td>.</td>\n",
       "      <td>SRB</td>\n",
       "    </tr>\n",
       "  </tbody>\n",
       "</table>\n",
       "</div>"
      ],
      "text/plain": [
       "  condition   condition_name  binding_peak_start  binding_peak_end  \\\n",
       "1      MACE   _filtered_0.95               25225             25265   \n",
       "2      MACE   _filtered_0.95               34096             34142   \n",
       "3      MACE   _filtered_0.95               43940             43978   \n",
       "4      MACE   _filtered_0.95               45184             45215   \n",
       "5      MACE   _filtered_0.95               52903             52940   \n",
       "\n",
       "   binding_peak_strength direction  .   ID  \n",
       "1                  12.30         +  .  NaN  \n",
       "2                   1.20         +  .  SFB  \n",
       "3                   1.34         +  .  SRB  \n",
       "4                   2.51         +  .  SRB  \n",
       "5                   0.95         +  .  SRB  "
      ]
     },
     "execution_count": 35,
     "metadata": {},
     "output_type": "execute_result"
    }
   ],
   "source": [
    "database[0].head()"
   ]
  },
  {
   "cell_type": "markdown",
   "id": "dramatic-credits",
   "metadata": {},
   "source": [
    "For the next block of code to work, make sure the files are named in the correct format: `<TF>_<CONDITION>_cutared.gff`"
   ]
  },
  {
   "cell_type": "code",
   "execution_count": 36,
   "id": "weekly-portuguese",
   "metadata": {},
   "outputs": [],
   "source": [
    "TF_list =[]\n",
    "TF_condition = []\n",
    "TF_gene_name = []\n",
    "for i in range (0,len(filelist)): \n",
    "    split_file_name = filelist[i].split('_')\n",
    "    \n",
    "    first_upper_case = split_file_name[0].replace(split_file_name[0][0], split_file_name[0][0].upper())\n",
    "    \n",
    "    if len(first_upper_case) == 4:\n",
    "        last_upper_case = first_upper_case.replace(first_upper_case[-1], first_upper_case[-1].upper())\n",
    "    else: last_upper_case = first_upper_case\n",
    "    \n",
    "    TF_list.append(last_upper_case)\n",
    "    \n",
    "    TF_condition.append(split_file_name[1])\n",
    "    \n",
    "    TF_gene_name.append(last_upper_case.lower())"
   ]
  },
  {
   "cell_type": "markdown",
   "id": "86e2a4fb",
   "metadata": {},
   "source": [
    "Check the convention for all TF, gene and conditions:"
   ]
  },
  {
   "cell_type": "code",
   "execution_count": 37,
   "id": "6275bf84",
   "metadata": {},
   "outputs": [
    {
     "data": {
      "text/plain": [
       "['CodY']"
      ]
     },
     "execution_count": 37,
     "metadata": {},
     "output_type": "execute_result"
    }
   ],
   "source": [
    "TF_list[:5]"
   ]
  },
  {
   "cell_type": "code",
   "execution_count": 38,
   "id": "025647f4",
   "metadata": {},
   "outputs": [
    {
     "data": {
      "text/plain": [
       "['M9']"
      ]
     },
     "execution_count": 38,
     "metadata": {},
     "output_type": "execute_result"
    }
   ],
   "source": [
    "TF_condition[:5]"
   ]
  },
  {
   "cell_type": "code",
   "execution_count": 39,
   "id": "a27df88a",
   "metadata": {},
   "outputs": [
    {
     "data": {
      "text/plain": [
       "['cody']"
      ]
     },
     "execution_count": 39,
     "metadata": {},
     "output_type": "execute_result"
    }
   ],
   "source": [
    "TF_gene_name[:5]"
   ]
  },
  {
   "cell_type": "markdown",
   "id": "super-alloy",
   "metadata": {},
   "source": [
    "## Load gene info + Biocyc TRN "
   ]
  },
  {
   "cell_type": "code",
   "execution_count": 55,
   "id": "careful-pillow",
   "metadata": {},
   "outputs": [],
   "source": [
    "# Ecoli data\n",
    "DF_gene_info = pd.read_csv(path.join(data_dir,'ecoli_gene_info.csv'),index_col=0)\n",
    "precise2_TRN = pd.read_csv(path.join(data_dir,'ecoli_trn_precise2.csv'),index_col=0)\n",
    "\n",
    "#Staph data \n",
    "staph_TRN = pd.read_csv(path.join(data_dir,'staph_trn.csv'),index_col=0)\n",
    "staph_gene_info = pd.read_csv(path.join(data_dir,'staph_gene_info.csv'),index_col=0)"
   ]
  },
  {
   "cell_type": "code",
   "execution_count": 56,
   "id": "75cce3ce",
   "metadata": {},
   "outputs": [
    {
     "data": {
      "text/html": [
       "<div>\n",
       "<style scoped>\n",
       "    .dataframe tbody tr th:only-of-type {\n",
       "        vertical-align: middle;\n",
       "    }\n",
       "\n",
       "    .dataframe tbody tr th {\n",
       "        vertical-align: top;\n",
       "    }\n",
       "\n",
       "    .dataframe thead th {\n",
       "        text-align: right;\n",
       "    }\n",
       "</style>\n",
       "<table border=\"1\" class=\"dataframe\">\n",
       "  <thead>\n",
       "    <tr style=\"text-align: right;\">\n",
       "      <th></th>\n",
       "      <th>old_locus_tag</th>\n",
       "      <th>gene_product</th>\n",
       "      <th>start</th>\n",
       "      <th>strand</th>\n",
       "      <th>cog</th>\n",
       "      <th>gene_name</th>\n",
       "      <th>operon</th>\n",
       "      <th>stop</th>\n",
       "      <th>regulator</th>\n",
       "      <th>start_codon_pos</th>\n",
       "    </tr>\n",
       "  </thead>\n",
       "  <tbody>\n",
       "    <tr>\n",
       "      <th>USA300HOU_RS00005</th>\n",
       "      <td>USA300HOU_0001</td>\n",
       "      <td>chromosomal replication initiator protein DnaA</td>\n",
       "      <td>543</td>\n",
       "      <td>+</td>\n",
       "      <td>Replication, recombination and repair</td>\n",
       "      <td>dnaA</td>\n",
       "      <td>dnaA</td>\n",
       "      <td>1905</td>\n",
       "      <td>NaN</td>\n",
       "      <td>543</td>\n",
       "    </tr>\n",
       "    <tr>\n",
       "      <th>USA300HOU_RS00010</th>\n",
       "      <td>USA300HOU_0002</td>\n",
       "      <td>DNA polymerase III subunit beta</td>\n",
       "      <td>2182</td>\n",
       "      <td>+</td>\n",
       "      <td>Replication, recombination and repair</td>\n",
       "      <td>dnaN</td>\n",
       "      <td>dnaN</td>\n",
       "      <td>3316</td>\n",
       "      <td>NaN</td>\n",
       "      <td>2182</td>\n",
       "    </tr>\n",
       "    <tr>\n",
       "      <th>USA300HOU_RS00015</th>\n",
       "      <td>USA300HOU_0003</td>\n",
       "      <td>RNA-binding protein</td>\n",
       "      <td>3696</td>\n",
       "      <td>+</td>\n",
       "      <td>Function unknown</td>\n",
       "      <td>yaaA</td>\n",
       "      <td>yaaA,recF,gyrB,gyrA</td>\n",
       "      <td>3942</td>\n",
       "      <td>NaN</td>\n",
       "      <td>3696</td>\n",
       "    </tr>\n",
       "    <tr>\n",
       "      <th>USA300HOU_RS00020</th>\n",
       "      <td>USA300HOU_0004</td>\n",
       "      <td>DNA replication and repair protein RecF</td>\n",
       "      <td>3938</td>\n",
       "      <td>+</td>\n",
       "      <td>Replication, recombination and repair</td>\n",
       "      <td>recF</td>\n",
       "      <td>yaaA,recF,gyrB,gyrA</td>\n",
       "      <td>5051</td>\n",
       "      <td>NaN</td>\n",
       "      <td>3938</td>\n",
       "    </tr>\n",
       "    <tr>\n",
       "      <th>USA300HOU_RS00025</th>\n",
       "      <td>USA300HOU_0005</td>\n",
       "      <td>DNA gyrase subunit B</td>\n",
       "      <td>5060</td>\n",
       "      <td>+</td>\n",
       "      <td>Replication, recombination and repair</td>\n",
       "      <td>gyrB</td>\n",
       "      <td>yaaA,recF,gyrB,gyrA</td>\n",
       "      <td>6995</td>\n",
       "      <td>NaN</td>\n",
       "      <td>5060</td>\n",
       "    </tr>\n",
       "  </tbody>\n",
       "</table>\n",
       "</div>"
      ],
      "text/plain": [
       "                    old_locus_tag  \\\n",
       "USA300HOU_RS00005  USA300HOU_0001   \n",
       "USA300HOU_RS00010  USA300HOU_0002   \n",
       "USA300HOU_RS00015  USA300HOU_0003   \n",
       "USA300HOU_RS00020  USA300HOU_0004   \n",
       "USA300HOU_RS00025  USA300HOU_0005   \n",
       "\n",
       "                                                     gene_product  start  \\\n",
       "USA300HOU_RS00005  chromosomal replication initiator protein DnaA    543   \n",
       "USA300HOU_RS00010                 DNA polymerase III subunit beta   2182   \n",
       "USA300HOU_RS00015                             RNA-binding protein   3696   \n",
       "USA300HOU_RS00020         DNA replication and repair protein RecF   3938   \n",
       "USA300HOU_RS00025                            DNA gyrase subunit B   5060   \n",
       "\n",
       "                  strand                                    cog gene_name  \\\n",
       "USA300HOU_RS00005      +  Replication, recombination and repair      dnaA   \n",
       "USA300HOU_RS00010      +  Replication, recombination and repair      dnaN   \n",
       "USA300HOU_RS00015      +                       Function unknown      yaaA   \n",
       "USA300HOU_RS00020      +  Replication, recombination and repair      recF   \n",
       "USA300HOU_RS00025      +  Replication, recombination and repair      gyrB   \n",
       "\n",
       "                                operon  stop regulator  start_codon_pos  \n",
       "USA300HOU_RS00005                 dnaA  1905       NaN              543  \n",
       "USA300HOU_RS00010                 dnaN  3316       NaN             2182  \n",
       "USA300HOU_RS00015  yaaA,recF,gyrB,gyrA  3942       NaN             3696  \n",
       "USA300HOU_RS00020  yaaA,recF,gyrB,gyrA  5051       NaN             3938  \n",
       "USA300HOU_RS00025  yaaA,recF,gyrB,gyrA  6995       NaN             5060  "
      ]
     },
     "execution_count": 56,
     "metadata": {},
     "output_type": "execute_result"
    }
   ],
   "source": [
    "# Define start codon position (to account for +/- strands)\n",
    "staph_gene_info['start_codon_pos'] = [row.start if row.strand == '+' else row.stop for idx,row in staph_gene_info.iterrows()]\n",
    "staph_gene_info.head()"
   ]
  },
  {
   "cell_type": "code",
   "execution_count": 57,
   "id": "naval-memorabilia",
   "metadata": {},
   "outputs": [
    {
     "data": {
      "text/html": [
       "<div>\n",
       "<style scoped>\n",
       "    .dataframe tbody tr th:only-of-type {\n",
       "        vertical-align: middle;\n",
       "    }\n",
       "\n",
       "    .dataframe tbody tr th {\n",
       "        vertical-align: top;\n",
       "    }\n",
       "\n",
       "    .dataframe thead th {\n",
       "        text-align: right;\n",
       "    }\n",
       "</style>\n",
       "<table border=\"1\" class=\"dataframe\">\n",
       "  <thead>\n",
       "    <tr style=\"text-align: right;\">\n",
       "      <th></th>\n",
       "      <th>start</th>\n",
       "      <th>stop</th>\n",
       "      <th>strand</th>\n",
       "      <th>gene_name</th>\n",
       "      <th>length</th>\n",
       "      <th>operon</th>\n",
       "      <th>cog</th>\n",
       "      <th>start_codon_pos</th>\n",
       "    </tr>\n",
       "  </thead>\n",
       "  <tbody>\n",
       "    <tr>\n",
       "      <th>b0001</th>\n",
       "      <td>189</td>\n",
       "      <td>255</td>\n",
       "      <td>+</td>\n",
       "      <td>thrL</td>\n",
       "      <td>66</td>\n",
       "      <td>thrLABC</td>\n",
       "      <td>No COG Annotation</td>\n",
       "      <td>189</td>\n",
       "    </tr>\n",
       "    <tr>\n",
       "      <th>b0002</th>\n",
       "      <td>336</td>\n",
       "      <td>2799</td>\n",
       "      <td>+</td>\n",
       "      <td>thrA</td>\n",
       "      <td>2463</td>\n",
       "      <td>thrLABC</td>\n",
       "      <td>No COG Annotation</td>\n",
       "      <td>336</td>\n",
       "    </tr>\n",
       "    <tr>\n",
       "      <th>b0003</th>\n",
       "      <td>2800</td>\n",
       "      <td>3733</td>\n",
       "      <td>+</td>\n",
       "      <td>thrB</td>\n",
       "      <td>933</td>\n",
       "      <td>thrLABC</td>\n",
       "      <td>Amino acid transport and metabolism</td>\n",
       "      <td>2800</td>\n",
       "    </tr>\n",
       "    <tr>\n",
       "      <th>b0004</th>\n",
       "      <td>3733</td>\n",
       "      <td>5020</td>\n",
       "      <td>+</td>\n",
       "      <td>thrC</td>\n",
       "      <td>1287</td>\n",
       "      <td>thrLABC</td>\n",
       "      <td>Amino acid transport and metabolism</td>\n",
       "      <td>3733</td>\n",
       "    </tr>\n",
       "    <tr>\n",
       "      <th>b0005</th>\n",
       "      <td>5233</td>\n",
       "      <td>5530</td>\n",
       "      <td>+</td>\n",
       "      <td>yaaX</td>\n",
       "      <td>297</td>\n",
       "      <td>yaaX</td>\n",
       "      <td>Function unknown</td>\n",
       "      <td>5233</td>\n",
       "    </tr>\n",
       "  </tbody>\n",
       "</table>\n",
       "</div>"
      ],
      "text/plain": [
       "       start  stop strand gene_name  length   operon  \\\n",
       "b0001    189   255      +      thrL      66  thrLABC   \n",
       "b0002    336  2799      +      thrA    2463  thrLABC   \n",
       "b0003   2800  3733      +      thrB     933  thrLABC   \n",
       "b0004   3733  5020      +      thrC    1287  thrLABC   \n",
       "b0005   5233  5530      +      yaaX     297     yaaX   \n",
       "\n",
       "                                       cog  start_codon_pos  \n",
       "b0001                    No COG Annotation              189  \n",
       "b0002                    No COG Annotation              336  \n",
       "b0003  Amino acid transport and metabolism             2800  \n",
       "b0004  Amino acid transport and metabolism             3733  \n",
       "b0005                     Function unknown             5233  "
      ]
     },
     "execution_count": 57,
     "metadata": {},
     "output_type": "execute_result"
    }
   ],
   "source": [
    "# Define start codon position (to account for +/- strands)\n",
    "DF_gene_info['start_codon_pos'] = [row.start if row.strand == '+' else row.stop for idx,row in DF_gene_info.iterrows()]\n",
    "DF_gene_info.head()"
   ]
  },
  {
   "cell_type": "markdown",
   "id": "committed-saturday",
   "metadata": {},
   "source": [
    "## Generate Binding peaks "
   ]
  },
  {
   "cell_type": "markdown",
   "id": "grand-circle",
   "metadata": {},
   "source": [
    "This function assigns bindings peaks for each TF and fins the corresponsing gene targets using the `gene_info.csv` table. "
   ]
  },
  {
   "cell_type": "code",
   "execution_count": 20,
   "id": "documentary-redhead",
   "metadata": {},
   "outputs": [],
   "source": [
    "def annotate_peaks(TF_name, TF_condition, peak_df,margin,gene_info):\n",
    "    \n",
    "    res_df = peak_df.copy()\n",
    "#     TF = peak_df.condition_name[1][:4]\n",
    "    for i,row in res_df.iterrows():\n",
    "        pos = row['binding_peak_start']\n",
    "        # Identify genes within MARGIN nt of binding peak\n",
    "        close_genes = gene_info[(gene_info.start_codon_pos > pos-margin) \n",
    "                                & (gene_info.start_codon_pos < pos+margin)]\n",
    "        for strand,group in close_genes.groupby('strand'):\n",
    "            #Remove genes that are completely transcribed before binding peak\n",
    "            if strand == '+':\n",
    "                group = group[group.stop > pos]\n",
    "            else:\n",
    "                group = group[group.start < pos]\n",
    "\n",
    "            operon = group.operon.unique()\n",
    "            # Ensure that we're only identifying one operon on either side of binding peak\n",
    "#             if len(operon) > 1:\n",
    "#                 print (operon)\n",
    "\n",
    "            # Get all genes in operon\n",
    "            bnums = gene_info[gene_info.operon.isin(operon)].index\n",
    "            \n",
    "            ## Add gene information to dataframe\n",
    "            if strand == '+':\n",
    "                res_df.loc[i,'TU_p'] = ','.join(operon)\n",
    "                res_df.loc[i,'genes_p'] = ','.join(bnums)\n",
    "            else:\n",
    "                res_df.loc[i,'TU_m'] = ','.join(operon)\n",
    "                res_df.loc[i,'genes_m'] = ','.join(bnums)\n",
    "    res_df['index'] = [TF_name +'-' + str(i) for i in range(1,peak_df.shape[0]+1)]\n",
    "    res_df['condition'] = [ TF_name.lower() + \" + \" + TF_condition for i in peak_df.condition_name]\n",
    "#     [peak_df.condition_name[2][:4]+' + '+peak_df.condition_name[1][5:8]]*peak_df.shape[0]\n",
    "    cols = ['index','condition','binding_peak_start','binding_peak_end',\n",
    "            'binding_peak_strength','TU_p','genes_p','TU_m','genes_m']\n",
    "    return res_df.reindex(columns = cols)"
   ]
  },
  {
   "cell_type": "markdown",
   "id": "presidential-fight",
   "metadata": {},
   "source": [
    "## Validate Binding Peaks "
   ]
  },
  {
   "cell_type": "markdown",
   "id": "lucky-dairy",
   "metadata": {},
   "source": [
    "this function validates the accuracy of every gene target from the already indetified gene list for every binding site, identified from the previous function  "
   ]
  },
  {
   "cell_type": "code",
   "execution_count": 21,
   "id": "ac373bc9",
   "metadata": {},
   "outputs": [],
   "source": [
    "def validate2_peak_info(df,gene_info):\n",
    "#     print(df.shape)\n",
    "    locusTag = defaultdict(list)\n",
    "    geneName = defaultdict(list)\n",
    "    for i,row in df.iterrows():\n",
    "        BP = row['binding_peak_start']\n",
    "        idx_name = i\n",
    "        genes = [row['genes_p'] , row['genes_m']]\n",
    "        if ((genes[0] == '') & (genes[1] == '')):\n",
    "            locusTag[idx_name].append('')\n",
    "            geneName[idx_name].append('')\n",
    "        for gene in genes:\n",
    "            if gene == '':\n",
    "                continue \n",
    "            gene_list = gene.split(',')\n",
    "            for g in gene_list: \n",
    "                name = DF_gene_info.loc[g].gene_name \n",
    "                strand = DF_gene_info.loc[g].strand \n",
    "                start = DF_gene_info.loc[g].start\n",
    "                stop = DF_gene_info.loc[g].stop\n",
    "                if ((start > BP) & (stop > BP) & (strand == '+')) | ((start < BP) & (stop < BP) & (strand == '-')):\n",
    "                        locusTag[idx_name].append(g)\n",
    "                        geneName[idx_name].append(name)\n",
    "                elif ((start < BP) & (stop > BP)) | ((start > BP) & (stop < BP)):\n",
    "                    locusTag[idx_name].append(g)\n",
    "                    geneName[idx_name].append(name)\n",
    "                    \n",
    "    for k, v in locusTag.items():\n",
    "        if ((len(v) == 1) & (v[0] == '')): \n",
    "            locusTag[k] = ''\n",
    "            continue\n",
    "        genes = ','.join(locusTag[k])\n",
    "        locusTag[k] = genes\n",
    "\n",
    "    for k, v in geneName.items():\n",
    "        if ((len(v) == 1) & (v[0] == '')): \n",
    "            geneName[k] = ''\n",
    "            continue\n",
    "        genes = ','.join(geneName[k])\n",
    "        geneName[k] = genes\n",
    "\n",
    "    df_complete = df.copy()\n",
    "#     print(df_complete.shape)\n",
    "#     print(len(locusTag.values()))\n",
    "    df_complete['target_locus'] = locusTag.values()\n",
    "    df_complete['target_genes'] = geneName.values()\n",
    "    df_final = df_complete.loc[:,['index','condition','binding_peak_start',\n",
    "                                  'binding_peak_end','binding_peak_strength',\n",
    "                                  'target_locus','target_genes']]\n",
    "    return df_final"
   ]
  },
  {
   "cell_type": "code",
   "execution_count": 22,
   "id": "headed-public",
   "metadata": {},
   "outputs": [],
   "source": [
    "def validate_peak_info(df,gene_info):\n",
    "    locusTag = defaultdict(list)\n",
    "    geneName = defaultdict(list)\n",
    "    for i,row in df.iterrows():\n",
    "        BP = row['binding_peak_start']\n",
    "        idx_name = i\n",
    "        genes = [row['genes_p'] , row['genes_m']]\n",
    "        if ((genes[0] == '') & (genes[1] == '')):\n",
    "            locusTag[idx_name].append('')\n",
    "            geneName[idx_name].append('')\n",
    "        for gene in genes:\n",
    "            if gene == '':\n",
    "                continue \n",
    "            gene_list = gene.split(',')\n",
    "            for g in gene_list: \n",
    "                name = DF_gene_info.loc[g].gene_name \n",
    "                strand = DF_gene_info.loc[g].strand \n",
    "                start = DF_gene_info.loc[g].start\n",
    "                stop = DF_gene_info.loc[g].stop\n",
    "                if ((start > BP) & (stop > BP) & (strand == '+')) | ((start < BP) & (stop < BP) & (strand == '-')):\n",
    "                        locusTag[idx_name].append(g)\n",
    "                        geneName[idx_name].append(name)\n",
    "                elif ((start < BP) & (stop > BP)) | ((start > BP) & (stop < BP)):\n",
    "                    locusTag[idx_name].append(g)\n",
    "                    geneName[idx_name].append(name)\n",
    "                    \n",
    "    for k, v in locusTag.items():\n",
    "        if ((len(v) == 1) & (v[0] == '')): \n",
    "            locusTag[k] = ''\n",
    "            continue\n",
    "        genes = ','.join(locusTag[k])\n",
    "        locusTag[k] = genes\n",
    "\n",
    "    for k, v in geneName.items():\n",
    "        if ((len(v) == 1) & (v[0] == '')): \n",
    "            geneName[k] = ''\n",
    "            continue\n",
    "        genes = ','.join(geneName[k])\n",
    "        geneName[k] = genes\n",
    "\n",
    "    df_complete = df.loc[:,['index','condition','binding_peak_start',\n",
    "                            'binding_peak_end','binding_peak_strength']]\n",
    "#     print(len(locusTag.values()))\n",
    "    df_complete['target_locus'] = locusTag.values()\n",
    "    df_complete['target_genes'] = geneName.values()\n",
    "    return df_complete"
   ]
  },
  {
   "cell_type": "markdown",
   "id": "criminal-reputation",
   "metadata": {},
   "source": [
    "# Venn Diagrams"
   ]
  },
  {
   "cell_type": "markdown",
   "id": "minimal-warning",
   "metadata": {},
   "source": [
    "Make sure to update the list of `TF_names` as Ye adds more gff files into the dropbox"
   ]
  },
  {
   "cell_type": "code",
   "execution_count": 44,
   "id": "artificial-bathroom",
   "metadata": {},
   "outputs": [],
   "source": [
    "TRN_data = defaultdict(list)\n",
    "TF_name = TF_list\n",
    "\n",
    "for i in TF_name: \n",
    "    TRN_data[i] = [x for x in  list(precise2_TRN.gene_name[precise2_TRN.index == i])  if  str(x) != 'nan']"
   ]
  },
  {
   "cell_type": "code",
   "execution_count": 51,
   "id": "431adf5a",
   "metadata": {},
   "outputs": [],
   "source": [
    "staph_TRN_data = defaultdict(list)\n",
    "TF_name = TF_list\n",
    "\n",
    "for i in TF_name: \n",
    "    staph_TRN_data[i] = [x for x in  list(staph_TRN.gene_name[staph_TRN.index == i])  if  str(x) != 'nan']"
   ]
  },
  {
   "cell_type": "code",
   "execution_count": 53,
   "id": "wrapped-arthur",
   "metadata": {},
   "outputs": [],
   "source": [
    "def Venn_data_gen(Peak_DF): \n",
    "    TF_name = Peak_DF['index'][1][:4]\n",
    "    gene_list = [i for i in Peak_DF.target_genes if i != '']\n",
    "    chip_data= ','.join(list(gene_list)).split(',')\n",
    "    reg_data = staph_TRN_data[TF_name]\n",
    "    all_genes = [i  for i in chip_data if i not in reg_data] + reg_data\n",
    "    \n",
    "    \n",
    "    TF = TF_name\n",
    "    reg_genes=reg_data\n",
    "    reg_only = []\n",
    "    chip_genes=chip_data\n",
    "    chip_only = []\n",
    "    shared_genes=[]\n",
    "    for i in all_genes: \n",
    "        if (i in reg_data) & (i not in chip_data):\n",
    "            reg_only.append(i)\n",
    "        elif (i in chip_data) & (i not in reg_data):\n",
    "            chip_only.append(i)\n",
    "        elif (i in chip_data) & (i in reg_data):\n",
    "            shared_genes.append(i)\n",
    "            \n",
    "    values = [TF,\n",
    "          len(reg_genes),\n",
    "          len(reg_only),\n",
    "          len(chip_genes),\n",
    "          len(chip_only),\n",
    "          len(shared_genes),\n",
    "          len(all_genes)]\n",
    "    \n",
    "    index_name = ['TF',\n",
    "              'reg_genes',\n",
    "              'reg_only',\n",
    "              'chip_genes',\n",
    "              'chip_only',\n",
    "              'shared_genes',\n",
    "              'all_genes']\n",
    "    \n",
    "    genes = ['; '.join(precise2_TRN.source[precise2_TRN.index == TF_name].unique()),\n",
    "         reg_genes,\n",
    "         reg_only,\n",
    "         chip_genes,\n",
    "         chip_only,\n",
    "         shared_genes,\n",
    "         all_genes]\n",
    "    \n",
    "    same1 = defaultdict(list)\n",
    "    for i in range(0,len(index_name)):\n",
    "        same1[index_name[i]].append(values[i])\n",
    "\n",
    "    finall = pd.DataFrame.from_dict(same1, orient='index', columns = ['value'])\n",
    "    finall['list'] = genes\n",
    "    for i, row in finall.iterrows(): \n",
    "        if row.value == 0:\n",
    "            finall.list[i] = ''\n",
    "    return finall"
   ]
  },
  {
   "cell_type": "markdown",
   "id": "30a45984",
   "metadata": {},
   "source": [
    "# Generate E. coli Data "
   ]
  },
  {
   "cell_type": "code",
   "execution_count": 27,
   "id": "da429e5b",
   "metadata": {},
   "outputs": [],
   "source": [
    "#Test \n",
    "i = 8\n",
    "peak_annot_DF = annotate_peaks(TF_list[i], TF_condition[i],database[i],500,DF_gene_info).fillna('')\n",
    "final_annot_DF = validate2_peak_info(peak_annot_DF,DF_gene_info)\n",
    "venn_files = Venn_data_gen(final_annot_DF)\n",
    "final_annot_DF.to_json(out_data_table+TF_list[i]+TF_condition[i]+'_binding_table.json',orient='records')\n",
    "venn_files.to_json(path.join(out_data_venn, TF_list[i]+TF_condition[i]+'_venn.json'),orient='records')"
   ]
  },
  {
   "cell_type": "code",
   "execution_count": 28,
   "id": "ff5583bd",
   "metadata": {},
   "outputs": [],
   "source": [
    "x = list(range (0, 5)) + list(range (6, 18))+ list(range (19, 42)) + list(range (43, 51))"
   ]
  },
  {
   "cell_type": "code",
   "execution_count": 29,
   "id": "resistant-marks",
   "metadata": {
    "scrolled": true
   },
   "outputs": [],
   "source": [
    "for i in x: \n",
    "    peak_annot_DF = annotate_peaks(TF_list[i], TF_condition[i],database[i],500,DF_gene_info).fillna('')\n",
    "    final_annot_DF = validate2_peak_info(peak_annot_DF,DF_gene_info)\n",
    "    venn_files = Venn_data_gen(final_annot_DF)\n",
    "    final_annot_DF.to_json(out_data_table+TF_list[i]+'_'+TF_condition[i]+'_binding_table.json',orient='records')\n",
    "    venn_files.to_json(path.join(out_data_venn, TF_list[i]+'_'+TF_condition[i]+'_venn.json'),orient='records')"
   ]
  },
  {
   "cell_type": "markdown",
   "id": "231060c7",
   "metadata": {},
   "source": [
    "# Generate S. aureus Data (Forthcoming)"
   ]
  },
  {
   "cell_type": "code",
   "execution_count": 58,
   "id": "8175618b",
   "metadata": {},
   "outputs": [
    {
     "ename": "TypeError",
     "evalue": "sequence item 1: expected str instance, float found",
     "output_type": "error",
     "traceback": [
      "\u001b[0;31m---------------------------------------------------------------------------\u001b[0m",
      "\u001b[0;31mTypeError\u001b[0m                                 Traceback (most recent call last)",
      "\u001b[0;32m<ipython-input-58-bcf011fb3613>\u001b[0m in \u001b[0;36m<module>\u001b[0;34m\u001b[0m\n\u001b[0;32m----> 1\u001b[0;31m \u001b[0mpeak_annot_DF\u001b[0m \u001b[0;34m=\u001b[0m \u001b[0mannotate_peaks\u001b[0m\u001b[0;34m(\u001b[0m\u001b[0mTF_list\u001b[0m\u001b[0;34m[\u001b[0m\u001b[0;36m0\u001b[0m\u001b[0;34m]\u001b[0m\u001b[0;34m,\u001b[0m \u001b[0mTF_condition\u001b[0m\u001b[0;34m[\u001b[0m\u001b[0;36m0\u001b[0m\u001b[0;34m]\u001b[0m\u001b[0;34m,\u001b[0m\u001b[0mdatabase\u001b[0m\u001b[0;34m[\u001b[0m\u001b[0;36m0\u001b[0m\u001b[0;34m]\u001b[0m\u001b[0;34m,\u001b[0m\u001b[0;36m500\u001b[0m\u001b[0;34m,\u001b[0m\u001b[0mstaph_gene_info\u001b[0m\u001b[0;34m)\u001b[0m\u001b[0;34m.\u001b[0m\u001b[0mfillna\u001b[0m\u001b[0;34m(\u001b[0m\u001b[0;34m''\u001b[0m\u001b[0;34m)\u001b[0m\u001b[0;34m\u001b[0m\u001b[0;34m\u001b[0m\u001b[0m\n\u001b[0m\u001b[1;32m      2\u001b[0m \u001b[0mfinal_annot_DF\u001b[0m \u001b[0;34m=\u001b[0m \u001b[0mvalidate2_peak_info\u001b[0m\u001b[0;34m(\u001b[0m\u001b[0mpeak_annot_DF\u001b[0m\u001b[0;34m,\u001b[0m\u001b[0mstaph_gene_info\u001b[0m\u001b[0;34m)\u001b[0m\u001b[0;34m\u001b[0m\u001b[0;34m\u001b[0m\u001b[0m\n\u001b[1;32m      3\u001b[0m \u001b[0mvenn_files\u001b[0m \u001b[0;34m=\u001b[0m \u001b[0mVenn_data_gen\u001b[0m\u001b[0;34m(\u001b[0m\u001b[0mfinal_annot_DF\u001b[0m\u001b[0;34m)\u001b[0m\u001b[0;34m\u001b[0m\u001b[0;34m\u001b[0m\u001b[0m\n\u001b[1;32m      4\u001b[0m \u001b[0mfinal_annot_DF\u001b[0m\u001b[0;34m.\u001b[0m\u001b[0mto_json\u001b[0m\u001b[0;34m(\u001b[0m\u001b[0mout_data_table\u001b[0m\u001b[0;34m+\u001b[0m\u001b[0mTF_list\u001b[0m\u001b[0;34m[\u001b[0m\u001b[0;36m0\u001b[0m\u001b[0;34m]\u001b[0m\u001b[0;34m+\u001b[0m\u001b[0mTF_condition\u001b[0m\u001b[0;34m[\u001b[0m\u001b[0;36m0\u001b[0m\u001b[0;34m]\u001b[0m\u001b[0;34m+\u001b[0m\u001b[0;34m'_binding_table.json'\u001b[0m\u001b[0;34m,\u001b[0m\u001b[0morient\u001b[0m\u001b[0;34m=\u001b[0m\u001b[0;34m'records'\u001b[0m\u001b[0;34m)\u001b[0m\u001b[0;34m\u001b[0m\u001b[0;34m\u001b[0m\u001b[0m\n\u001b[1;32m      5\u001b[0m \u001b[0mvenn_files\u001b[0m\u001b[0;34m.\u001b[0m\u001b[0mto_json\u001b[0m\u001b[0;34m(\u001b[0m\u001b[0mpath\u001b[0m\u001b[0;34m.\u001b[0m\u001b[0mjoin\u001b[0m\u001b[0;34m(\u001b[0m\u001b[0mout_data_venn\u001b[0m\u001b[0;34m,\u001b[0m \u001b[0mTF_list\u001b[0m\u001b[0;34m[\u001b[0m\u001b[0;36m0\u001b[0m\u001b[0;34m]\u001b[0m\u001b[0;34m+\u001b[0m\u001b[0;34m'_'\u001b[0m\u001b[0;34m+\u001b[0m\u001b[0mTF_condition\u001b[0m\u001b[0;34m[\u001b[0m\u001b[0;36m0\u001b[0m\u001b[0;34m]\u001b[0m\u001b[0;34m+\u001b[0m\u001b[0;34m'_venn.json'\u001b[0m\u001b[0;34m)\u001b[0m\u001b[0;34m,\u001b[0m\u001b[0morient\u001b[0m\u001b[0;34m=\u001b[0m\u001b[0;34m'records'\u001b[0m\u001b[0;34m)\u001b[0m\u001b[0;34m\u001b[0m\u001b[0;34m\u001b[0m\u001b[0m\n",
      "\u001b[0;32m<ipython-input-20-0075afd667b0>\u001b[0m in \u001b[0;36mannotate_peaks\u001b[0;34m(TF_name, TF_condition, peak_df, margin, gene_info)\u001b[0m\n\u001b[1;32m     25\u001b[0m             \u001b[0;31m## Add gene information to dataframe\u001b[0m\u001b[0;34m\u001b[0m\u001b[0;34m\u001b[0m\u001b[0;34m\u001b[0m\u001b[0m\n\u001b[1;32m     26\u001b[0m             \u001b[0;32mif\u001b[0m \u001b[0mstrand\u001b[0m \u001b[0;34m==\u001b[0m \u001b[0;34m'+'\u001b[0m\u001b[0;34m:\u001b[0m\u001b[0;34m\u001b[0m\u001b[0;34m\u001b[0m\u001b[0m\n\u001b[0;32m---> 27\u001b[0;31m                 \u001b[0mres_df\u001b[0m\u001b[0;34m.\u001b[0m\u001b[0mloc\u001b[0m\u001b[0;34m[\u001b[0m\u001b[0mi\u001b[0m\u001b[0;34m,\u001b[0m\u001b[0;34m'TU_p'\u001b[0m\u001b[0;34m]\u001b[0m \u001b[0;34m=\u001b[0m \u001b[0;34m','\u001b[0m\u001b[0;34m.\u001b[0m\u001b[0mjoin\u001b[0m\u001b[0;34m(\u001b[0m\u001b[0moperon\u001b[0m\u001b[0;34m)\u001b[0m\u001b[0;34m\u001b[0m\u001b[0;34m\u001b[0m\u001b[0m\n\u001b[0m\u001b[1;32m     28\u001b[0m                 \u001b[0mres_df\u001b[0m\u001b[0;34m.\u001b[0m\u001b[0mloc\u001b[0m\u001b[0;34m[\u001b[0m\u001b[0mi\u001b[0m\u001b[0;34m,\u001b[0m\u001b[0;34m'genes_p'\u001b[0m\u001b[0;34m]\u001b[0m \u001b[0;34m=\u001b[0m \u001b[0;34m','\u001b[0m\u001b[0;34m.\u001b[0m\u001b[0mjoin\u001b[0m\u001b[0;34m(\u001b[0m\u001b[0mbnums\u001b[0m\u001b[0;34m)\u001b[0m\u001b[0;34m\u001b[0m\u001b[0;34m\u001b[0m\u001b[0m\n\u001b[1;32m     29\u001b[0m             \u001b[0;32melse\u001b[0m\u001b[0;34m:\u001b[0m\u001b[0;34m\u001b[0m\u001b[0;34m\u001b[0m\u001b[0m\n",
      "\u001b[0;31mTypeError\u001b[0m: sequence item 1: expected str instance, float found"
     ]
    }
   ],
   "source": [
    "peak_annot_DF = annotate_peaks(TF_list[0], TF_condition[0],database[0],500,staph_gene_info).fillna('')\n",
    "final_annot_DF = validate2_peak_info(peak_annot_DF,staph_gene_info)\n",
    "venn_files = Venn_data_gen(final_annot_DF)\n",
    "final_annot_DF.to_json(out_data_table+TF_list[0]+TF_condition[0]+'_binding_table.json',orient='records')\n",
    "venn_files.to_json(path.join(out_data_venn, TF_list[0]+'_'+TF_condition[0]+'_venn.json'),orient='records')"
   ]
  }
 ],
 "metadata": {
  "kernelspec": {
   "display_name": "Python 3",
   "language": "python",
   "name": "python3"
  },
  "language_info": {
   "codemirror_mode": {
    "name": "ipython",
    "version": 3
   },
   "file_extension": ".py",
   "mimetype": "text/x-python",
   "name": "python",
   "nbconvert_exporter": "python",
   "pygments_lexer": "ipython3",
   "version": "3.8.3"
  },
  "toc": {
   "base_numbering": 1,
   "nav_menu": {},
   "number_sections": true,
   "sideBar": true,
   "skip_h1_title": false,
   "title_cell": "Table of Contents",
   "title_sidebar": "Contents",
   "toc_cell": false,
   "toc_position": {
    "height": "calc(100% - 180px)",
    "left": "10px",
    "top": "150px",
    "width": "165px"
   },
   "toc_section_display": true,
   "toc_window_display": true
  }
 },
 "nbformat": 4,
 "nbformat_minor": 5
}
