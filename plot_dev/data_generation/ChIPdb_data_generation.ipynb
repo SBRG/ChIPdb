{
 "cells": [
  {
   "cell_type": "markdown",
   "metadata": {},
   "source": [
    "# Table of Contents"
   ]
  },
  {
   "cell_type": "markdown",
   "metadata": {},
   "source": [
    "This notebook generates data used to contruct `binding peak` tables and `venn diagrams` for ChipDB. But before you run the notebook, make sure of the following: \n",
    "\n",
    "1. Concatnate files that contain multiple conditions for the same TF by using the following command on your terminal: `cat /path/prefix* >> new_file`.\n",
    "2. Make sure to rename TF in the gff file to match the TF convention and not gene convension."
   ]
  },
  {
   "cell_type": "code",
   "execution_count": 1,
   "metadata": {},
   "outputs": [],
   "source": [
    "#basics:\n",
    "import numpy as np     \n",
    "import pandas as pd\n",
    "import urllib                      \n",
    "import gzip\n",
    "import os\n",
    "from os import path\n",
    "from collections import defaultdict"
   ]
  },
  {
   "cell_type": "markdown",
   "metadata": {},
   "source": [
    "# Binding Peak Tables"
   ]
  },
  {
   "cell_type": "markdown",
   "metadata": {},
   "source": [
    "## Generate a data objects"
   ]
  },
  {
   "cell_type": "markdown",
   "metadata": {},
   "source": [
    "### Prerequisit\n",
    "Ensure the following paths reflect your local **input** and **output** directories"
   ]
  },
  {
   "cell_type": "code",
   "execution_count": 3,
   "metadata": {},
   "outputs": [],
   "source": [
    "in_data = './input_data/'\n",
    "in_gff = in_data + 'gff_data/'\n",
    "out_data_venn = './output_data/'+'venn_data/'\n",
    "out_data_table = './output_data/'+'table_data/'"
   ]
  },
  {
   "cell_type": "code",
   "execution_count": 4,
   "metadata": {},
   "outputs": [],
   "source": [
    "database = defaultdict(list)"
   ]
  },
  {
   "cell_type": "code",
   "execution_count": 5,
   "metadata": {
    "scrolled": true
   },
   "outputs": [
    {
     "data": {
      "text/plain": [
       "['Ybdo_M9_curated.gff',\n",
       " 'Yjdc_M9_curated.gff',\n",
       " 'Ydip_M9_curated.gff',\n",
       " 'Ycfq_M9_curated.gff',\n",
       " 'Ydcn_M9_curated.gff',\n",
       " 'Ycjw_M9_curated.gff',\n",
       " 'Ycit_M9_curated.gff',\n",
       " 'Ybcm_M9_curated.gff',\n",
       " 'YdcI_ph5_curated.gff',\n",
       " 'Ybaq_M9_curated.gff',\n",
       " 'Ybef_M9_curated.gff',\n",
       " 'Ybhd_M9_curated.gff',\n",
       " 'Ydhb_M9_curated.gff',\n",
       " 'Yiep_M9_curated.gff',\n",
       " 'Yheo_M9_curated.gff',\n",
       " 'YdcI_ph7_curated.gff',\n",
       " 'Yddm_M9_curated.gff',\n",
       " 'Ydcr_M9_curated.gff',\n",
       " 'Ycan_M9_curated.gff',\n",
       " 'Ybao_M9_curated.gff',\n",
       " 'YdcI_ph8_curated.gff',\n",
       " 'Yahb_M9_curated.gff',\n",
       " 'Yeam_M9_curated.gff']"
      ]
     },
     "execution_count": 5,
     "metadata": {},
     "output_type": "execute_result"
    }
   ],
   "source": [
    "filelist = [file for file in os.listdir(in_gff)]\n",
    "filelist"
   ]
  },
  {
   "cell_type": "code",
   "execution_count": 6,
   "metadata": {},
   "outputs": [],
   "source": [
    "filelist = [file for file in os.listdir(in_gff)]\n",
    "\n",
    "for i in range(0,len(filelist)):\n",
    "    df = pd.read_csv(path.join(in_gff,filelist[i]),index_col=0, \n",
    "                                 delimiter='\\t', header=None, \n",
    "                                 names = ['ref','condition', 'condition_name', \n",
    "                                          \"binding_peak_start\",'binding_peak_end', \n",
    "                                          'binding_peak_strength', 'direction', '.','ID'])\n",
    "\n",
    "    df = df.set_index(pd.Series(range(1,len(df)+1)))\n",
    "    database[i] = df"
   ]
  },
  {
   "cell_type": "code",
   "execution_count": 7,
   "metadata": {
    "scrolled": true
   },
   "outputs": [
    {
     "data": {
      "text/html": [
       "<div>\n",
       "<style scoped>\n",
       "    .dataframe tbody tr th:only-of-type {\n",
       "        vertical-align: middle;\n",
       "    }\n",
       "\n",
       "    .dataframe tbody tr th {\n",
       "        vertical-align: top;\n",
       "    }\n",
       "\n",
       "    .dataframe thead th {\n",
       "        text-align: right;\n",
       "    }\n",
       "</style>\n",
       "<table border=\"1\" class=\"dataframe\">\n",
       "  <thead>\n",
       "    <tr style=\"text-align: right;\">\n",
       "      <th></th>\n",
       "      <th>condition</th>\n",
       "      <th>condition_name</th>\n",
       "      <th>binding_peak_start</th>\n",
       "      <th>binding_peak_end</th>\n",
       "      <th>binding_peak_strength</th>\n",
       "      <th>direction</th>\n",
       "      <th>.</th>\n",
       "      <th>ID</th>\n",
       "    </tr>\n",
       "  </thead>\n",
       "  <tbody>\n",
       "    <tr>\n",
       "      <th>1</th>\n",
       "      <td>MACE</td>\n",
       "      <td>_filtered_0.95</td>\n",
       "      <td>145017</td>\n",
       "      <td>145055</td>\n",
       "      <td>4.69</td>\n",
       "      <td>+</td>\n",
       "      <td>.</td>\n",
       "      <td>SFB</td>\n",
       "    </tr>\n",
       "    <tr>\n",
       "      <th>2</th>\n",
       "      <td>MACE</td>\n",
       "      <td>_filtered_0.95</td>\n",
       "      <td>175073</td>\n",
       "      <td>175098</td>\n",
       "      <td>17.10</td>\n",
       "      <td>+</td>\n",
       "      <td>.</td>\n",
       "      <td>GSB</td>\n",
       "    </tr>\n",
       "    <tr>\n",
       "      <th>3</th>\n",
       "      <td>MACE</td>\n",
       "      <td>_filtered_0.95</td>\n",
       "      <td>321471</td>\n",
       "      <td>321496</td>\n",
       "      <td>107.21</td>\n",
       "      <td>+</td>\n",
       "      <td>.</td>\n",
       "      <td>GSB</td>\n",
       "    </tr>\n",
       "    <tr>\n",
       "      <th>4</th>\n",
       "      <td>MACE</td>\n",
       "      <td>_filtered_0.95</td>\n",
       "      <td>601511</td>\n",
       "      <td>601544</td>\n",
       "      <td>3.49</td>\n",
       "      <td>+</td>\n",
       "      <td>.</td>\n",
       "      <td>GSB</td>\n",
       "    </tr>\n",
       "    <tr>\n",
       "      <th>5</th>\n",
       "      <td>MACE</td>\n",
       "      <td>_filtered_0.95</td>\n",
       "      <td>839018</td>\n",
       "      <td>839056</td>\n",
       "      <td>2.49</td>\n",
       "      <td>+</td>\n",
       "      <td>.</td>\n",
       "      <td>SFB</td>\n",
       "    </tr>\n",
       "  </tbody>\n",
       "</table>\n",
       "</div>"
      ],
      "text/plain": [
       "  condition   condition_name  binding_peak_start  binding_peak_end  \\\n",
       "1      MACE   _filtered_0.95              145017            145055   \n",
       "2      MACE   _filtered_0.95              175073            175098   \n",
       "3      MACE   _filtered_0.95              321471            321496   \n",
       "4      MACE   _filtered_0.95              601511            601544   \n",
       "5      MACE   _filtered_0.95              839018            839056   \n",
       "\n",
       "   binding_peak_strength direction  .   ID  \n",
       "1                   4.69         +  .  SFB  \n",
       "2                  17.10         +  .  GSB  \n",
       "3                 107.21         +  .  GSB  \n",
       "4                   3.49         +  .  GSB  \n",
       "5                   2.49         +  .  SFB  "
      ]
     },
     "execution_count": 7,
     "metadata": {},
     "output_type": "execute_result"
    }
   ],
   "source": [
    "database[13].head()"
   ]
  },
  {
   "cell_type": "markdown",
   "metadata": {},
   "source": [
    "For the next block of code to work, make sure the files are named in the correct format: \n",
    "    `\"<TF>_<CONDITION>_cutared.gff\"`. The code will ensure TFs, genes, and conditions are in the correct conventions."
   ]
  },
  {
   "cell_type": "code",
   "execution_count": 8,
   "metadata": {},
   "outputs": [],
   "source": [
    "TF_list =[]\n",
    "TF_condition = []\n",
    "TF_gene_name = []\n",
    "for i in range (0,len(filelist)): \n",
    "    split_file_name = filelist[i].split('_')\n",
    "    \n",
    "    first_upper_case = split_file_name[0].replace(split_file_name[0][0], split_file_name[0][0].upper())\n",
    "    last_upper_case = first_upper_case.replace(first_upper_case[-1], first_upper_case[-1].upper())\n",
    "    TF_list.append(last_upper_case)\n",
    "    \n",
    "    TF_condition.append(split_file_name[1])\n",
    "    \n",
    "    TF_gene_name.append(last_upper_case.lower())"
   ]
  },
  {
   "cell_type": "code",
   "execution_count": 9,
   "metadata": {},
   "outputs": [
    {
     "data": {
      "text/plain": [
       "['YbdO',\n",
       " 'YjdC',\n",
       " 'YdiP',\n",
       " 'YcfQ',\n",
       " 'YdcN',\n",
       " 'YcjW',\n",
       " 'YciT',\n",
       " 'YbcM',\n",
       " 'YdcI',\n",
       " 'YbaQ',\n",
       " 'YbeF',\n",
       " 'YbhD',\n",
       " 'YdhB',\n",
       " 'YieP',\n",
       " 'YheO',\n",
       " 'YdcI',\n",
       " 'YddM',\n",
       " 'YdcR',\n",
       " 'YcaN',\n",
       " 'YbaO',\n",
       " 'YdcI',\n",
       " 'YahB',\n",
       " 'YeaM']"
      ]
     },
     "execution_count": 9,
     "metadata": {},
     "output_type": "execute_result"
    }
   ],
   "source": [
    "TF_list"
   ]
  },
  {
   "cell_type": "markdown",
   "metadata": {},
   "source": [
    "## Load gene info + Biocyc TRN "
   ]
  },
  {
   "cell_type": "code",
   "execution_count": 10,
   "metadata": {},
   "outputs": [],
   "source": [
    "DF_EcoCyc_TF = pd.read_csv(path.join(data_dir,'input_data','trn_EcoCyc.csv'),index_col=0)\n",
    "DF_gene_info = pd.read_csv(path.join(data_dir,'input_data','gene_info.csv'),index_col=0)\n",
    "precise2_TRN = pd.read_csv(path.join(data_dir,'input_data','trn_precise2.csv'),index_col=0)"
   ]
  },
  {
   "cell_type": "code",
   "execution_count": 11,
   "metadata": {},
   "outputs": [
    {
     "data": {
      "text/html": [
       "<div>\n",
       "<style scoped>\n",
       "    .dataframe tbody tr th:only-of-type {\n",
       "        vertical-align: middle;\n",
       "    }\n",
       "\n",
       "    .dataframe tbody tr th {\n",
       "        vertical-align: top;\n",
       "    }\n",
       "\n",
       "    .dataframe thead th {\n",
       "        text-align: right;\n",
       "    }\n",
       "</style>\n",
       "<table border=\"1\" class=\"dataframe\">\n",
       "  <thead>\n",
       "    <tr style=\"text-align: right;\">\n",
       "      <th></th>\n",
       "      <th>start</th>\n",
       "      <th>stop</th>\n",
       "      <th>strand</th>\n",
       "      <th>gene_name</th>\n",
       "      <th>length</th>\n",
       "      <th>operon</th>\n",
       "      <th>cog</th>\n",
       "      <th>start_codon_pos</th>\n",
       "    </tr>\n",
       "  </thead>\n",
       "  <tbody>\n",
       "    <tr>\n",
       "      <th>b0001</th>\n",
       "      <td>189</td>\n",
       "      <td>255</td>\n",
       "      <td>+</td>\n",
       "      <td>thrL</td>\n",
       "      <td>66</td>\n",
       "      <td>thrLABC</td>\n",
       "      <td>No COG Annotation</td>\n",
       "      <td>189</td>\n",
       "    </tr>\n",
       "    <tr>\n",
       "      <th>b0002</th>\n",
       "      <td>336</td>\n",
       "      <td>2799</td>\n",
       "      <td>+</td>\n",
       "      <td>thrA</td>\n",
       "      <td>2463</td>\n",
       "      <td>thrLABC</td>\n",
       "      <td>No COG Annotation</td>\n",
       "      <td>336</td>\n",
       "    </tr>\n",
       "    <tr>\n",
       "      <th>b0003</th>\n",
       "      <td>2800</td>\n",
       "      <td>3733</td>\n",
       "      <td>+</td>\n",
       "      <td>thrB</td>\n",
       "      <td>933</td>\n",
       "      <td>thrLABC</td>\n",
       "      <td>Amino acid transport and metabolism</td>\n",
       "      <td>2800</td>\n",
       "    </tr>\n",
       "    <tr>\n",
       "      <th>b0004</th>\n",
       "      <td>3733</td>\n",
       "      <td>5020</td>\n",
       "      <td>+</td>\n",
       "      <td>thrC</td>\n",
       "      <td>1287</td>\n",
       "      <td>thrLABC</td>\n",
       "      <td>Amino acid transport and metabolism</td>\n",
       "      <td>3733</td>\n",
       "    </tr>\n",
       "    <tr>\n",
       "      <th>b0005</th>\n",
       "      <td>5233</td>\n",
       "      <td>5530</td>\n",
       "      <td>+</td>\n",
       "      <td>yaaX</td>\n",
       "      <td>297</td>\n",
       "      <td>yaaX</td>\n",
       "      <td>Function unknown</td>\n",
       "      <td>5233</td>\n",
       "    </tr>\n",
       "  </tbody>\n",
       "</table>\n",
       "</div>"
      ],
      "text/plain": [
       "       start  stop strand gene_name  length   operon  \\\n",
       "b0001    189   255      +      thrL      66  thrLABC   \n",
       "b0002    336  2799      +      thrA    2463  thrLABC   \n",
       "b0003   2800  3733      +      thrB     933  thrLABC   \n",
       "b0004   3733  5020      +      thrC    1287  thrLABC   \n",
       "b0005   5233  5530      +      yaaX     297     yaaX   \n",
       "\n",
       "                                       cog  start_codon_pos  \n",
       "b0001                    No COG Annotation              189  \n",
       "b0002                    No COG Annotation              336  \n",
       "b0003  Amino acid transport and metabolism             2800  \n",
       "b0004  Amino acid transport and metabolism             3733  \n",
       "b0005                     Function unknown             5233  "
      ]
     },
     "execution_count": 11,
     "metadata": {},
     "output_type": "execute_result"
    }
   ],
   "source": [
    "# Define start codon position (to account for +/- strands)\n",
    "DF_gene_info['start_codon_pos'] = [row.start if row.strand == '+' else row.stop for idx,row in DF_gene_info.iterrows()]\n",
    "DF_gene_info.head()"
   ]
  },
  {
   "cell_type": "markdown",
   "metadata": {},
   "source": [
    "## Generate Binding peaks "
   ]
  },
  {
   "cell_type": "markdown",
   "metadata": {},
   "source": [
    "This function assigns bindings peaks for each TF and fins the corresponsing gene targets using the `gene_info.csv` table. "
   ]
  },
  {
   "cell_type": "code",
   "execution_count": 12,
   "metadata": {},
   "outputs": [],
   "source": [
    "def annotate_peaks(TF_name, TF_condition, peak_df,margin,gene_info):\n",
    "    \n",
    "    res_df = peak_df.copy()\n",
    "#     TF = peak_df.condition_name[1][:4]\n",
    "    for i,row in res_df.iterrows():\n",
    "        pos = row['binding_peak_start']\n",
    "        # Identify genes within MARGIN nt of binding peak\n",
    "        close_genes = gene_info[(gene_info.start_codon_pos > pos-margin) \n",
    "                                & (gene_info.start_codon_pos < pos+margin)]\n",
    "        for strand,group in close_genes.groupby('strand'):\n",
    "            #Remove genes that are completely transcribed before binding peak\n",
    "            if strand == '+':\n",
    "                group = group[group.stop > pos]\n",
    "            else:\n",
    "                group = group[group.start < pos]\n",
    "\n",
    "            operon = group.operon.unique()\n",
    "            # Ensure that we're only identifying one operon on either side of binding peak\n",
    "            if len(operon) > 1:\n",
    "                print (operon)\n",
    "\n",
    "            # Get all genes in operon\n",
    "            bnums = gene_info[gene_info.operon.isin(operon)].index\n",
    "            \n",
    "            ## Add gene information to dataframe\n",
    "            if strand == '+':\n",
    "                res_df.loc[i,'TU_p'] = ','.join(operon)\n",
    "                res_df.loc[i,'genes_p'] = ','.join(bnums)\n",
    "            else:\n",
    "                res_df.loc[i,'TU_m'] = ','.join(operon)\n",
    "                res_df.loc[i,'genes_m'] = ','.join(bnums)\n",
    "    res_df['index'] = [TF_name +'-' + str(i) for i in range(1,peak_df.shape[0]+1)]\n",
    "    res_df['condition'] = [ TF_name.lower() + \" + \" + TF_condition for i in peak_df.condition_name]\n",
    "#     [peak_df.condition_name[2][:4]+' + '+peak_df.condition_name[1][5:8]]*peak_df.shape[0]\n",
    "    cols = ['index','condition','binding_peak_start','binding_peak_end',\n",
    "            'binding_peak_strength','TU_p','genes_p','TU_m','genes_m']\n",
    "    return res_df.reindex(columns = cols)"
   ]
  },
  {
   "cell_type": "markdown",
   "metadata": {},
   "source": [
    "## Validate Binding Peaks "
   ]
  },
  {
   "cell_type": "markdown",
   "metadata": {},
   "source": [
    "this function validates the accuracy of every gene target from the already indetified gene list for every binding site, identified from the previous function  "
   ]
  },
  {
   "cell_type": "code",
   "execution_count": 13,
   "metadata": {},
   "outputs": [],
   "source": [
    "def validate_peak_info(df,gene_info):\n",
    "    locusTag = defaultdict(list)\n",
    "    geneName = defaultdict(list)\n",
    "    for i,row in df.iterrows():\n",
    "        BP = row['binding_peak_start']\n",
    "        idx_name = i\n",
    "        genes = [row['genes_p'] , row['genes_m']]\n",
    "        if ((genes[0] == '') & (genes[1] == '')):\n",
    "            locusTag[idx_name].append('')\n",
    "            geneName[idx_name].append('')\n",
    "        for gene in genes:\n",
    "            if gene == '':\n",
    "                continue \n",
    "            gene_list = gene.split(',')\n",
    "            for g in gene_list: \n",
    "                name = DF_gene_info.loc[g].gene_name \n",
    "                strand = DF_gene_info.loc[g].strand \n",
    "                start = DF_gene_info.loc[g].start\n",
    "                stop = DF_gene_info.loc[g].stop\n",
    "                if ((start > BP) & (stop > BP) & (strand == '+')) | ((start < BP) & (stop < BP) & (strand == '-')):\n",
    "                        locusTag[idx_name].append(g)\n",
    "                        geneName[idx_name].append(name)\n",
    "                elif ((start < BP) & (stop > BP)) | ((start > BP) & (stop < BP)):\n",
    "                    locusTag[idx_name].append(g)\n",
    "                    geneName[idx_name].append(name)\n",
    "                    \n",
    "    for k, v in locusTag.items():\n",
    "        if ((len(v) == 1) & (v[0] == '')): \n",
    "            locusTag[k] = ''\n",
    "            continue\n",
    "        genes = ','.join(locusTag[k])\n",
    "        locusTag[k] = genes\n",
    "\n",
    "    for k, v in geneName.items():\n",
    "        if ((len(v) == 1) & (v[0] == '')): \n",
    "            geneName[k] = ''\n",
    "            continue\n",
    "        genes = ','.join(geneName[k])\n",
    "        geneName[k] = genes\n",
    "\n",
    "    df_complete = df.loc[:,['index','condition','binding_peak_start',\n",
    "                            'binding_peak_end','binding_peak_strength']]\n",
    "    print(locusTag.values())\n",
    "    df_complete['target_locus'] = locusTag.values()\n",
    "    df_complete['target_genes'] = geneName.values()\n",
    "    return df_complete"
   ]
  },
  {
   "cell_type": "markdown",
   "metadata": {},
   "source": [
    "# Venn Diagrams"
   ]
  },
  {
   "cell_type": "markdown",
   "metadata": {},
   "source": [
    "Make sure to update the list of `TF_names` as Ye adds more gff files into the dropbox"
   ]
  },
  {
   "cell_type": "code",
   "execution_count": 14,
   "metadata": {},
   "outputs": [],
   "source": [
    "TRN_data = defaultdict(list)\n",
    "TF_name = TF_list\n",
    "\n",
    "for i in TF_name: \n",
    "    TRN_data[i] = [x for x in  list(precise2_TRN.gene_name[precise2_TRN.index == i])  if  str(x) != 'nan']"
   ]
  },
  {
   "cell_type": "code",
   "execution_count": 15,
   "metadata": {},
   "outputs": [],
   "source": [
    "def Venn_data_gen(Peak_DF): \n",
    "    TF_name = Peak_DF['index'][1][:4]\n",
    "    gene_list = [i for i in Peak_DF.target_genes if i != '']\n",
    "    chip_data= ','.join(list(gene_list)).split(',')\n",
    "    reg_data = TRN_data[TF_name]\n",
    "    all_genes = [i  for i in chip_data if i not in reg_data] + reg_data\n",
    "    \n",
    "    \n",
    "    TF = TF_name\n",
    "    reg_genes=reg_data\n",
    "    reg_only = []\n",
    "    chip_genes=chip_data\n",
    "    chip_only = []\n",
    "    shared_genes=[]\n",
    "    for i in all_genes: \n",
    "        if (i in reg_data) & (i not in chip_data):\n",
    "            reg_only.append(i)\n",
    "        elif (i in chip_data) & (i not in reg_data):\n",
    "            chip_only.append(i)\n",
    "        elif (i in chip_data) & (i in reg_data):\n",
    "            shared_genes.append(i)\n",
    "            \n",
    "    values = [TF,\n",
    "          len(reg_genes),\n",
    "          len(reg_only),\n",
    "          len(chip_genes),\n",
    "          len(chip_only),\n",
    "          len(shared_genes),\n",
    "          len(all_genes)]\n",
    "    \n",
    "    index_name = ['TF',\n",
    "              'reg_genes',\n",
    "              'reg_only',\n",
    "              'chip_genes',\n",
    "              'chip_only',\n",
    "              'shared_genes',\n",
    "              'all_genes']\n",
    "    \n",
    "    genes = ['; '.join(precise2_TRN.source[precise2_TRN.index == TF_name].unique()),\n",
    "         reg_genes,\n",
    "         reg_only,\n",
    "         chip_genes,\n",
    "         chip_only,\n",
    "         shared_genes,\n",
    "         all_genes]\n",
    "    \n",
    "    same1 = defaultdict(list)\n",
    "    for i in range(0,len(index_name)):\n",
    "        same1[index_name[i]].append(values[i])\n",
    "\n",
    "    finall = pd.DataFrame.from_dict(same1, orient='index', columns = ['value'])\n",
    "    finall['list'] = genes\n",
    "    for i, row in finall.iterrows(): \n",
    "        if row.value == 0:\n",
    "            finall.list[i] = ''\n",
    "    return finall"
   ]
  },
  {
   "cell_type": "code",
   "execution_count": 16,
   "metadata": {},
   "outputs": [
    {
     "data": {
      "text/plain": [
       "'Gao2021; Ecocyc'"
      ]
     },
     "execution_count": 16,
     "metadata": {},
     "output_type": "execute_result"
    }
   ],
   "source": [
    "'; '.join(precise2_TRN.source[precise2_TRN.index == 'YdcI'].unique())"
   ]
  },
  {
   "cell_type": "code",
   "execution_count": 17,
   "metadata": {},
   "outputs": [
    {
     "name": "stdout",
     "output_type": "stream",
     "text": [
      "YbdO 4\n",
      "YjdC 0\n",
      "YdiP 5\n",
      "YcfQ 3\n",
      "YdcN 61\n",
      "YcjW 73\n",
      "YciT 49\n",
      "YbcM 12\n",
      "YdcI 21\n",
      "YbaQ 38\n",
      "YbeF 3\n",
      "YbhD 1\n",
      "YdhB 28\n",
      "YieP 6\n",
      "YheO 8\n",
      "YdcI 21\n",
      "YddM 19\n",
      "YdcR 19\n",
      "YcaN 6\n",
      "YbaO 3\n",
      "YdcI 21\n",
      "YahB 3\n",
      "YeaM 4\n"
     ]
    }
   ],
   "source": [
    "for i in TF_list:\n",
    "    print(i,len(TRN_data[i]))"
   ]
  },
  {
   "cell_type": "code",
   "execution_count": 18,
   "metadata": {},
   "outputs": [
    {
     "name": "stdout",
     "output_type": "stream",
     "text": [
      "YddM\n",
      "['tamAB-ytfP' 'chpSB']\n",
      "dict_values(['b0638,b0639,b0640,b0641,b0642', 'b0769,b0768', 'b1189,b1190', '', 'b1477', 'b2218', 'b2664', 'b2687', 'b2822,b2823,b2824', '', 'b3468,b3467', 'b3951,b3952', '', 'b4222,b4224,b4225', '', '', ''])\n"
     ]
    }
   ],
   "source": [
    "i = 16\n",
    "print(TF_list[i])\n",
    "peak_annot_DF = annotate_peaks(TF_list[i], TF_condition[i],database[i],500,DF_gene_info).fillna('')\n",
    "final_annot_DF = validate_peak_info(peak_annot_DF,DF_gene_info)\n",
    "venn_files = Venn_data_gen(final_annot_DF)"
   ]
  },
  {
   "cell_type": "code",
   "execution_count": 21,
   "metadata": {},
   "outputs": [
    {
     "data": {
      "text/html": [
       "<div>\n",
       "<style scoped>\n",
       "    .dataframe tbody tr th:only-of-type {\n",
       "        vertical-align: middle;\n",
       "    }\n",
       "\n",
       "    .dataframe tbody tr th {\n",
       "        vertical-align: top;\n",
       "    }\n",
       "\n",
       "    .dataframe thead th {\n",
       "        text-align: right;\n",
       "    }\n",
       "</style>\n",
       "<table border=\"1\" class=\"dataframe\">\n",
       "  <thead>\n",
       "    <tr style=\"text-align: right;\">\n",
       "      <th></th>\n",
       "      <th>value</th>\n",
       "      <th>list</th>\n",
       "    </tr>\n",
       "  </thead>\n",
       "  <tbody>\n",
       "    <tr>\n",
       "      <th>TF</th>\n",
       "      <td>YddM</td>\n",
       "      <td>Gao2021</td>\n",
       "    </tr>\n",
       "    <tr>\n",
       "      <th>reg_genes</th>\n",
       "      <td>19</td>\n",
       "      <td>[yjjJ, tsr, treC, ytfP, ytfL, pflC, yhhM, lysS...</td>\n",
       "    </tr>\n",
       "    <tr>\n",
       "      <th>reg_only</th>\n",
       "      <td>9</td>\n",
       "      <td>[yjjJ, tsr, treC, ytfL, lysS, gshA, gabP, feaB...</td>\n",
       "    </tr>\n",
       "    <tr>\n",
       "      <th>chip_genes</th>\n",
       "      <td>23</td>\n",
       "      <td>[cobC, nadD, holA, lptE, leuS, ybhH, ybhD, dad...</td>\n",
       "    </tr>\n",
       "    <tr>\n",
       "      <th>chip_only</th>\n",
       "      <td>13</td>\n",
       "      <td>[cobC, nadD, holA, leuS, dadX, csiR, luxS, rec...</td>\n",
       "    </tr>\n",
       "    <tr>\n",
       "      <th>shared_genes</th>\n",
       "      <td>10</td>\n",
       "      <td>[ytfP, pflC, yhhM, ygdB, rcsC, yddM, ybhD, ybh...</td>\n",
       "    </tr>\n",
       "    <tr>\n",
       "      <th>all_genes</th>\n",
       "      <td>32</td>\n",
       "      <td>[cobC, nadD, holA, leuS, dadX, csiR, luxS, rec...</td>\n",
       "    </tr>\n",
       "  </tbody>\n",
       "</table>\n",
       "</div>"
      ],
      "text/plain": [
       "             value                                               list\n",
       "TF            YddM                                            Gao2021\n",
       "reg_genes       19  [yjjJ, tsr, treC, ytfP, ytfL, pflC, yhhM, lysS...\n",
       "reg_only         9  [yjjJ, tsr, treC, ytfL, lysS, gshA, gabP, feaB...\n",
       "chip_genes      23  [cobC, nadD, holA, lptE, leuS, ybhH, ybhD, dad...\n",
       "chip_only       13  [cobC, nadD, holA, leuS, dadX, csiR, luxS, rec...\n",
       "shared_genes    10  [ytfP, pflC, yhhM, ygdB, rcsC, yddM, ybhD, ybh...\n",
       "all_genes       32  [cobC, nadD, holA, leuS, dadX, csiR, luxS, rec..."
      ]
     },
     "execution_count": 21,
     "metadata": {},
     "output_type": "execute_result"
    }
   ],
   "source": [
    "venn_files"
   ]
  },
  {
   "cell_type": "markdown",
   "metadata": {},
   "source": [
    "# Binding Width Histograms"
   ]
  },
  {
   "cell_type": "code",
   "execution_count": 22,
   "metadata": {},
   "outputs": [],
   "source": [
    "def binding_width_gen(peak_df,out_dir): \n",
    "    TF = peak_df.iloc[0,1][0:4]\n",
    "    widths = pd.DataFrame(peak_df.binding_peak_end - peak_df.binding_peak_start + 1, columns=[\"binding_width\"])\n",
    "    widths.to_csv(out_dir+TF+'_widths.csv')"
   ]
  },
  {
   "cell_type": "markdown",
   "metadata": {},
   "source": [
    "# Peak Position Scatter"
   ]
  },
  {
   "cell_type": "code",
   "execution_count": 23,
   "metadata": {},
   "outputs": [],
   "source": [
    "def peak_poisition_gen(final_annot_DF,out_dir): \n",
    "    TF = final_annot_DF.iloc[0,0][0:4]\n",
    "    peak_scatter_df = pd.DataFrame(columns=final_annot_DF.columns.to_list()+['gene'] +['normalized_dist'])\n",
    "    counter=0\n",
    "\n",
    "    for i in range(len(final_annot_DF)):\n",
    "        peak = final_annot_DF.loc[i+1,:]\n",
    "        peak_center = np.mean([peak.binding_peak_start, peak.binding_peak_end])\n",
    "\n",
    "        for gene in peak.target_genes.split(\",\"):\n",
    "            gene_info = DF_gene_info[DF_gene_info.gene_name == gene]\n",
    "            try:\n",
    "                if gene_info.strand[0] == \"-\":\n",
    "                    dist = float((gene_info.stop - peak_center)/gene_info.length)\n",
    "                else:\n",
    "                    dist = float((peak_center - gene_info.start)/gene_info.length)\n",
    "                peak_scatter_df.loc[counter] = peak.to_list()+[gene, dist]\n",
    "                counter+=1\n",
    "            except:\n",
    "                continue\n",
    "\n",
    "    peak_scatter_df['binding_peak_center'] = peak_scatter_df.binding_peak_start/2 + peak_scatter_df.binding_peak_end/2\n",
    "    peak_scatter_df.to_csv(out_dir+TF+'_positions.csv')"
   ]
  },
  {
   "cell_type": "markdown",
   "metadata": {},
   "source": [
    "# Generate the data"
   ]
  },
  {
   "cell_type": "markdown",
   "metadata": {},
   "source": [
    "Run this block if you are ready to generate your data for ChIPdb."
   ]
  },
  {
   "cell_type": "code",
   "execution_count": 24,
   "metadata": {},
   "outputs": [
    {
     "name": "stdout",
     "output_type": "stream",
     "text": [
      "dict_values(['b0603', 'b0719', 'b1908', 'b3043', 'b4365,b4366,b4364'])\n",
      "['yaaY' 'ribF-ileS-lspA-fkpB-ispH']\n",
      "['yaaY' 'ribF-ileS-lspA-fkpB-ispH']\n",
      "['yaaY' 'ribF-ileS-lspA-fkpB-ispH']\n",
      "['ybaN' 'apt']\n",
      "['ybaN' 'apt']\n",
      "['yceQ' 'rluC']\n",
      "['proQ-prc' 'msrC']\n",
      "['ypjD' 'yfjD']\n",
      "['zapA' 'ssrS-fau']\n",
      "['ibsD' 'ibsE']\n",
      "['sspAB' 'rplM-rpsI']\n",
      "['yhdN-zntR' 'rpsMKD-rpoA-rplQ']\n",
      "['rpsMKD-rpoA-rplQ' 'rplNXE-rpsNH-rplFR-rpsE-rpmD-rplO-secY-rpmJ']\n",
      "['rplNXE-rpsNH-rplFR-rpsE-rpmD-rplO-secY-rpmJ'\n",
      " 'rpsJ-rplCDWB-rpsS-rplV-rpsC-rplP-rpmC-rpsQ']\n",
      "['rplNXE-rpsNH-rplFR-rpsE-rpmD-rplO-secY-rpmJ'\n",
      " 'rpsJ-rplCDWB-rpsS-rplV-rpsC-rplP-rpmC-rpsQ']\n",
      "['rpsLG-fusA-tufA' 'yheO-tusDCB']\n",
      "['rpsLG-fusA-tufA' 'yheO-tusDCB']\n",
      "['bcsQ' 'yhjR']\n",
      "['yiaG' 'cspA']\n",
      "['cspA' 'insJ']\n",
      "['glmUS' 'atpIBEFHAGDC']\n",
      "['trxA' 'rhoL-rho']\n",
      "['thiCEFSGH' 'rsd']\n",
      "['yjdQ_2' 'yjdQ_1']\n",
      "['yjdQ_2' 'yjdQ_1']\n",
      "['ecnAB' 'sugE']\n",
      "dict_values(['b0001,b0002,b0003,b0004', 'b0002,b0003,b0004', '', '', '', 'b0003,b0004', 'b0003,b0004', 'b0003,b0004', '', '', 'b0024,b0025,b0026,b0027,b0028,b0029,b0023', 'b0024,b0025,b0026,b0027,b0028,b0029,b0023', 'b0024,b0025,b0026,b0027,b0028,b0029,b0023', 'b0049,b0050,b0051', 'b0055,b0049,b0050,b0051,b0052,b0053,b0054', 'b0055,b0049,b0050,b0051,b0052,b0053,b0054', '', 'b0071,b0072,b0073,b0074', 'b0071,b0072,b0073,b0074', 'b0071,b0072,b0073,b0074,b0075', 'b0081,b0082,b0083,b0084,b0085,b0086,b0087,b0088,b0089,b0090,b0091,b0092,b0093,b0094,b0095,b0096', 'b0081,b0082,b0083,b0084,b0085,b0086,b0087,b0088,b0089,b0090,b0091,b0092,b0093,b0094,b0095,b0096', 'b0082,b0083,b0084,b0085,b0086,b0087,b0088,b0089,b0090,b0091,b0092,b0093,b0094,b0095,b0096', 'b0082,b0083,b0084,b0085,b0086,b0087,b0088,b0089,b0090,b0091,b0092,b0093,b0094,b0095,b0096', 'b0096', 'b0096', 'b0096', 'b0096', 'b0104,b0101,b0102,b0103', 'b0104,b0101,b0102,b0103', 'b0118,b0117', '', '', '', 'b0132,b0131', 'b0142,b0143', 'b0150,b0151,b0152,b0153', 'b0151,b0152,b0153', 'b0156', 'b0169,b0170,b0166,b0167,b0168', 'b0169,b0170', 'b0172', 'b0179,b0180,b0181,b0182,b0183,b0184', 'b0179,b0180,b0181,b0182,b0183,b0184', '', 'b0195', 'b0200,b0197,b0198,b0199', '', '', '', '', '', '', '', '', '', '', '', '', '', '', '', '', '', '', '', '', 'b0207', 'b0217', '', 'b0281', 'b0388,b0389,b0390', 'b0388,b0389,b0390', 'b0456,b0454', 'b0468,b0469,b0466,b0467', 'b0468,b0469,b0466,b0467', 'b0470', 'b0535', 'b0585,b4511,b0586,b0587,b0583,b0584', 'b0585,b4511,b0586,b0587,b0583,b0584', 'b4511,b0586,b0587', 'b0591,b0588,b0589,b0590', 'b0591,b0588,b0589,b0590', 'b0593,b0594,b0595,b0596,b0597,b0592', '', 'b0598', 'b0623', '', '', '', 'b0721,b0722,b0723,b0724,b0726,b0727,b0728,b0729', '', '', '', '', '', '', '', '', '', 'b0781,b0782,b0783,b0784,b0785,b0780', 'b0781,b0782,b0783,b0784,b0785', 'b0817,b0818,b0815', 'b0820,b0819', 'b0820,b0819', '', 'b0884', 'b0907,b0908', '', 'b0910,b0911,b0912', 'b0911,b0912', 'b0911,b0912', 'b0911,b0912', 'b0926,b0927', 'b0926,b0927', 'b0932,b0931', 'b0957', 'b0957', 'b0957', 'b0970', 'b0972,b0973,b0974,b0975,b0976,b0977,b0970', 'b4490_2', 'b1020', 'b1020', 'b1085,b1086,b1084', 'b1088,b1089,b1090,b1091,b1092,b1093,b1094,b1095,b1087', 'b1088,b1089,b1090,b1091,b1092,b1093,b1094,b1095,b1087', 'b1088,b1089,b1090,b1091,b1092,b1093,b1094,b1095,b1087', 'b1089,b1090,b1091,b1092,b1093,b1094,b1095', 'b1090,b1091,b1092,b1093,b1094,b1095', 'b1093,b1094,b1095', 'b1094,b1095', 'b1095', 'b1201,b1198,b1199,b1200', 'b1201,b1198,b1199,b1200', 'b1207', 'b1207,b1208', 'b1229', 'b1229', 'b1237', 'b1252,b1251', 'b4493_2,b4493_1', 'b1418,b4493_2,b4493_1', 'b1418,b4493_2,b4493_1', 'b1521', 'b1521', 'b1661', 'b1667,b1664', 'b1677', 'b1712,b1713,b1714,b1715,b1716,b1717', 'b1712,b1713,b1714,b1715,b1716,b1717,b1718', 'b1712,b1713,b1714,b1715,b1716,b1717,b1718', 'b1712,b1713,b1714,b1715,b1716,b1717,b1718,b1719', 'b1712,b1713,b1714,b1715,b1716,b1717,b1718,b1719', 'b1729', 'b1729', 'b1779,b1780,b1778', 'b1779,b1780,b1778', 'b1833,b1834,b1830,b1831,b1832', 'b1838', 'b1908', 'b1908', 'b1908', '', 'b1978', 'b1985', 'b1985', 'b1988', 'b2042', '', '', '', 'b2155', 'b2172', 'b2181', 'b2185', '', 'b2215', 'b2276,b2277,b2278,b2279,b2280,b2281,b2282,b2283,b2284,b2285,b2286,b2287,b2288', 'b2276,b2277,b2278,b2279,b2280,b2281,b2282,b2283,b2284,b2285,b2286,b2287,b2288', 'b2322', 'b2322', '', '', '', 'b2324,b2323', 'b2349', 'b2378,b2377', 'b2380,b2381,b2382,b2379', 'b2390', 'b2393,b2392', 'b2393,b2392', 'b2400', '', 'b2412', 'b2413,b2412', 'b2414', 'b2414', 'b2415,b2416,b2417', '', '', 'b2416,b2417', 'b2437,b2438,b2439,b2440', '', 'b2448,b2449', 'b2448,b2449', 'b2448,b2449', 'b2450', '', '', 'b2479,b2477,b2478', 'b2496', 'b2496', '', 'b2533,b2532', 'b2533,b2532', 'b2533,b2532', 'b2533,b2532', 'b2556', 'b2556', 'b2570,b2571', 'b2570,b2571,b2572', '', '', '', 'b2587', '', '', '', '', '', '', '', '', '', '', '', '', '', '', '', '', '', '', 'b2606,b2607', 'b2606,b2607', 'b2606,b2607', 'b2606,b2607,b2608,b2609', 'b2606,b2607,b2608,b2609', 'b2611,b2610', 'b2611,b4461', '', 'b2622', 'b2630,b2631', 'b2673,b2674,b2675,b2676', 'b2674,b2675,b2676', 'b2674,b2675,b2676', 'b2675,b2676', 'b2689,b2690', '', '', '', '', '', 'b2741', 'b2741', 'b2741', 'b2741,b2742', '', '', 'b2779,b2780', 'b2790,b2791,b2792', 'b2794,b2793', 'b2794,b2793', 'b2813', 'b2813', 'b2863', 'b2910,b2906,b2907,b2908,b2909', 'b2910,b2906,b2907,b2908,b2909', 'b2910,b2912,b2906,b2907,b2908,b2909', 'b2912', '', '', '', 'b2913', 'b2913', 'b2922', 'b2942', 'b2942', 'b2942', 'b2966,b2965', '', '', '', 'b2968,b2969', 'b2968,b2969', '', 'b3005', 'b3005,b3006', 'b3008,b3005,b3006', 'b3008,b3005,b3006', 'b3008,b3005,b3006', 'b3030,b3031,b3032', 'b3030,b3031,b3032', 'b4664', 'b4664,b4666', 'b4666', '', 'b3065,b3066,b3067,b3064', 'b3065,b3066,b3067,b3064', 'b3066,b3067', 'b3088', 'b3088', 'b3091,b3092', 'b3093,b3091,b3092', '', 'b3131', 'b3162,b4685', 'b3162,b4685', 'b3162,b4685', 'b3162,b4685', 'b3163', 'b3163', 'b3164,b3165', 'b3164,b3165', 'b3172,b3164,b3165,b3166,b3167,b3168,b3169,b3170', 'b3172,b3164,b3165,b3166,b3167,b3168,b3169,b3170', 'b3175', 'b3175', '', '', '', '', 'b3178', 'b3182,b3181', 'b3183,b3184,b3185', 'b3187,b3183,b3184,b3185,b3186', 'b3187,b3183,b3184,b3185,b3186', '', '', '', 'b3211', 'b3211', 'b3211', 'b3212,b3213,b3214,b3211', 'b3212,b3213,b3214', 'b3212,b3213,b3214', 'b3212,b3213,b3214', 'b3212,b3213,b3214', '', '', '', 'b3213,b3214', 'b3213,b3214', 'b3213,b3214', '', '', 'b3228', 'b3228', 'b3228,b3229,b3230', 'b3230,b3231', 'b3230,b3231', 'b3230,b3231', 'b3244', 'b3249,b3250', '', '', '', '', '', '', '', '', '', '', '', '', '', '', '', '', '', '', '', '', '', '', '', 'b3279', 'b3279', 'b3280,b3281,b3282,b3283', 'b3292,b3293,b3294', 'b3294,b3295', 'b3294,b3295', 'b3294,b3295', 'b3294,b3295', 'b3294,b3295', 'b3294,b3295,b3296', 'b3294,b3295,b3296', 'b3294,b3295,b3296', 'b3294,b3295,b3296', 'b3294,b3295,b3296,b3297', 'b3294,b3295,b3296,b3297,b3298', 'b3294,b3295,b3296,b3297,b3298', 'b3294,b3295,b3296,b3297,b3298,b3299,b3300', 'b3299,b3300', 'b3299,b3300', 'b3299,b3300,b3301', 'b3299,b3300,b3301,b3302', 'b3299,b3300,b3301,b3302,b3303', 'b3299,b3300,b3301,b3302,b3303', 'b3299,b3300,b3301,b3302,b3303,b3304', 'b3299,b3300,b3301,b3302,b3303,b3304', 'b3299,b3300,b3301,b3302,b3303,b3304,b3305', 'b3299,b3300,b3301,b3302,b3303,b3304,b3305', 'b3299,b3300,b3301,b3302,b3303,b3304,b3305,b3306', 'b3299,b3300,b3301,b3302,b3303,b3304,b3305,b3306', 'b3299,b3300,b3301,b3302,b3303,b3304,b3305,b3306,b3307', 'b3299,b3300,b3301,b3302,b3303,b3304,b3305,b3306,b3307', 'b3299,b3300,b3301,b3302,b3303,b3304,b3305,b3306,b3307,b3308,b3309', 'b3299,b3300,b3301,b3302,b3303,b3304,b3305,b3306,b3307,b3308,b3309,b3310', 'b3299,b3300,b3301,b3302,b3303,b3304,b3305,b3306,b3307,b3308,b3309,b3310', 'b3299,b3300,b3301,b3302,b3303,b3304,b3305,b3306,b3307,b3308,b3309,b3310,b3311', 'b3299,b3300,b3301,b3302,b3303,b3304,b3305,b3306,b3307,b3308,b3309,b3310,b3311', 'b3311,b3312,b3313', 'b3311,b3312,b3313', 'b3311,b3312,b3313,b3314', 'b3311,b3312,b3313,b3314,b3315,b3316,b3317', 'b3311,b3312,b3313,b3314,b3315,b3316,b3317', 'b3311,b3312,b3313,b3314,b3315,b3316,b3317,b3318,b3319', 'b3311,b3312,b3313,b3314,b3315,b3316,b3317,b3318,b3319,b3320', 'b3311,b3312,b3313,b3314,b3315,b3316,b3317,b3318,b3319,b3320,b3321', 'b3311,b3312,b3313,b3314,b3315,b3316,b3317,b3318,b3319,b3320,b3321', 'b3311,b3312,b3313,b3314,b3315,b3316,b3317,b3318,b3319,b3320,b3321', '', '', 'b3339', 'b3339,b3340', 'b3339,b3340', 'b3339,b3340', 'b3339,b3340', 'b3339,b3340', 'b3339,b3340,b3341,b3342', 'b3339,b3340,b3341,b3342', 'b3339,b3340,b3341,b3342,b3343', 'b3339,b3340,b3341,b3342,b3343', '', 'b3349', 'b3357,b3356', 'b3384,b3385,b3386,b3387,b3388,b3389', 'b3384,b3385,b3386,b3387,b3388,b3389', 'b3423_2,b3423_1,b3424', 'b3434,b3433', 'b3441,b3440', 'b3441,b3440', 'b3454,b3455,b3456,b3457', 'b3460', 'b3460', 'b3461', '', '', 'b3515,b3516', 'b3515,b3516', 'b3521,b3520', 'b3523', 'b3523', '', '', 'b3536,b3537,b3538,b3534,b3535', '', 'b3555,b3556', 'b3556', 'b3556,b3557', 'b3613,b3614', 'b3613,b3614', 'b3635,b3636,b3637', 'b3635,b3636,b3637', 'b3635,b3636,b3637', 'b3649,b3650,b3651,b3652', 'b3649,b3650,b3651,b3652', 'b3650,b3651,b3652', 'b3654,b3653', 'b3662', 'b3667,b3668,b3669,b3670,b3671,b3672', 'b3688,b3686,b3687', 'b3703,b3704', 'b3710', '', '', 'b3729,b3730', 'b3729,b3730,b3731', 'b3731', 'b3731,b3732,b3733,b3734', 'b3731,b3732,b3733,b3734,b3735,b3736', 'b3731,b3732,b3733,b3734,b3735,b3736', 'b3731,b3732,b3733,b3734,b3735,b3736,b3737,b3738', 'b3731,b3732,b3733,b3734,b3735,b3736,b3737,b3738', 'b3731,b3732,b3733,b3734,b3735,b3736,b3737,b3738', 'b3731,b3732,b3733,b3734,b3735,b3736,b3737,b3738,b3739', 'b3754,b3755', '', '', '', '', '', '', '', '', '', '', '', '', '', '', '', '', '', '', 'b4669,b4488_1,b4488_2,b3769,b3770,b3771,b3772,b3765', 'b4488_1,b4488_2,b3769,b3770,b3771,b3772', 'b4488_1,b4488_2,b3769,b3770,b3771,b3772', 'b4488_1,b4488_2,b3769,b3770,b3771,b3772', 'b4488_2,b3769,b3770,b3771,b3772', 'b4488_2,b3769,b3770,b3771,b3772', 'b3774,b3773', 'b3774,b3773', 'b3774', '', '', '', '', '', '', 'b3779', 'b3781,b3783,b3780', 'b3783', 'b3783', '', '', 'b3800', 'b3800', 'b3806,b3802,b3803,b3804,b3805', 'b3806,b3802,b3803,b3804,b3805', 'b3806,b3802,b3803,b3804,b3805', 'b3806,b3802,b3803,b3804,b3805', '', '', 'b3816,b4482', 'b3829,b3828', 'b3829,b3828', 'b3829,b3828', 'b3829', '', '', '', '', '', '', '', '', '', '', '', '', '', '', '', '', '', '', '', '', '', '', '', '', '', '', '', '', '', 'b3871,b3868,b3869,b3870', 'b3871,b3868,b3869,b3870', 'b3871', 'b3931,b3932', 'b3931,b3932', 'b3936,b3935', 'b3949,b3950,b3945,b3946,b3947', 'b3949,b3950,b3945,b3946,b3947', '', '', '', '', '', '', '', '', '', '', '', '', '', '', '', '', '', '', 'b3974', 'b3980,b3974', 'b3980', 'b3980', 'b3980', '', 'b3981,b3982', 'b3981,b3982', 'b3981,b3982', 'b3981,b3982', 'b3983,b3984,b3985,b3986,b3987,b3988', 'b3983,b3984,b3985,b3986,b3987,b3988', 'b3984,b3985,b3986,b3987,b3988', 'b3984,b3985,b3986,b3987,b3988', 'b3984,b3985,b3986,b3987,b3988', 'b3985,b3986,b3987,b3988', 'b3985,b3986,b3987,b3988', 'b3985,b3986,b3987,b3988', 'b3985,b3986,b3987,b3988', 'b3987,b3988', '', '', '', 'b3990,b3991', 'b3990,b3991,b4407,b3992,b3993,b3994', 'b3996,b3997,b3998,b3990,b3991,b4407,b3992,b3993,b3994,b3995', 'b4005,b4006', 'b4005,b4006', '', '', '', '', '', '', '', '', '', '', '', '', '', 'b4011', 'b4011', 'b4014,b4015,b4016', '', 'b4014,b4015,b4016', 'b4015,b4016', 'b4016', 'b4016', 'b4019,b4018', 'b4019,b4018', '', '', 'b4024', 'b4024', 'b4059,b4058', '', 'b4111', 'b4111', '', 'b4654_2,b4654_1', 'b4654_2,b4654_1', '', 'b4411,b4148', 'b4148', '', 'b4670', 'b4171,b4172,b4173,b4174,b4175', 'b4171,b4172,b4173,b4174,b4175', 'b4173,b4174,b4175', 'b4176', 'b4177', 'b4177', '', '', '', 'b4178,b4179,b4180,b4181,b4182', 'b4178,b4179,b4180,b4181,b4182', 'b4200,b4201,b4202,b4203,b4199', 'b4200,b4201,b4202,b4203', 'b4201,b4202,b4203', 'b4239,b4240', 'b4242,b4241', 'b4242,b4241', 'b4244,b4245,b4246', 'b4244,b4245,b4246', '', 'b4271,b4269', 'b4292,b4293', 'b4294,b4292,b4293', 'b4322,b4323,b4321', '', '', '', '', 'b4567,b4367', 'b4567,b4367', 'b4567,b4367', 'b4567,b4367', '', '', 'b4382,b4383,b4384', 'b4382,b4383,b4384', 'b4402,b4401', 'b4402,b4401'])\n"
     ]
    },
    {
     "name": "stdout",
     "output_type": "stream",
     "text": [
      "dict_values(['b0721,b0722,b0723,b0724,b0726,b0727,b0728,b0729,b0720', 'b1521', 'b3172,b3164,b3165,b3166,b3167,b3168,b3169,b3170', 'b3175', 'b3556', ''])\n",
      "dict_values(['b3556', 'b3829,b3828', 'b4322,b4323,b4321'])\n",
      "['pdeB' 'ylaC']\n",
      "['ydhR' 'ydhS']\n",
      "dict_values(['b0034', '', 'b0217', 'b0281', 'b0457,b0458', 'b0527', 'b0601', '', 'b0771', 'b0792,b0793,b0794,b0795', 'b0826', '', 'b0923,b0924', '', 'b1197', 'b1201,b1198,b1199,b1200', 'b1221,b1222', 'b1418,b4493_2,b4493_1', 'b1434,b1433', 'b1521', '', '', 'b1661', 'b1667,b1668', 'b1722', 'b2099,b2100', '', '', 'b2448,b2449', '', '', 'b2513', 'b2570,b2571', '', 'b2890,b2891_2,b2891_1,b2892,b2893', 'b2970', 'b2988', '', 'b3062,b3063', '', '', 'b3228', 'b3228,b3229', 'b3228,b3229', 'b3255,b3256', '', 'b3540,b3541,b3542,b3543,b3544', 'b3556', 'b3623,b3624,b3625,b3626,b3627,b3628,b3629,b3630', '', '', 'b3990,b3991,b4407,b3992,b3993', 'b4084', 'b4135', 'b4322,b4323,b4321', ''])\n",
      "['allA' 'allR']\n",
      "['insH-8' 'yejO']\n",
      "dict_values(['', 'b0066,b0067', 'b0114,b0115,b0116', 'b0144,b0145', 'b0151,b0152,b0153', 'b0231,b0232,b0233,b0234', 'b0414,b0415,b0416,b0417,b0418', 'b0459', 'b0505,b0506,b0504', '', 'b0611', 'b0731,b0732', 'b0767,b0766', 'b0897', '', 'b0984,b0985', '', '', 'b1224,b1225,b1226,b1227', 'b1276', 'b1309,b1310,b1311,b1312,b1313,b1314,b1315,b1316,b1317', 'b1310,b1311,b1312,b1313,b1314,b1315,b1316,b1317', 'b1316,b1317', 'b1395,b1396,b1397,b1398', 'b1515,b1516,b1517,b1518,b1519', 'b1539,b1538', 'b1559,b1560', '', '', '', '', 'b2072', 'b2114,b2113', 'b2193,b2190_2,b2192,b2190_1', '', 'b2306,b2307,b2308,b2309,b2310', 'b2314,b2315', '', '', 'b2715,b2716,b2714', 'b2750,b2751,b2752', 'b2762,b2763', 'b2765,b2762,b2763,b2764', 'b2765,b2762,b2763,b2764', 'b2769', 'b2922', 'b2990,b2991,b2992,b2993', 'b3003,b3002', 'b3023', 'b3172', 'b3207', '', 'b3220', 'b3368', 'b3408,b3409,b3410', 'b3416,b3417', '', '', 'b3710', 'b3783', '', 'b3806', '', '', '', '', 'b4085,b4086,b4087,b4088', '', 'b4226', 'b4233,b4232', 'b4300,b4301,b4302,b4303', 'b4314,b4315,b4316,b4317,b4318,b4319,b4320', 'b4354', ''])\n",
      "['rpiA' 'yqfE']\n",
      "dict_values(['b0258', 'b0258', 'b0419', 'b0436', '', 'b0808', '', 'b0821', 'b0822', 'b0825,b0823,b0824', 'b0854,b0855,b0856,b0857', 'b0854,b0855,b0856,b0857', 'b0894,b0895,b0896', 'b0907,b0908', '', 'b1042,b1043', 'b1078,b1079,b1080,b1081', '', 'b4672,b1285', '', 'b1521', 'b1853,b1852', '', 'b2063,b2058,b2059,b2060,b2061,b2062', 'b2289', '', 'b2340', 'b2361,b2362,b2363', 'b2369,b2370,b2367,b2368', '', 'b2448,b2449', 'b2450', '', 'b2504,b2503', 'b2702,b2703,b2704,b2705,b2706,b2707,b2708,b2701', 'b2916,b2914,b2915', 'b3136,b3137,b3138,b3139,b3140,b3141', 'b3158,b3159,b3156,b3157', 'b3188', 'b3324,b3325,b3326,b3327,b3328,b3329,b3330,b3331,b3332,b3333,b3334,b3335', 'b3376,b3377,b3378', 'b3397', '', 'b4476,b3437', 'b3589', 'b3749,b3750,b3751,b3752,b3753', 'b4109,b4110,b4108', 'b4190,b4189', 'b4193,b4194,b4195,b4196,b4197,b4198,b4192', 'b4295', '', 'b4342', 'b4567,b4367', 'b4381,b4382,b4383,b4384,b4380'])\n",
      "dict_values(['b0151,b0152,b0153', 'b0281', 'b0448,b0449', 'b0545,b0546', 'b1201,b1198,b1199,b1200', 'b1521', 'b2289', 'b2426', 'b2448,b2449', 'b2450', 'b2951,b2952,b2953,b2954,b2955,b2950', 'b3093,b3091,b3092', 'b3158,b3159,b3156,b3157', 'b3503'])\n",
      "['holE' 'yobB-exoX']\n",
      "dict_values(['b0019,b0020,b0018,b4412', 'b0382,b0381', 'b0720', 'b0770', 'b1363', 'b1521', 'b1634', 'b1823,b1824', 'b1842,b1843,b1844,b1839,b1840,b1841', 'b2152', '', 'b3710', 'b3766,b4669,b4488_1,b4488_2,b3769,b3770,b3771,b3772,b3765', 'b3800', 'b4077'])\n",
      "['ecnAB' 'sugE']\n",
      "dict_values(['', 'b0042,b0043,b0044', '', 'b0245,b0246,b4504,b0247', 'b0347,b0348,b0349,b0350,b0351,b0352,b0345,b0346', 'b0433', 'b0477,b0476', '', 'b0515,b0516', '', '', 'b0962,b0960,b0961', '', '', 'b1456,b1457', 'b1628,b1629,b1630,b1631,b1632,b1633', 'b1896', 'b2134', '', 'b4500', '', '', 'b2574', 'b2731', 'b2766,b2767,b2768', 'b2822,b2823,b2824,b2825', 'b2822,b2823,b2824,b2825', '', '', 'b2990,b2991,b2992,b2993,b2994,b2995', 'b3052', 'b3068', 'b3144,b3145', 'b3240,b3241', 'b3384', '', '', '', 'b3710', 'b4411,b4148', '', 'b4375'])\n",
      "dict_values(['b0826', 'b2580,b2579', ''])\n",
      "dict_values(['b0460,b0461', '', '', 'b4059,b4058'])\n",
      "['frwCB' 'pflDC']\n",
      "dict_values(['b0591,b0588,b0589,b0590', 'b0938,b0933,b0934,b0935,b0936,b0937', 'b1201,b1198,b1199,b1200', 'b1242,b1241', '', 'b1521', 'b1636,b1637,b1638', 'b1660', 'b1843,b1844', 'b2448,b2449', 'b2450', 'b2632,b2633', '', 'b3093,b3091,b3092', 'b3175', 'b3189,b3190', 'b3364,b3363', 'b4660_2', 'b3547', 'b3547', 'b3556', 'b3710', '', 'b3915', 'b3949,b3950,b3951,b3952', 'b4242,b4241', '', 'b4313'])\n",
      "dict_values(['b0130', 'b0155,b0154', 'b0306,b0307,b0308', 'b0576', 'b0804', 'b1206', 'b4460,b1900,b1901', 'b2098,b2099,b2100,b2097', 'b2141,b2142,b2140', '', 'b2414', 'b2796,b2797', 'b3426,b3423_2,b3423_1,b3424,b3425', 'b3515', 'b3515,b3516', 'b3710', 'b4032', ''])\n",
      "dict_values(['b0151,b0152,b0153', 'b0628', 'b0628', 'b1381,b1382,b1383,b1380', 'b1429,b1430,b1428', 'b2296,b2297,b2295', 'b2296,b2297,b2295', 'b3710'])\n",
      "['holE' 'yobB-exoX']\n",
      "dict_values(['b0019,b0020,b0018,b4412', 'b0281', 'b0382,b0381', 'b0720', 'b1634', '', 'b1842,b1843,b1844,b1839,b1840,b1841', '', 'b2448,b2449', '', 'b3603,b3604,b3605', 'b3710', 'b3800', 'b4077'])\n",
      "['tamAB-ytfP' 'chpSB']\n",
      "dict_values(['b0638,b0639,b0640,b0641,b0642', 'b0769,b0768', 'b1189,b1190', '', 'b1477', 'b2218', 'b2664', 'b2687', 'b2822,b2823,b2824', '', 'b3468,b3467', 'b3951,b3952', '', 'b4222,b4224,b4225', '', '', ''])\n",
      "['ylaC' 'maa']\n",
      "['hicAB' 'ydcR']\n",
      "dict_values(['b0001,b0002,b0003,b0004', 'b0458,b0459', 'b1375', 'b1438,b1439', 'b1461', 'b1544,b4600_2', 'b1678', 'b1770', 'b1823,b1824', 'b1987', 'b2371,b2372,b2373', '', 'b2975', 'b3243,b3240,b3241,b3242', 'b3475', '', 'b3645', 'b3656', '', 'b4296'])\n",
      "dict_values(['b0623', 'b1754,b1755,b1756', 'b2580,b2579', 'b3783', ''])\n",
      "['decR' 'mdlAB']\n",
      "dict_values(['b0447,b0448,b0449', 'b4470,b3110'])\n",
      "['holE' 'yobB-exoX']\n",
      "dict_values(['b0019,b0020,b0018,b4412', 'b0076,b0071,b0072,b0073,b0074,b0075', 'b0281', 'b0382,b0381', 'b0720', 'b0770', 'b1418,b4493_2,b4493_1', 'b1634', 'b1823,b1824', 'b1842,b1843,b1844,b1839,b1840,b1841', 'b4496_1,b4496_2,b1962,b1963', 'b2210', '', 'b3267', 'b3603,b3604,b3605', 'b3646', 'b3710', 'b3800', 'b4077', 'b4077', 'b4145'])\n",
      "dict_values(['b3065,b3066,b3067,b3064', 'b3172,b3164,b3165,b3166,b3167,b3168,b3169,b3170', 'b3211'])\n",
      "dict_values(['b1201,b1198,b1199,b1200', 'b1791,b1790', 'b3800'])\n"
     ]
    }
   ],
   "source": [
    "for i in range (0, len(database)): \n",
    "    peak_annot_DF = annotate_peaks(TF_list[i], TF_condition[i],database[i],500,DF_gene_info).fillna('')\n",
    "    final_annot_DF = validate_peak_info(peak_annot_DF,DF_gene_info)\n",
    "    venn_files = Venn_data_gen(final_annot_DF)\n",
    "    final_annot_DF.to_json(out_data_table+TF_list[i]+'_binding_table.json',orient='records')\n",
    "    venn_files.to_json(path.join(out_data_venn, TF_list[i]+'_venn.json'),orient='records')\n",
    "    binding_width_gen(database[i], '../../data/e_coli/NC_000913_3/binding_widths/')\n",
    "    peak_poisition_gen(final_annot_DF, '../../data/e_coli/NC_000913_3/positions/')"
   ]
  }
 ],
 "metadata": {
  "kernelspec": {
   "display_name": "Python 3",
   "language": "python",
   "name": "python3"
  },
  "language_info": {
   "codemirror_mode": {
    "name": "ipython",
    "version": 3
   },
   "file_extension": ".py",
   "mimetype": "text/x-python",
   "name": "python",
   "nbconvert_exporter": "python",
   "pygments_lexer": "ipython3",
   "version": "3.7.6"
  },
  "toc": {
   "base_numbering": 1,
   "nav_menu": {},
   "number_sections": true,
   "sideBar": true,
   "skip_h1_title": false,
   "title_cell": "Table of Contents",
   "title_sidebar": "Contents",
   "toc_cell": false,
   "toc_position": {
    "height": "calc(100% - 180px)",
    "left": "10px",
    "top": "150px",
    "width": "165px"
   },
   "toc_section_display": true,
   "toc_window_display": true
  }
 },
 "nbformat": 4,
 "nbformat_minor": 5
}
