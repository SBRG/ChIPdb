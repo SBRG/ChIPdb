{
 "cells": [
  {
   "cell_type": "markdown",
   "metadata": {},
   "source": [
    "# Table of Contents"
   ]
  },
  {
   "cell_type": "markdown",
   "metadata": {},
   "source": [
    "This notebook generates data used to contruct `binding peak` tables and `venn diagrams` for ChipDB. But before you run the notebook, make sure of the following: \n",
    "\n",
    "1. Concatnate files that contain multiple conditions for the same TF by using the following command on your terminal: `cat /path/prefix* >> new_file`.\n",
    "2. Make sure to rename TF in the gff file to match the TF convention and not gene convension."
   ]
  },
  {
   "cell_type": "code",
   "execution_count": 1,
   "metadata": {},
   "outputs": [],
   "source": [
    "#basics:\n",
    "import numpy as np     \n",
    "import pandas as pd\n",
    "import urllib                      \n",
    "import gzip\n",
    "import os\n",
    "from os import path\n",
    "from collections import defaultdict"
   ]
  },
  {
   "cell_type": "markdown",
   "metadata": {},
   "source": [
    "# Binding Peak Tables"
   ]
  },
  {
   "cell_type": "markdown",
   "metadata": {},
   "source": [
    "## Generate a data objects"
   ]
  },
  {
   "cell_type": "markdown",
   "metadata": {},
   "source": [
    "### Prerequisit\n",
    "Ensure the following paths reflect your local **input** and **output** directories"
   ]
  },
  {
   "cell_type": "code",
   "execution_count": 2,
   "metadata": {},
   "outputs": [
    {
     "ename": "NameError",
     "evalue": "name 'abspath' is not defined",
     "output_type": "error",
     "traceback": [
      "\u001b[0;31m---------------------------------------------------------------------------\u001b[0m",
      "\u001b[0;31mNameError\u001b[0m                                 Traceback (most recent call last)",
      "\u001b[0;32m<ipython-input-2-4d7147ee849a>\u001b[0m in \u001b[0;36m<module>\u001b[0;34m\u001b[0m\n\u001b[0;32m----> 1\u001b[0;31m \u001b[0mdata_dir\u001b[0m \u001b[0;34m=\u001b[0m \u001b[0mabspath\u001b[0m\u001b[0;34m(\u001b[0m\u001b[0mjoin\u001b[0m\u001b[0;34m(\u001b[0m\u001b[0;34m'..'\u001b[0m\u001b[0;34m,\u001b[0m\u001b[0;34m'plot_dev'\u001b[0m\u001b[0;34m,\u001b[0m \u001b[0;34m'data_generation'\u001b[0m\u001b[0;34m)\u001b[0m\u001b[0;34m)\u001b[0m\u001b[0;34m\u001b[0m\u001b[0;34m\u001b[0m\u001b[0m\n\u001b[0m",
      "\u001b[0;31mNameError\u001b[0m: name 'abspath' is not defined"
     ]
    }
   ],
   "source": [
    "data_dir = abspath(join('..','plot_dev', 'data_generation'))"
   ]
  },
  {
   "cell_type": "code",
   "execution_count": 3,
   "metadata": {},
   "outputs": [
    {
     "ename": "NameError",
     "evalue": "name 'join' is not defined",
     "output_type": "error",
     "traceback": [
      "\u001b[0;31m---------------------------------------------------------------------------\u001b[0m",
      "\u001b[0;31mNameError\u001b[0m                                 Traceback (most recent call last)",
      "\u001b[0;32m<ipython-input-3-ff166c73d82e>\u001b[0m in \u001b[0;36m<module>\u001b[0;34m\u001b[0m\n\u001b[0;32m----> 1\u001b[0;31m \u001b[0min_data\u001b[0m \u001b[0;34m=\u001b[0m \u001b[0mjoin\u001b[0m\u001b[0;34m(\u001b[0m\u001b[0mdata_dir\u001b[0m\u001b[0;34m,\u001b[0m \u001b[0;34m'input_data'\u001b[0m\u001b[0;34m)\u001b[0m\u001b[0;34m\u001b[0m\u001b[0;34m\u001b[0m\u001b[0m\n\u001b[0m\u001b[1;32m      2\u001b[0m \u001b[0min_gff\u001b[0m \u001b[0;34m=\u001b[0m \u001b[0mjoin\u001b[0m\u001b[0;34m(\u001b[0m\u001b[0min_data\u001b[0m\u001b[0;34m,\u001b[0m \u001b[0;34m'gff_data'\u001b[0m\u001b[0;34m)\u001b[0m\u001b[0;34m\u001b[0m\u001b[0;34m\u001b[0m\u001b[0m\n\u001b[1;32m      3\u001b[0m \u001b[0mout_data_venn\u001b[0m \u001b[0;34m=\u001b[0m \u001b[0mjoin\u001b[0m\u001b[0;34m(\u001b[0m\u001b[0mdata_dir\u001b[0m\u001b[0;34m,\u001b[0m \u001b[0;34m'output_data'\u001b[0m\u001b[0;34m,\u001b[0m\u001b[0;34m'venn_data'\u001b[0m\u001b[0;34m)\u001b[0m\u001b[0;34m\u001b[0m\u001b[0;34m\u001b[0m\u001b[0m\n\u001b[1;32m      4\u001b[0m \u001b[0mout_data_table\u001b[0m \u001b[0;34m=\u001b[0m \u001b[0mjoin\u001b[0m\u001b[0;34m(\u001b[0m\u001b[0mdata_dir\u001b[0m\u001b[0;34m,\u001b[0m \u001b[0;34m'output_data'\u001b[0m\u001b[0;34m,\u001b[0m\u001b[0;34m'table_data'\u001b[0m\u001b[0;34m)\u001b[0m\u001b[0;34m\u001b[0m\u001b[0;34m\u001b[0m\u001b[0m\n",
      "\u001b[0;31mNameError\u001b[0m: name 'join' is not defined"
     ]
    }
   ],
   "source": [
    "in_data = join(data_dir, 'input_data')\n",
    "in_gff = join(in_data, 'gff_data')\n",
    "out_data_venn = join(data_dir, 'output_data','venn_data')\n",
    "out_data_table = join(data_dir, 'output_data','table_data')"
   ]
  },
  {
   "cell_type": "code",
   "execution_count": 17,
   "metadata": {},
   "outputs": [],
   "source": [
    "database = defaultdict(list)"
   ]
  },
  {
   "cell_type": "code",
   "execution_count": 18,
   "metadata": {},
   "outputs": [],
   "source": [
    "filelist = [file for file in os.listdir(int_dir)]\n",
    "\n",
    "for i in range(0,len(filelist)):\n",
    "    df = pd.read_csv(path.join(int_dir,filelist[i]),index_col=0, \n",
    "                                 delimiter='\\t', header=None, \n",
    "                                 names = ['ref','condition', 'condition_name', \n",
    "                                          \"binding_peak_start\",'binding_peak_end', \n",
    "                                          'binding_peak_strength', 'direction', '.','ID'])\n",
    "\n",
    "    df = df.set_index(pd.Series(range(1,len(df)+1)))\n",
    "    database[i] = df"
   ]
  },
  {
   "cell_type": "code",
   "execution_count": 19,
   "metadata": {},
   "outputs": [],
   "source": [
    "TF_list =[]\n",
    "TF_gene = []\n",
    "for i in range (0,len(database)): \n",
    "    TF_list.append(database[i].condition_name[1][:4])\n",
    "    TF_gene.append(database[i].condition_name[2][:4])"
   ]
  },
  {
   "cell_type": "code",
   "execution_count": 31,
   "metadata": {},
   "outputs": [
    {
     "data": {
      "text/plain": [
       "['YheO',\n",
       " 'YbiH',\n",
       " 'YbaQ',\n",
       " 'YdcI',\n",
       " 'YbaO',\n",
       " 'YieP',\n",
       " 'Yagi',\n",
       " 'YiaJ',\n",
       " 'YddM',\n",
       " 'YafC',\n",
       " 'YeiE']"
      ]
     },
     "execution_count": 31,
     "metadata": {},
     "output_type": "execute_result"
    }
   ],
   "source": [
    "TF_list"
   ]
  },
  {
   "cell_type": "markdown",
   "metadata": {},
   "source": [
    "## Load gene info + Biocyc TRN "
   ]
  },
  {
   "cell_type": "code",
   "execution_count": 20,
   "metadata": {},
   "outputs": [],
   "source": [
    "DF_EcoCyc_TF = pd.read_csv(path.join(data_dir,'ecocyc_trn_data.csv'),index_col=0)\n",
    "DF_gene_info = pd.read_csv(path.join(data_dir,'gene_info.csv'),index_col=0)\n",
    "precise2_TRN = pd.read_csv(path.join(data_dir,'TRN.csv'),index_col=0)"
   ]
  },
  {
   "cell_type": "code",
   "execution_count": 21,
   "metadata": {},
   "outputs": [
    {
     "data": {
      "text/html": [
       "<div>\n",
       "<style scoped>\n",
       "    .dataframe tbody tr th:only-of-type {\n",
       "        vertical-align: middle;\n",
       "    }\n",
       "\n",
       "    .dataframe tbody tr th {\n",
       "        vertical-align: top;\n",
       "    }\n",
       "\n",
       "    .dataframe thead th {\n",
       "        text-align: right;\n",
       "    }\n",
       "</style>\n",
       "<table border=\"1\" class=\"dataframe\">\n",
       "  <thead>\n",
       "    <tr style=\"text-align: right;\">\n",
       "      <th></th>\n",
       "      <th>start</th>\n",
       "      <th>stop</th>\n",
       "      <th>strand</th>\n",
       "      <th>gene_name</th>\n",
       "      <th>length</th>\n",
       "      <th>operon</th>\n",
       "      <th>cog</th>\n",
       "      <th>start_codon_pos</th>\n",
       "    </tr>\n",
       "  </thead>\n",
       "  <tbody>\n",
       "    <tr>\n",
       "      <th>b0001</th>\n",
       "      <td>189</td>\n",
       "      <td>255</td>\n",
       "      <td>+</td>\n",
       "      <td>thrL</td>\n",
       "      <td>66</td>\n",
       "      <td>thrLABC</td>\n",
       "      <td>No COG Annotation</td>\n",
       "      <td>189</td>\n",
       "    </tr>\n",
       "    <tr>\n",
       "      <th>b0002</th>\n",
       "      <td>336</td>\n",
       "      <td>2799</td>\n",
       "      <td>+</td>\n",
       "      <td>thrA</td>\n",
       "      <td>2463</td>\n",
       "      <td>thrLABC</td>\n",
       "      <td>No COG Annotation</td>\n",
       "      <td>336</td>\n",
       "    </tr>\n",
       "    <tr>\n",
       "      <th>b0003</th>\n",
       "      <td>2800</td>\n",
       "      <td>3733</td>\n",
       "      <td>+</td>\n",
       "      <td>thrB</td>\n",
       "      <td>933</td>\n",
       "      <td>thrLABC</td>\n",
       "      <td>Amino acid transport and metabolism</td>\n",
       "      <td>2800</td>\n",
       "    </tr>\n",
       "    <tr>\n",
       "      <th>b0004</th>\n",
       "      <td>3733</td>\n",
       "      <td>5020</td>\n",
       "      <td>+</td>\n",
       "      <td>thrC</td>\n",
       "      <td>1287</td>\n",
       "      <td>thrLABC</td>\n",
       "      <td>Amino acid transport and metabolism</td>\n",
       "      <td>3733</td>\n",
       "    </tr>\n",
       "    <tr>\n",
       "      <th>b0005</th>\n",
       "      <td>5233</td>\n",
       "      <td>5530</td>\n",
       "      <td>+</td>\n",
       "      <td>yaaX</td>\n",
       "      <td>297</td>\n",
       "      <td>yaaX</td>\n",
       "      <td>Function unknown</td>\n",
       "      <td>5233</td>\n",
       "    </tr>\n",
       "    <tr>\n",
       "      <th>...</th>\n",
       "      <td>...</td>\n",
       "      <td>...</td>\n",
       "      <td>...</td>\n",
       "      <td>...</td>\n",
       "      <td>...</td>\n",
       "      <td>...</td>\n",
       "      <td>...</td>\n",
       "      <td>...</td>\n",
       "    </tr>\n",
       "    <tr>\n",
       "      <th>b4399</th>\n",
       "      <td>4636695</td>\n",
       "      <td>4638120</td>\n",
       "      <td>+</td>\n",
       "      <td>creC</td>\n",
       "      <td>1425</td>\n",
       "      <td>creABCD</td>\n",
       "      <td>Signal transduction mechanisms</td>\n",
       "      <td>4636695</td>\n",
       "    </tr>\n",
       "    <tr>\n",
       "      <th>b4400</th>\n",
       "      <td>4638177</td>\n",
       "      <td>4639530</td>\n",
       "      <td>+</td>\n",
       "      <td>creD</td>\n",
       "      <td>1353</td>\n",
       "      <td>creABCD</td>\n",
       "      <td>Defense mechanisms</td>\n",
       "      <td>4638177</td>\n",
       "    </tr>\n",
       "    <tr>\n",
       "      <th>b4401</th>\n",
       "      <td>4639589</td>\n",
       "      <td>4640306</td>\n",
       "      <td>-</td>\n",
       "      <td>arcA</td>\n",
       "      <td>717</td>\n",
       "      <td>arcA</td>\n",
       "      <td>Signal transduction mechanisms</td>\n",
       "      <td>4640306</td>\n",
       "    </tr>\n",
       "    <tr>\n",
       "      <th>b4402</th>\n",
       "      <td>4640401</td>\n",
       "      <td>4640542</td>\n",
       "      <td>+</td>\n",
       "      <td>yjjY</td>\n",
       "      <td>141</td>\n",
       "      <td>yjjY</td>\n",
       "      <td>Function unknown</td>\n",
       "      <td>4640401</td>\n",
       "    </tr>\n",
       "    <tr>\n",
       "      <th>b4403</th>\n",
       "      <td>4640941</td>\n",
       "      <td>4641628</td>\n",
       "      <td>+</td>\n",
       "      <td>yjtD</td>\n",
       "      <td>687</td>\n",
       "      <td>yjtD</td>\n",
       "      <td>Translation, ribosomal structure and biogenesis</td>\n",
       "      <td>4640941</td>\n",
       "    </tr>\n",
       "  </tbody>\n",
       "</table>\n",
       "<p>4386 rows × 8 columns</p>\n",
       "</div>"
      ],
      "text/plain": [
       "         start     stop strand gene_name  length   operon  \\\n",
       "b0001      189      255      +      thrL      66  thrLABC   \n",
       "b0002      336     2799      +      thrA    2463  thrLABC   \n",
       "b0003     2800     3733      +      thrB     933  thrLABC   \n",
       "b0004     3733     5020      +      thrC    1287  thrLABC   \n",
       "b0005     5233     5530      +      yaaX     297     yaaX   \n",
       "...        ...      ...    ...       ...     ...      ...   \n",
       "b4399  4636695  4638120      +      creC    1425  creABCD   \n",
       "b4400  4638177  4639530      +      creD    1353  creABCD   \n",
       "b4401  4639589  4640306      -      arcA     717     arcA   \n",
       "b4402  4640401  4640542      +      yjjY     141     yjjY   \n",
       "b4403  4640941  4641628      +      yjtD     687     yjtD   \n",
       "\n",
       "                                                   cog  start_codon_pos  \n",
       "b0001                                No COG Annotation              189  \n",
       "b0002                                No COG Annotation              336  \n",
       "b0003              Amino acid transport and metabolism             2800  \n",
       "b0004              Amino acid transport and metabolism             3733  \n",
       "b0005                                 Function unknown             5233  \n",
       "...                                                ...              ...  \n",
       "b4399                   Signal transduction mechanisms          4636695  \n",
       "b4400                               Defense mechanisms          4638177  \n",
       "b4401                   Signal transduction mechanisms          4640306  \n",
       "b4402                                 Function unknown          4640401  \n",
       "b4403  Translation, ribosomal structure and biogenesis          4640941  \n",
       "\n",
       "[4386 rows x 8 columns]"
      ]
     },
     "execution_count": 21,
     "metadata": {},
     "output_type": "execute_result"
    }
   ],
   "source": [
    "# Define start codon position (to account for +/- strands)\n",
    "DF_gene_info['start_codon_pos'] = [row.start if row.strand == '+' else row.stop for idx,row in DF_gene_info.iterrows()]\n",
    "DF_gene_info.head()"
   ]
  },
  {
   "cell_type": "markdown",
   "metadata": {},
   "source": [
    "## Generate Binding peaks "
   ]
  },
  {
   "cell_type": "markdown",
   "metadata": {},
   "source": [
    "This function assigns bindings peaks for each TF and fins the corresponsing gene targets using the `gene_info.csv` table. "
   ]
  },
  {
   "cell_type": "code",
   "execution_count": 22,
   "metadata": {},
   "outputs": [],
   "source": [
    "def annotate_peaks(peak_df,margin,gene_info):\n",
    "    \n",
    "    res_df = peak_df.copy()\n",
    "    TF = peak_df.condition_name[1][:4]\n",
    "    for i,row in res_df.iterrows():\n",
    "        pos = row['binding_peak_start']\n",
    "        # Identify genes within MARGIN nt of binding peak\n",
    "        close_genes = gene_info[(gene_info.start_codon_pos > pos-margin) \n",
    "                                & (gene_info.start_codon_pos < pos+margin)]\n",
    "        for strand,group in close_genes.groupby('strand'):\n",
    "            #Remove genes that are completely transcribed before binding peak\n",
    "            if strand == '+':\n",
    "                group = group[group.stop > pos]\n",
    "            else:\n",
    "                group = group[group.start < pos]\n",
    "\n",
    "            operon = group.operon.unique()\n",
    "            # Ensure that we're only identifying one operon on either side of binding peak\n",
    "#             if len(operon) > 1:\n",
    "#                 print (operon)\n",
    "\n",
    "            # Get all genes in operon\n",
    "            bnums = gene_info[gene_info.operon.isin(operon)].index\n",
    "            \n",
    "            ## Add gene information to dataframe\n",
    "            if strand == '+':\n",
    "                res_df.loc[i,'TU_p'] = ','.join(operon)\n",
    "                res_df.loc[i,'genes_p'] = ','.join(bnums)\n",
    "            else:\n",
    "                res_df.loc[i,'TU_m'] = ','.join(operon)\n",
    "                res_df.loc[i,'genes_m'] = ','.join(bnums)\n",
    "    res_df['index'] = [TF +'-' + str(i) for i in range(1,peak_df.shape[0]+1)]\n",
    "    res_df['condition'] = [peak_df.condition_name[2][:4]+' + '+peak_df.condition_name[1][5:8]]*peak_df.shape[0]\n",
    "    cols = ['index','condition','binding_peak_start','binding_peak_end',\n",
    "            'binding_peak_strength','TU_p','genes_p','TU_m','genes_m']\n",
    "    return res_df.reindex(columns = cols)"
   ]
  },
  {
   "cell_type": "markdown",
   "metadata": {},
   "source": [
    "## Validate Binding Peaks "
   ]
  },
  {
   "cell_type": "markdown",
   "metadata": {},
   "source": [
    "this function validates the accuracy of every gene target from the already indetified gene list for every binding site, identified from the previous function  "
   ]
  },
  {
   "cell_type": "code",
   "execution_count": 24,
   "metadata": {},
   "outputs": [],
   "source": [
    "def validate_peak_info(df,gene_info):\n",
    "    locusTag = defaultdict(list)\n",
    "    geneName = defaultdict(list)\n",
    "    for i,row in df.iterrows():\n",
    "        BP = row['binding_peak_start']\n",
    "        idx_name = i\n",
    "        genes = [row['genes_p'] , row['genes_m']]\n",
    "        if ((genes[0] == '') & (genes[1] == '')):\n",
    "            locusTag[idx_name].append('')\n",
    "            geneName[idx_name].append('')\n",
    "        for gene in genes:\n",
    "            if gene == '':\n",
    "                continue \n",
    "            gene_list = gene.split(',')\n",
    "            for g in gene_list: \n",
    "                name = DF_gene_info.loc[g].gene_name \n",
    "                strand = DF_gene_info.loc[g].strand \n",
    "                start = DF_gene_info.loc[g].start\n",
    "                stop = DF_gene_info.loc[g].stop\n",
    "                if ((start > BP) & (stop > BP) & (strand == '+')) | ((start < BP) & (stop < BP) & (strand == '-')):\n",
    "                        locusTag[idx_name].append(g)\n",
    "                        geneName[idx_name].append(name)\n",
    "                elif ((start < BP) & (stop > BP)) | ((start > BP) & (stop < BP)):\n",
    "                    locusTag[idx_name].append(g)\n",
    "                    geneName[idx_name].append(name)\n",
    "                    \n",
    "    for k, v in locusTag.items():\n",
    "        if ((len(v) == 1) & (v[0] == '')): \n",
    "            locusTag[k] = ''\n",
    "            continue\n",
    "        genes = ','.join(locusTag[k])\n",
    "        locusTag[k] = genes\n",
    "\n",
    "    for k, v in geneName.items():\n",
    "        if ((len(v) == 1) & (v[0] == '')): \n",
    "            geneName[k] = ''\n",
    "            continue\n",
    "        genes = ','.join(geneName[k])\n",
    "        geneName[k] = genes\n",
    "\n",
    "    df_complete = df.loc[:,['index','condition','binding_peak_start',\n",
    "                            'binding_peak_end','binding_peak_strength']]\n",
    "    df_complete['target_locus'] = locusTag.values()\n",
    "    df_complete['target_genes'] = geneName.values()\n",
    "    return df_complete"
   ]
  },
  {
   "cell_type": "markdown",
   "metadata": {},
   "source": [
    "# Venn Diagrams"
   ]
  },
  {
   "cell_type": "markdown",
   "metadata": {},
   "source": [
    "Make sure to update the list of `TF_names` as Ye adds more gff files into the dropbox"
   ]
  },
  {
   "cell_type": "code",
   "execution_count": 26,
   "metadata": {},
   "outputs": [],
   "source": [
    "TRN_data = defaultdict(list)\n",
    "TF_name = [\n",
    " 'YheO',\n",
    " 'YbiH',\n",
    " 'YbaQ',\n",
    " 'YbaO',\n",
    " 'YieP',\n",
    " 'YagI',\n",
    " 'YiaJ',\n",
    " 'YddM',\n",
    " 'YdcI',\n",
    " 'YafC',\n",
    " 'YeiE']\n",
    "\n",
    "for i in TF_name: \n",
    "    TRN_data[i] = [x for x in  list(precise2_TRN.gene_name[precise2_TRN.index == i])  if  str(x) != 'nan']"
   ]
  },
  {
   "cell_type": "code",
   "execution_count": 27,
   "metadata": {},
   "outputs": [],
   "source": [
    "def Venn_data_gen(Peak_DF): \n",
    "    TF_name = Peak_DF['index'][1][:4]\n",
    "    gene_list = [i for i in Peak_DF.target_genes if i != '']\n",
    "    chip_data= ','.join(list(gene_list)).split(',')\n",
    "    reg_data = TRN_data[TF_name]\n",
    "    all_genes = [i  for i in chip_data if i not in reg_data] + reg_data\n",
    "    \n",
    "    \n",
    "    TF = TF_name\n",
    "    reg_genes=reg_data\n",
    "    reg_only = []\n",
    "    chip_genes=chip_data\n",
    "    chip_only = []\n",
    "    shared_genes=[]\n",
    "    for i in all_genes: \n",
    "        if (i in reg_data) & (i not in chip_data):\n",
    "            reg_only.append(i)\n",
    "        elif (i in chip_data) & (i not in reg_data):\n",
    "            chip_only.append(i)\n",
    "        elif (i in chip_data) & (i in reg_data):\n",
    "            shared_genes.append(i)\n",
    "            \n",
    "    values = [TF,\n",
    "          len(reg_genes),\n",
    "          len(reg_only),\n",
    "          len(chip_genes),\n",
    "          len(chip_only),\n",
    "          len(shared_genes),\n",
    "          len(all_genes)]\n",
    "    \n",
    "    index_name = ['TF',\n",
    "              'reg_genes',\n",
    "              'reg_only',\n",
    "              'chip_genes',\n",
    "              'chip_only',\n",
    "              'shared_genes',\n",
    "              'all_genes']\n",
    "    \n",
    "    genes = ['',\n",
    "         reg_genes,\n",
    "         reg_only,\n",
    "         chip_genes,\n",
    "         chip_only,\n",
    "         shared_genes,\n",
    "         all_genes]\n",
    "    \n",
    "    same1 = defaultdict(list)\n",
    "    for i in range(0,len(index_name)):\n",
    "        same1[index_name[i]].append(values[i])\n",
    "\n",
    "    finall = pd.DataFrame.from_dict(same1, orient='index', columns = ['value'])\n",
    "    finall['list'] = genes\n",
    "    for i, row in finall.iterrows(): \n",
    "        if row.value == 0:\n",
    "            finall.list[i] = ''\n",
    "    return finall"
   ]
  },
  {
   "cell_type": "markdown",
   "metadata": {},
   "source": [
    "## Generate the data"
   ]
  },
  {
   "cell_type": "markdown",
   "metadata": {},
   "source": [
    "Run this block if you are ready to generate your data for ChIPdb."
   ]
  },
  {
   "cell_type": "code",
   "execution_count": 29,
   "metadata": {},
   "outputs": [],
   "source": [
    "for i in range (0, len(database)): \n",
    "    peak_annot_DF = annotate_peaks(database[i],500,DF_gene_info).fillna('')\n",
    "    final_annot_DF = validate_peak_info(peak_annot_DF,DF_gene_info)\n",
    "    venn_files = Venn_data_gen(final_annot_DF)\n",
    "    final_annot_DF.to_json(path.join(outjson_dir, TF_list[i]+'.json'),orient='records')\n",
    "    venn_files.to_json(path.join(outcsv_dir, TF_list[i]+'.json'),orient='records')"
   ]
  }
 ],
 "metadata": {
  "kernelspec": {
   "display_name": "Python 3",
   "language": "python",
   "name": "python3"
  },
  "language_info": {
   "codemirror_mode": {
    "name": "ipython",
    "version": 3
   },
   "file_extension": ".py",
   "mimetype": "text/x-python",
   "name": "python",
   "nbconvert_exporter": "python",
   "pygments_lexer": "ipython3",
   "version": "3.8.5"
  },
  "toc": {
   "base_numbering": 1,
   "nav_menu": {},
   "number_sections": true,
   "sideBar": true,
   "skip_h1_title": false,
   "title_cell": "Table of Contents",
   "title_sidebar": "Contents",
   "toc_cell": false,
   "toc_position": {
    "height": "calc(100% - 180px)",
    "left": "10px",
    "top": "150px",
    "width": "165px"
   },
   "toc_section_display": true,
   "toc_window_display": true
  }
 },
 "nbformat": 4,
 "nbformat_minor": 5
}
