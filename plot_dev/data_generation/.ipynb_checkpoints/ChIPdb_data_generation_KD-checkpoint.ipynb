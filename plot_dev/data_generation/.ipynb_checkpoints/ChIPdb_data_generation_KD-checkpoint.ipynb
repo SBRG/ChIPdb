{
 "cells": [
  {
   "cell_type": "markdown",
   "metadata": {},
   "source": [
    "# Table of Contents"
   ]
  },
  {
   "cell_type": "markdown",
   "metadata": {},
   "source": [
    "This notebook generates data used to contruct `binding peak` tables and `venn diagrams` for ChipDB. But before you run the notebook, make sure of the following: \n",
    "\n",
    "1. Concatnate files that contain multiple conditions for the same TF by using the following command on your terminal: `cat /path/prefix* >> new_file`.\n",
    "2. Make sure to rename TF in the gff file to match the TF convention and not gene convension."
   ]
  },
  {
   "cell_type": "code",
   "execution_count": 1,
   "metadata": {},
   "outputs": [],
   "source": [
    "#basics:\n",
    "import numpy as np     \n",
    "import pandas as pd\n",
    "import urllib                      \n",
    "import gzip\n",
    "import os\n",
    "from os import path\n",
    "from collections import defaultdict"
   ]
  },
  {
   "cell_type": "code",
   "execution_count": 83,
   "metadata": {},
   "outputs": [],
   "source": [
    "pd.set_option('display.float_format', lambda x: '%.3f' % x)"
   ]
  },
  {
   "cell_type": "markdown",
   "metadata": {},
   "source": [
    "# Binding Peak Tables"
   ]
  },
  {
   "cell_type": "markdown",
   "metadata": {},
   "source": [
    "## Generate a data objects"
   ]
  },
  {
   "cell_type": "markdown",
   "metadata": {},
   "source": [
    "### Prerequisit\n",
    "Ensure the following paths reflect your local **input** and **output** directories"
   ]
  },
  {
   "cell_type": "code",
   "execution_count": 2,
   "metadata": {},
   "outputs": [],
   "source": [
    "data_dir = './'"
   ]
  },
  {
   "cell_type": "code",
   "execution_count": 3,
   "metadata": {},
   "outputs": [],
   "source": [
    "in_data = data_dir+ 'input_data/'\n",
    "in_gff = in_data+ 'gff_data/'\n",
    "out_data_venn = data_dir+ 'output_data/'+'venn_data/'\n",
    "out_data_table = data_dir+ 'output_data/'+'table_data/'"
   ]
  },
  {
   "cell_type": "code",
   "execution_count": 4,
   "metadata": {},
   "outputs": [],
   "source": [
    "database = defaultdict(list)"
   ]
  },
  {
   "cell_type": "code",
   "execution_count": 5,
   "metadata": {
    "scrolled": true
   },
   "outputs": [
    {
     "data": {
      "text/plain": [
       "['yafc_glc_curated.csv',\n",
       " 'ybih_glc_curated.csv',\n",
       " 'yddm_glc_curated.csv',\n",
       " 'yagi_-fe_curated.csv',\n",
       " 'yeie_glc_curated.csv',\n",
       " 'ybaq_glc_curated.csv',\n",
       " 'ydci_cat.csv',\n",
       " 'yiaj_glc_curated.csv',\n",
       " 'yheo_glc_curated.csv',\n",
       " 'yiep_glc_curated.csv',\n",
       " 'ybao_glc_curated.csv']"
      ]
     },
     "execution_count": 5,
     "metadata": {},
     "output_type": "execute_result"
    }
   ],
   "source": [
    "filelist = [file for file in os.listdir(in_gff)]\n",
    "filelist"
   ]
  },
  {
   "cell_type": "code",
   "execution_count": 6,
   "metadata": {},
   "outputs": [],
   "source": [
    "filelist = [file for file in os.listdir(in_gff)]\n",
    "\n",
    "for i in range(0,len(filelist)):\n",
    "    df = pd.read_csv(path.join(in_gff,filelist[i]),index_col=0, \n",
    "                                 delimiter='\\t', header=None, \n",
    "                                 names = ['ref','condition', 'condition_name', \n",
    "                                          \"binding_peak_start\",'binding_peak_end', \n",
    "                                          'binding_peak_strength', 'direction', '.','ID'])\n",
    "\n",
    "    df = df.set_index(pd.Series(range(1,len(df)+1)))\n",
    "    database[i] = df"
   ]
  },
  {
   "cell_type": "code",
   "execution_count": 7,
   "metadata": {},
   "outputs": [],
   "source": [
    "TF_list =[]\n",
    "TF_gene = []\n",
    "for i in range (0,len(database)): \n",
    "    TF_list.append(database[i].condition_name[1][:4])\n",
    "    TF_gene.append(database[i].condition_name[2][:4])"
   ]
  },
  {
   "cell_type": "code",
   "execution_count": 8,
   "metadata": {},
   "outputs": [
    {
     "data": {
      "text/plain": [
       "['YafC',\n",
       " 'YbiH',\n",
       " 'YddM',\n",
       " 'Yagi',\n",
       " 'YeiE',\n",
       " 'YbaQ',\n",
       " 'YdcI',\n",
       " 'YiaJ',\n",
       " 'YheO',\n",
       " 'YieP',\n",
       " 'YbaO']"
      ]
     },
     "execution_count": 8,
     "metadata": {},
     "output_type": "execute_result"
    }
   ],
   "source": [
    "TF_list"
   ]
  },
  {
   "cell_type": "markdown",
   "metadata": {},
   "source": [
    "## Load gene info + Biocyc TRN "
   ]
  },
  {
   "cell_type": "code",
   "execution_count": 9,
   "metadata": {},
   "outputs": [],
   "source": [
    "DF_EcoCyc_TF = pd.read_csv(path.join(data_dir,'input_data','trn_EcoCyc.csv'),index_col=0)\n",
    "DF_gene_info = pd.read_csv(path.join(data_dir,'input_data','gene_info.csv'),index_col=0)\n",
    "precise2_TRN = pd.read_csv(path.join(data_dir,'input_data','trn_precise2.csv'),index_col=0)"
   ]
  },
  {
   "cell_type": "code",
   "execution_count": 10,
   "metadata": {},
   "outputs": [
    {
     "data": {
      "text/html": [
       "<div>\n",
       "<style scoped>\n",
       "    .dataframe tbody tr th:only-of-type {\n",
       "        vertical-align: middle;\n",
       "    }\n",
       "\n",
       "    .dataframe tbody tr th {\n",
       "        vertical-align: top;\n",
       "    }\n",
       "\n",
       "    .dataframe thead th {\n",
       "        text-align: right;\n",
       "    }\n",
       "</style>\n",
       "<table border=\"1\" class=\"dataframe\">\n",
       "  <thead>\n",
       "    <tr style=\"text-align: right;\">\n",
       "      <th></th>\n",
       "      <th>start</th>\n",
       "      <th>stop</th>\n",
       "      <th>strand</th>\n",
       "      <th>gene_name</th>\n",
       "      <th>length</th>\n",
       "      <th>operon</th>\n",
       "      <th>cog</th>\n",
       "      <th>start_codon_pos</th>\n",
       "    </tr>\n",
       "  </thead>\n",
       "  <tbody>\n",
       "    <tr>\n",
       "      <th>b0001</th>\n",
       "      <td>189</td>\n",
       "      <td>255</td>\n",
       "      <td>+</td>\n",
       "      <td>thrL</td>\n",
       "      <td>66</td>\n",
       "      <td>thrLABC</td>\n",
       "      <td>No COG Annotation</td>\n",
       "      <td>189</td>\n",
       "    </tr>\n",
       "    <tr>\n",
       "      <th>b0002</th>\n",
       "      <td>336</td>\n",
       "      <td>2799</td>\n",
       "      <td>+</td>\n",
       "      <td>thrA</td>\n",
       "      <td>2463</td>\n",
       "      <td>thrLABC</td>\n",
       "      <td>No COG Annotation</td>\n",
       "      <td>336</td>\n",
       "    </tr>\n",
       "    <tr>\n",
       "      <th>b0003</th>\n",
       "      <td>2800</td>\n",
       "      <td>3733</td>\n",
       "      <td>+</td>\n",
       "      <td>thrB</td>\n",
       "      <td>933</td>\n",
       "      <td>thrLABC</td>\n",
       "      <td>Amino acid transport and metabolism</td>\n",
       "      <td>2800</td>\n",
       "    </tr>\n",
       "    <tr>\n",
       "      <th>b0004</th>\n",
       "      <td>3733</td>\n",
       "      <td>5020</td>\n",
       "      <td>+</td>\n",
       "      <td>thrC</td>\n",
       "      <td>1287</td>\n",
       "      <td>thrLABC</td>\n",
       "      <td>Amino acid transport and metabolism</td>\n",
       "      <td>3733</td>\n",
       "    </tr>\n",
       "    <tr>\n",
       "      <th>b0005</th>\n",
       "      <td>5233</td>\n",
       "      <td>5530</td>\n",
       "      <td>+</td>\n",
       "      <td>yaaX</td>\n",
       "      <td>297</td>\n",
       "      <td>yaaX</td>\n",
       "      <td>Function unknown</td>\n",
       "      <td>5233</td>\n",
       "    </tr>\n",
       "  </tbody>\n",
       "</table>\n",
       "</div>"
      ],
      "text/plain": [
       "       start  stop strand gene_name  length   operon  \\\n",
       "b0001    189   255      +      thrL      66  thrLABC   \n",
       "b0002    336  2799      +      thrA    2463  thrLABC   \n",
       "b0003   2800  3733      +      thrB     933  thrLABC   \n",
       "b0004   3733  5020      +      thrC    1287  thrLABC   \n",
       "b0005   5233  5530      +      yaaX     297     yaaX   \n",
       "\n",
       "                                       cog  start_codon_pos  \n",
       "b0001                    No COG Annotation              189  \n",
       "b0002                    No COG Annotation              336  \n",
       "b0003  Amino acid transport and metabolism             2800  \n",
       "b0004  Amino acid transport and metabolism             3733  \n",
       "b0005                     Function unknown             5233  "
      ]
     },
     "execution_count": 10,
     "metadata": {},
     "output_type": "execute_result"
    }
   ],
   "source": [
    "# Define start codon position (to account for +/- strands)\n",
    "DF_gene_info['start_codon_pos'] = [row.start if row.strand == '+' else row.stop for idx,row in DF_gene_info.iterrows()]\n",
    "DF_gene_info.head()"
   ]
  },
  {
   "cell_type": "markdown",
   "metadata": {},
   "source": [
    "## Generate Binding peaks "
   ]
  },
  {
   "cell_type": "markdown",
   "metadata": {},
   "source": [
    "This function assigns bindings peaks for each TF and fins the corresponsing gene targets using the `gene_info.csv` table. "
   ]
  },
  {
   "cell_type": "code",
   "execution_count": 11,
   "metadata": {},
   "outputs": [],
   "source": [
    "def annotate_peaks(peak_df,margin,gene_info):\n",
    "    \n",
    "    res_df = peak_df.copy()\n",
    "    TF = peak_df.condition_name[1][:4]\n",
    "    for i,row in res_df.iterrows():\n",
    "        pos = row['binding_peak_start']\n",
    "        # Identify genes within MARGIN nt of binding peak\n",
    "        close_genes = gene_info[(gene_info.start_codon_pos > pos-margin) \n",
    "                                & (gene_info.start_codon_pos < pos+margin)]\n",
    "        for strand,group in close_genes.groupby('strand'):\n",
    "            #Remove genes that are completely transcribed before binding peak\n",
    "            if strand == '+':\n",
    "                group = group[group.stop > pos]\n",
    "            else:\n",
    "                group = group[group.start < pos]\n",
    "\n",
    "            operon = group.operon.unique()\n",
    "            # Ensure that we're only identifying one operon on either side of binding peak\n",
    "#             if len(operon) > 1:\n",
    "#                 print (operon)\n",
    "\n",
    "            # Get all genes in operon\n",
    "            bnums = gene_info[gene_info.operon.isin(operon)].index\n",
    "            \n",
    "            ## Add gene information to dataframe\n",
    "            if strand == '+':\n",
    "                res_df.loc[i,'TU_p'] = ','.join(operon)\n",
    "                res_df.loc[i,'genes_p'] = ','.join(bnums)\n",
    "            else:\n",
    "                res_df.loc[i,'TU_m'] = ','.join(operon)\n",
    "                res_df.loc[i,'genes_m'] = ','.join(bnums)\n",
    "    res_df['index'] = [TF +'-' + str(i) for i in range(1,peak_df.shape[0]+1)]\n",
    "    res_df['condition'] = [peak_df.condition_name[2][:4]+' + '+peak_df.condition_name[1][5:8]]*peak_df.shape[0]\n",
    "    cols = ['index','condition','binding_peak_start','binding_peak_end',\n",
    "            'binding_peak_strength','TU_p','genes_p','TU_m','genes_m']\n",
    "    return res_df.reindex(columns = cols)"
   ]
  },
  {
   "cell_type": "markdown",
   "metadata": {},
   "source": [
    "## Validate Binding Peaks "
   ]
  },
  {
   "cell_type": "markdown",
   "metadata": {},
   "source": [
    "this function validates the accuracy of every gene target from the already indetified gene list for every binding site, identified from the previous function  "
   ]
  },
  {
   "cell_type": "code",
   "execution_count": 12,
   "metadata": {},
   "outputs": [],
   "source": [
    "def validate_peak_info(df,gene_info):\n",
    "    locusTag = defaultdict(list)\n",
    "    geneName = defaultdict(list)\n",
    "    for i,row in df.iterrows():\n",
    "        BP = row['binding_peak_start']\n",
    "        idx_name = i\n",
    "        genes = [row['genes_p'] , row['genes_m']]\n",
    "        if ((genes[0] == '') & (genes[1] == '')):\n",
    "            locusTag[idx_name].append('')\n",
    "            geneName[idx_name].append('')\n",
    "        for gene in genes:\n",
    "            if gene == '':\n",
    "                continue \n",
    "            gene_list = gene.split(',')\n",
    "            for g in gene_list: \n",
    "                name = DF_gene_info.loc[g].gene_name \n",
    "                strand = DF_gene_info.loc[g].strand \n",
    "                start = DF_gene_info.loc[g].start\n",
    "                stop = DF_gene_info.loc[g].stop\n",
    "                if ((start > BP) & (stop > BP) & (strand == '+')) | ((start < BP) & (stop < BP) & (strand == '-')):\n",
    "                        locusTag[idx_name].append(g)\n",
    "                        geneName[idx_name].append(name)\n",
    "                elif ((start < BP) & (stop > BP)) | ((start > BP) & (stop < BP)):\n",
    "                    locusTag[idx_name].append(g)\n",
    "                    geneName[idx_name].append(name)\n",
    "                    \n",
    "    for k, v in locusTag.items():\n",
    "        if ((len(v) == 1) & (v[0] == '')): \n",
    "            locusTag[k] = ''\n",
    "            continue\n",
    "        genes = ','.join(locusTag[k])\n",
    "        locusTag[k] = genes\n",
    "\n",
    "    for k, v in geneName.items():\n",
    "        if ((len(v) == 1) & (v[0] == '')): \n",
    "            geneName[k] = ''\n",
    "            continue\n",
    "        genes = ','.join(geneName[k])\n",
    "        geneName[k] = genes\n",
    "\n",
    "    df_complete = df.loc[:,['index','condition','binding_peak_start',\n",
    "                            'binding_peak_end','binding_peak_strength']]\n",
    "    df_complete['target_locus'] = locusTag.values()\n",
    "    df_complete['target_genes'] = geneName.values()\n",
    "    return df_complete"
   ]
  },
  {
   "cell_type": "markdown",
   "metadata": {},
   "source": [
    "# Venn Diagrams"
   ]
  },
  {
   "cell_type": "markdown",
   "metadata": {},
   "source": [
    "Make sure to update the list of `TF_names` as Ye adds more gff files into the dropbox"
   ]
  },
  {
   "cell_type": "code",
   "execution_count": 13,
   "metadata": {},
   "outputs": [],
   "source": [
    "TRN_data = defaultdict(list)\n",
    "TF_name = [\n",
    "    'YgeV',\n",
    " 'YheO',\n",
    " 'YbiH',\n",
    " 'YbaQ',\n",
    " 'YbaO',\n",
    " 'YieP',\n",
    " 'YagI',\n",
    " 'YiaJ',\n",
    " 'YddM',\n",
    " 'YdcI',\n",
    " 'YafC',\n",
    " 'YeiE']\n",
    "\n",
    "for i in TF_name: \n",
    "    TRN_data[i] = [x for x in  list(precise2_TRN.gene_name[precise2_TRN.index == i])  if  str(x) != 'nan']"
   ]
  },
  {
   "cell_type": "code",
   "execution_count": 14,
   "metadata": {},
   "outputs": [],
   "source": [
    "def Venn_data_gen(Peak_DF): \n",
    "    TF_name = Peak_DF['index'][1][:4]\n",
    "    gene_list = [i for i in Peak_DF.target_genes if i != '']\n",
    "    chip_data= ','.join(list(gene_list)).split(',')\n",
    "    reg_data = TRN_data[TF_name]\n",
    "    all_genes = [i  for i in chip_data if i not in reg_data] + reg_data\n",
    "    \n",
    "    \n",
    "    TF = TF_name\n",
    "    reg_genes=reg_data\n",
    "    reg_only = []\n",
    "    chip_genes=chip_data\n",
    "    chip_only = []\n",
    "    shared_genes=[]\n",
    "    for i in all_genes: \n",
    "        if (i in reg_data) & (i not in chip_data):\n",
    "            reg_only.append(i)\n",
    "        elif (i in chip_data) & (i not in reg_data):\n",
    "            chip_only.append(i)\n",
    "        elif (i in chip_data) & (i in reg_data):\n",
    "            shared_genes.append(i)\n",
    "            \n",
    "    values = [TF,\n",
    "          len(reg_genes),\n",
    "          len(reg_only),\n",
    "          len(chip_genes),\n",
    "          len(chip_only),\n",
    "          len(shared_genes),\n",
    "          len(all_genes)]\n",
    "    \n",
    "    index_name = ['TF',\n",
    "              'reg_genes',\n",
    "              'reg_only',\n",
    "              'chip_genes',\n",
    "              'chip_only',\n",
    "              'shared_genes',\n",
    "              'all_genes']\n",
    "    \n",
    "    genes = ['; '.join(precise2_TRN.source[precise2_TRN.index == TF_name].unique()),\n",
    "         reg_genes,\n",
    "         reg_only,\n",
    "         chip_genes,\n",
    "         chip_only,\n",
    "         shared_genes,\n",
    "         all_genes]\n",
    "    \n",
    "    same1 = defaultdict(list)\n",
    "    for i in range(0,len(index_name)):\n",
    "        same1[index_name[i]].append(values[i])\n",
    "\n",
    "    finall = pd.DataFrame.from_dict(same1, orient='index', columns = ['value'])\n",
    "    finall['list'] = genes\n",
    "    for i, row in finall.iterrows(): \n",
    "        if row.value == 0:\n",
    "            finall.list[i] = ''\n",
    "    return finall"
   ]
  },
  {
   "cell_type": "markdown",
   "metadata": {},
   "source": [
    "# Binding Width Histograms"
   ]
  },
  {
   "cell_type": "code",
   "execution_count": 19,
   "metadata": {},
   "outputs": [],
   "source": [
    "def binding_width_gen(peak_df,out_dir): \n",
    "    TF = peak_df.iloc[0,1][0:4]\n",
    "    widths = pd.DataFrame(peak_df.binding_peak_end - peak_df.binding_peak_start + 1, columns=[\"binding_width\"])\n",
    "    widths.to_csv(out_dir+TF+'_widths.csv')"
   ]
  },
  {
   "cell_type": "markdown",
   "metadata": {},
   "source": [
    "# Generate the data"
   ]
  },
  {
   "cell_type": "markdown",
   "metadata": {},
   "source": [
    "Run this block if you are ready to generate your data for ChIPdb."
   ]
  },
  {
   "cell_type": "code",
   "execution_count": 17,
   "metadata": {},
   "outputs": [],
   "source": [
    "for i in range (0, len(database)): \n",
    "    peak_annot_DF = annotate_peaks(database[i],500,DF_gene_info).fillna('')\n",
    "    final_annot_DF = validate_peak_info(peak_annot_DF,DF_gene_info)\n",
    "    venn_files = Venn_data_gen(final_annot_DF)\n",
    "    final_annot_DF.to_json(out_data_table+TF_list[i]+'.json',orient='records')\n",
    "    venn_files.to_json(path.join(out_data_venn, TF_list[i]+'.json'),orient='records')\n",
    "    binding_width_gen(database[i], '../../data/e_coli/NC_000913_3/binding_widths/')"
   ]
  },
  {
   "cell_type": "code",
   "execution_count": 26,
   "metadata": {},
   "outputs": [
    {
     "data": {
      "text/html": [
       "<div>\n",
       "<style scoped>\n",
       "    .dataframe tbody tr th:only-of-type {\n",
       "        vertical-align: middle;\n",
       "    }\n",
       "\n",
       "    .dataframe tbody tr th {\n",
       "        vertical-align: top;\n",
       "    }\n",
       "\n",
       "    .dataframe thead th {\n",
       "        text-align: right;\n",
       "    }\n",
       "</style>\n",
       "<table border=\"1\" class=\"dataframe\">\n",
       "  <thead>\n",
       "    <tr style=\"text-align: right;\">\n",
       "      <th></th>\n",
       "      <th>index</th>\n",
       "      <th>condition</th>\n",
       "      <th>binding_peak_start</th>\n",
       "      <th>binding_peak_end</th>\n",
       "      <th>binding_peak_strength</th>\n",
       "      <th>target_locus</th>\n",
       "      <th>target_genes</th>\n",
       "    </tr>\n",
       "  </thead>\n",
       "  <tbody>\n",
       "    <tr>\n",
       "      <th>1</th>\n",
       "      <td>YbaO-1</td>\n",
       "      <td>ybao + glc</td>\n",
       "      <td>467509</td>\n",
       "      <td>467538</td>\n",
       "      <td>1.89</td>\n",
       "      <td>b0446,b0445</td>\n",
       "      <td>cof,ybaE</td>\n",
       "    </tr>\n",
       "    <tr>\n",
       "      <th>2</th>\n",
       "      <td>YbaO-2</td>\n",
       "      <td>ybao + glc</td>\n",
       "      <td>3256152</td>\n",
       "      <td>3256183</td>\n",
       "      <td>7.74</td>\n",
       "      <td>b4470</td>\n",
       "      <td>yhaM</td>\n",
       "    </tr>\n",
       "    <tr>\n",
       "      <th>3</th>\n",
       "      <td>YbaO-3</td>\n",
       "      <td>ybao + glc</td>\n",
       "      <td>3256220</td>\n",
       "      <td>3256251</td>\n",
       "      <td>23.25</td>\n",
       "      <td>b4470</td>\n",
       "      <td>yhaM</td>\n",
       "    </tr>\n",
       "    <tr>\n",
       "      <th>4</th>\n",
       "      <td>YbaO-4</td>\n",
       "      <td>ybao + glc</td>\n",
       "      <td>3256280</td>\n",
       "      <td>3256312</td>\n",
       "      <td>9.84</td>\n",
       "      <td>b4470</td>\n",
       "      <td>yhaM</td>\n",
       "    </tr>\n",
       "  </tbody>\n",
       "</table>\n",
       "</div>"
      ],
      "text/plain": [
       "    index   condition  binding_peak_start  binding_peak_end  \\\n",
       "1  YbaO-1  ybao + glc              467509            467538   \n",
       "2  YbaO-2  ybao + glc             3256152           3256183   \n",
       "3  YbaO-3  ybao + glc             3256220           3256251   \n",
       "4  YbaO-4  ybao + glc             3256280           3256312   \n",
       "\n",
       "   binding_peak_strength target_locus target_genes  \n",
       "1                   1.89  b0446,b0445     cof,ybaE  \n",
       "2                   7.74        b4470         yhaM  \n",
       "3                  23.25        b4470         yhaM  \n",
       "4                   9.84        b4470         yhaM  "
      ]
     },
     "execution_count": 26,
     "metadata": {},
     "output_type": "execute_result"
    }
   ],
   "source": [
    "final_annot_DF"
   ]
  },
  {
   "cell_type": "code",
   "execution_count": 84,
   "metadata": {},
   "outputs": [
    {
     "data": {
      "text/html": [
       "<div>\n",
       "<style scoped>\n",
       "    .dataframe tbody tr th:only-of-type {\n",
       "        vertical-align: middle;\n",
       "    }\n",
       "\n",
       "    .dataframe tbody tr th {\n",
       "        vertical-align: top;\n",
       "    }\n",
       "\n",
       "    .dataframe thead th {\n",
       "        text-align: right;\n",
       "    }\n",
       "</style>\n",
       "<table border=\"1\" class=\"dataframe\">\n",
       "  <thead>\n",
       "    <tr style=\"text-align: right;\">\n",
       "      <th></th>\n",
       "      <th>index</th>\n",
       "      <th>condition</th>\n",
       "      <th>binding_peak_start</th>\n",
       "      <th>binding_peak_end</th>\n",
       "      <th>binding_peak_strength</th>\n",
       "      <th>target_locus</th>\n",
       "      <th>target_genes</th>\n",
       "      <th>gene</th>\n",
       "      <th>normalized_dist</th>\n",
       "      <th>binding_peak_center</th>\n",
       "    </tr>\n",
       "  </thead>\n",
       "  <tbody>\n",
       "    <tr>\n",
       "      <th>0</th>\n",
       "      <td>YbaO-1</td>\n",
       "      <td>ybao + glc</td>\n",
       "      <td>467509</td>\n",
       "      <td>467538</td>\n",
       "      <td>1.890</td>\n",
       "      <td>b0446,b0445</td>\n",
       "      <td>cof,ybaE</td>\n",
       "      <td>cof</td>\n",
       "      <td>0.137</td>\n",
       "      <td>467523.500</td>\n",
       "    </tr>\n",
       "    <tr>\n",
       "      <th>1</th>\n",
       "      <td>YbaO-1</td>\n",
       "      <td>ybao + glc</td>\n",
       "      <td>467509</td>\n",
       "      <td>467538</td>\n",
       "      <td>1.890</td>\n",
       "      <td>b0446,b0445</td>\n",
       "      <td>cof,ybaE</td>\n",
       "      <td>ybaE</td>\n",
       "      <td>-0.124</td>\n",
       "      <td>467523.500</td>\n",
       "    </tr>\n",
       "    <tr>\n",
       "      <th>2</th>\n",
       "      <td>YbaO-2</td>\n",
       "      <td>ybao + glc</td>\n",
       "      <td>3256152</td>\n",
       "      <td>3256183</td>\n",
       "      <td>7.740</td>\n",
       "      <td>b4470</td>\n",
       "      <td>yhaM</td>\n",
       "      <td>yhaM</td>\n",
       "      <td>0.369</td>\n",
       "      <td>3256167.500</td>\n",
       "    </tr>\n",
       "    <tr>\n",
       "      <th>3</th>\n",
       "      <td>YbaO-3</td>\n",
       "      <td>ybao + glc</td>\n",
       "      <td>3256220</td>\n",
       "      <td>3256251</td>\n",
       "      <td>23.250</td>\n",
       "      <td>b4470</td>\n",
       "      <td>yhaM</td>\n",
       "      <td>yhaM</td>\n",
       "      <td>0.317</td>\n",
       "      <td>3256235.500</td>\n",
       "    </tr>\n",
       "    <tr>\n",
       "      <th>4</th>\n",
       "      <td>YbaO-4</td>\n",
       "      <td>ybao + glc</td>\n",
       "      <td>3256280</td>\n",
       "      <td>3256312</td>\n",
       "      <td>9.840</td>\n",
       "      <td>b4470</td>\n",
       "      <td>yhaM</td>\n",
       "      <td>yhaM</td>\n",
       "      <td>0.271</td>\n",
       "      <td>3256296.000</td>\n",
       "    </tr>\n",
       "  </tbody>\n",
       "</table>\n",
       "</div>"
      ],
      "text/plain": [
       "    index   condition binding_peak_start binding_peak_end  \\\n",
       "0  YbaO-1  ybao + glc             467509           467538   \n",
       "1  YbaO-1  ybao + glc             467509           467538   \n",
       "2  YbaO-2  ybao + glc            3256152          3256183   \n",
       "3  YbaO-3  ybao + glc            3256220          3256251   \n",
       "4  YbaO-4  ybao + glc            3256280          3256312   \n",
       "\n",
       "   binding_peak_strength target_locus target_genes  gene  normalized_dist  \\\n",
       "0                  1.890  b0446,b0445     cof,ybaE   cof            0.137   \n",
       "1                  1.890  b0446,b0445     cof,ybaE  ybaE           -0.124   \n",
       "2                  7.740        b4470         yhaM  yhaM            0.369   \n",
       "3                 23.250        b4470         yhaM  yhaM            0.317   \n",
       "4                  9.840        b4470         yhaM  yhaM            0.271   \n",
       "\n",
       "  binding_peak_center  \n",
       "0          467523.500  \n",
       "1          467523.500  \n",
       "2         3256167.500  \n",
       "3         3256235.500  \n",
       "4         3256296.000  "
      ]
     },
     "execution_count": 84,
     "metadata": {},
     "output_type": "execute_result"
    }
   ],
   "source": [
    "def binding_width_gen(final_annot_DF,out_dir): \n",
    "    TF = final_annot_DF.iloc[0,1][0:4]\n",
    "    peak_scatter_df = pd.DataFrame(columns=final_annot_DF.columns.to_list()+['gene'] +['normalized_dist'])\n",
    "    counter=0\n",
    "\n",
    "    for i in range(len(final_annot_DF)):\n",
    "        peak = final_annot_DF.loc[i+1,:]\n",
    "        peak_center = np.mean([peak.binding_peak_start, peak.binding_peak_end])\n",
    "\n",
    "        for gene in peak.target_genes.split(\",\"):\n",
    "            gene_info = DF_gene_info[DF_gene_info.gene_name == gene]\n",
    "            if gene_info.strand[0] == \"-\":\n",
    "                dist = float((gene_info.stop - peak_center)/gene_info.length)\n",
    "            else:\n",
    "                dist = float((peak_center - gene_info.start)/gene_info.length)\n",
    "            peak_scatter_df.loc[counter] = peak.to_list()+[gene, dist]\n",
    "            counter+=1\n",
    "\n",
    "    peak_scatter_df['binding_peak_center'] = peak_scatter_df.binding_peak_start/2 + peak_scatter_df.binding_peak_end/2\n",
    "    peak_scatter_df.to_csv(out_dir+TF+'_positions.csv')"
   ]
  }
 ],
 "metadata": {
  "kernelspec": {
   "display_name": "Python 3",
   "language": "python",
   "name": "python3"
  },
  "language_info": {
   "codemirror_mode": {
    "name": "ipython",
    "version": 3
   },
   "file_extension": ".py",
   "mimetype": "text/x-python",
   "name": "python",
   "nbconvert_exporter": "python",
   "pygments_lexer": "ipython3",
   "version": "3.7.6"
  },
  "toc": {
   "base_numbering": 1,
   "nav_menu": {},
   "number_sections": true,
   "sideBar": true,
   "skip_h1_title": false,
   "title_cell": "Table of Contents",
   "title_sidebar": "Contents",
   "toc_cell": false,
   "toc_position": {
    "height": "calc(100% - 180px)",
    "left": "10px",
    "top": "150px",
    "width": "165px"
   },
   "toc_section_display": true,
   "toc_window_display": true
  }
 },
 "nbformat": 4,
 "nbformat_minor": 5
}
