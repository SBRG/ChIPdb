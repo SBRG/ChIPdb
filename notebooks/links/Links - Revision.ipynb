{
 "cells": [
  {
   "cell_type": "markdown",
   "metadata": {},
   "source": [
    "# proChIPdb Links\n",
    "\n",
    "Let's actually gather links systematically from databases to solve this problem correctly.\n",
    "\n",
    "Databases needed:\n",
    "- EcoCyc\n",
    "- RegulonDB\n",
    "- Uniprot\n",
    "- PDB\n",
    "- iModulonDB"
   ]
  },
  {
   "cell_type": "markdown",
   "metadata": {
    "toc": true
   },
   "source": [
    "<h1>Table of Contents<span class=\"tocSkip\"></span></h1>\n",
    "<div class=\"toc\"><ul class=\"toc-item\"><li><span><a href=\"#Read-in-data\" data-toc-modified-id=\"Read-in-data-1\"><span class=\"toc-item-num\">1&nbsp;&nbsp;</span>Read in data</a></span></li><li><span><a href=\"#Uniprot\" data-toc-modified-id=\"Uniprot-2\"><span class=\"toc-item-num\">2&nbsp;&nbsp;</span>Uniprot</a></span></li><li><span><a href=\"#iModulonDB\" data-toc-modified-id=\"iModulonDB-3\"><span class=\"toc-item-num\">3&nbsp;&nbsp;</span>iModulonDB</a></span></li><li><span><a href=\"#Output\" data-toc-modified-id=\"Output-4\"><span class=\"toc-item-num\">4&nbsp;&nbsp;</span>Output</a></span></li></ul></div>"
   ]
  },
  {
   "cell_type": "code",
   "execution_count": 1,
   "metadata": {},
   "outputs": [],
   "source": [
    "import pandas as pd\n",
    "import numpy as np\n",
    "from pymodulon.core import IcaData\n",
    "from pymodulon.io import *"
   ]
  },
  {
   "cell_type": "markdown",
   "metadata": {},
   "source": [
    "## Read in data"
   ]
  },
  {
   "cell_type": "code",
   "execution_count": 2,
   "metadata": {},
   "outputs": [],
   "source": [
    "search_path = '../ChiPdb/data/tfs_search.json'\n",
    "imdb_path = '../../iModulonDB/final_im_objects/e_coli_precise2_imdb.json'\n",
    "link_path = 'e_coli_link_df.csv'\n",
    "\n",
    "tf_info = pd.read_json(search_path)\n",
    "ica_data = load_json_model(imdb_path)\n",
    "\n",
    "link_df = pd.read_csv(link_path, index_col = 0)"
   ]
  },
  {
   "cell_type": "markdown",
   "metadata": {},
   "source": [
    "## Uniprot"
   ]
  },
  {
   "cell_type": "code",
   "execution_count": 6,
   "metadata": {},
   "outputs": [],
   "source": [
    "ecocyc_df = pd.read_csv('ecocyc_gene_download.tsv', sep = '\\t', index_col = 0)"
   ]
  },
  {
   "cell_type": "code",
   "execution_count": 23,
   "metadata": {},
   "outputs": [],
   "source": [
    "bad_tfs = []\n",
    "\n",
    "tf_rename = {'ybaO':'decR', 'yihW':'csqR', 'h-NS':'hns', \n",
    "            'rpoB (Cra and Crp KO exps)':'rpoB', 'arcA-1':'arcA', \n",
    "            'arcA-2':'arcA'}\n",
    "\n",
    "for tf in link_df.index:\n",
    "    try:\n",
    "        tf_lower = tf[0].lower() + tf[1:]\n",
    "        if tf_lower in tf_rename.keys():\n",
    "            tf_lower = tf_rename[tf_lower]\n",
    "        up_id = ecocyc_df.loc[tf_lower, 'UniProt']\n",
    "        link_df.loc[tf, 'UniProt'] = 'https://www.uniprot.org/uniprot/' + up_id\n",
    "    except:\n",
    "        \n",
    "        bad_tfs += [tf]"
   ]
  },
  {
   "cell_type": "code",
   "execution_count": 24,
   "metadata": {},
   "outputs": [
    {
     "data": {
      "text/plain": [
       "Index(['mixed-TFs-pool1a', 'mixed-TFs-pool1b', 'mixed-TFs-pool1c',\n",
       "       'mixed-TFs-pool2', 'mixed-TFs-pool3', 'mixed-TFs-pool4',\n",
       "       'mixed-TFs-pool5'],\n",
       "      dtype='object')"
      ]
     },
     "execution_count": 24,
     "metadata": {},
     "output_type": "execute_result"
    }
   ],
   "source": [
    "link_df.index[link_df.UniProt.isna()]"
   ]
  },
  {
   "cell_type": "markdown",
   "metadata": {},
   "source": [
    "## iModulonDB"
   ]
  },
  {
   "cell_type": "code",
   "execution_count": 3,
   "metadata": {},
   "outputs": [],
   "source": [
    "# get ims for each tf\n",
    "tf_to_im = pd.DataFrame()\n",
    "for k, regstr in zip(ica_data.imodulon_table.index, ica_data.imodulon_table.regulator):\n",
    "    if not(isinstance(regstr, str)):\n",
    "        continue\n",
    "    \n",
    "    for tf in regstr.replace('/','+').split('+'):\n",
    "        if tf in tf_to_im.index:\n",
    "            tf_to_im.loc[tf, tf_to_im.loc[tf].count()] = k\n",
    "        else:\n",
    "            tf_to_im.loc[tf, 0] = k\n",
    "\n",
    "# remove unnecessary\n",
    "rel_tfs = tf_to_im.loc[tf_to_im.index.isin(link_df.index)].dropna(1, 'all')\n",
    "\n",
    "# make the links\n",
    "imname2num = dict(zip(ica_data.imodulon_table.index, range(ica_data.imodulon_table.shape[0])))\n",
    "\n",
    "def im_link(im_name):\n",
    "    return 'https://imodulondb.org/iModulon.html?organism=e_coli&dataset=precise2&k=' + str(imname2num[im_name])"
   ]
  },
  {
   "cell_type": "markdown",
   "metadata": {},
   "source": [
    "## Output"
   ]
  },
  {
   "cell_type": "code",
   "execution_count": 27,
   "metadata": {},
   "outputs": [],
   "source": [
    "# save the link_df\n",
    "link_df.to_csv('e_coli_link_df.csv')"
   ]
  },
  {
   "cell_type": "code",
   "execution_count": 7,
   "metadata": {},
   "outputs": [],
   "source": [
    "output_folder = '../ChiPdb/data/e_coli/outlinks/'\n",
    "\n",
    "for tf, row in link_df.iterrows():\n",
    "    res = row.fillna('')\n",
    "    if tf in rel_tfs.index:\n",
    "        for k in rel_tfs.loc[tf].dropna():\n",
    "            res[k] = im_link(k)\n",
    "    res.to_csv(output_folder + tf + '_links.csv', header = None)"
   ]
  },
  {
   "cell_type": "code",
   "execution_count": 8,
   "metadata": {},
   "outputs": [
    {
     "data": {
      "text/plain": [
       "EcoCyc          https://ecocyc.org/gene?orgid=ECOLI&id=EG11140\n",
       "RegulonDB    http://regulondb.ccg.unam.mx/regulon?term=ECK1...\n",
       "UniProt                 https://www.uniprot.org/uniprot/P0AED5\n",
       "PDB                                                           \n",
       "Name: UvrY, dtype: object"
      ]
     },
     "execution_count": 8,
     "metadata": {},
     "output_type": "execute_result"
    }
   ],
   "source": [
    "res"
   ]
  }
 ],
 "metadata": {
  "kernelspec": {
   "display_name": "Python 3",
   "language": "python",
   "name": "python3"
  },
  "language_info": {
   "codemirror_mode": {
    "name": "ipython",
    "version": 3
   },
   "file_extension": ".py",
   "mimetype": "text/x-python",
   "name": "python",
   "nbconvert_exporter": "python",
   "pygments_lexer": "ipython3",
   "version": "3.8.5"
  },
  "toc": {
   "base_numbering": 1,
   "nav_menu": {},
   "number_sections": true,
   "sideBar": true,
   "skip_h1_title": true,
   "title_cell": "Table of Contents",
   "title_sidebar": "Contents",
   "toc_cell": true,
   "toc_position": {},
   "toc_section_display": true,
   "toc_window_display": false
  }
 },
 "nbformat": 4,
 "nbformat_minor": 4
}
