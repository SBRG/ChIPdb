{
 "cells": [
  {
   "cell_type": "markdown",
   "metadata": {},
   "source": [
    "# Operon Links - RegulonDB"
   ]
  },
  {
   "cell_type": "markdown",
   "metadata": {
    "toc": true
   },
   "source": [
    "<h1>Table of Contents<span class=\"tocSkip\"></span></h1>\n",
    "<div class=\"toc\"><ul class=\"toc-item\"><li><span><a href=\"#Input-Files\" data-toc-modified-id=\"Input-Files-1\"><span class=\"toc-item-num\">1&nbsp;&nbsp;</span>Input Files</a></span></li><li><span><a href=\"#Gene-Mapping\" data-toc-modified-id=\"Gene-Mapping-2\"><span class=\"toc-item-num\">2&nbsp;&nbsp;</span>Gene Mapping</a></span></li><li><span><a href=\"#Operon-Matching\" data-toc-modified-id=\"Operon-Matching-3\"><span class=\"toc-item-num\">3&nbsp;&nbsp;</span>Operon Matching</a></span></li><li><span><a href=\"#Quick-error-fix\" data-toc-modified-id=\"Quick-error-fix-4\"><span class=\"toc-item-num\">4&nbsp;&nbsp;</span>Quick error fix</a></span></li></ul></div>"
   ]
  },
  {
   "cell_type": "code",
   "execution_count": 1,
   "metadata": {},
   "outputs": [],
   "source": [
    "import pandas as pd\n",
    "import numpy as np\n",
    "import os\n",
    "import matplotlib.pyplot as plt"
   ]
  },
  {
   "cell_type": "markdown",
   "metadata": {},
   "source": [
    "## Input Files"
   ]
  },
  {
   "cell_type": "code",
   "execution_count": 2,
   "metadata": {},
   "outputs": [
    {
     "data": {
      "text/html": [
       "<div>\n",
       "<style scoped>\n",
       "    .dataframe tbody tr th:only-of-type {\n",
       "        vertical-align: middle;\n",
       "    }\n",
       "\n",
       "    .dataframe tbody tr th {\n",
       "        vertical-align: top;\n",
       "    }\n",
       "\n",
       "    .dataframe thead th {\n",
       "        text-align: right;\n",
       "    }\n",
       "</style>\n",
       "<table border=\"1\" class=\"dataframe\">\n",
       "  <thead>\n",
       "    <tr style=\"text-align: right;\">\n",
       "      <th></th>\n",
       "      <th>TU</th>\n",
       "      <th>operon</th>\n",
       "      <th>genes</th>\n",
       "      <th>promoter</th>\n",
       "      <th>evidence</th>\n",
       "      <th>confidence</th>\n",
       "    </tr>\n",
       "    <tr>\n",
       "      <th>0</th>\n",
       "      <th></th>\n",
       "      <th></th>\n",
       "      <th></th>\n",
       "      <th></th>\n",
       "      <th></th>\n",
       "      <th></th>\n",
       "    </tr>\n",
       "  </thead>\n",
       "  <tbody>\n",
       "    <tr>\n",
       "      <th>ECK120030224</th>\n",
       "      <td>C0299</td>\n",
       "      <td>C0299</td>\n",
       "      <td>C0299</td>\n",
       "      <td>NaN</td>\n",
       "      <td>NaN</td>\n",
       "      <td>NaN</td>\n",
       "    </tr>\n",
       "    <tr>\n",
       "      <th>ECK120030164</th>\n",
       "      <td>C0362</td>\n",
       "      <td>C0362</td>\n",
       "      <td>C0362</td>\n",
       "      <td>NaN</td>\n",
       "      <td>[IHBCE|W|Inferred by a human based on computat...</td>\n",
       "      <td>Weak</td>\n",
       "    </tr>\n",
       "    <tr>\n",
       "      <th>ECK120027910</th>\n",
       "      <td>C0465</td>\n",
       "      <td>C0465</td>\n",
       "      <td>C0465</td>\n",
       "      <td>NaN</td>\n",
       "      <td>[AISGDTU|W|Automated inference that a single-g...</td>\n",
       "      <td>Weak</td>\n",
       "    </tr>\n",
       "    <tr>\n",
       "      <th>ECK120027906</th>\n",
       "      <td>C0614</td>\n",
       "      <td>C0614</td>\n",
       "      <td>C0614</td>\n",
       "      <td>NaN</td>\n",
       "      <td>[AISGDTU|W|Automated inference that a single-g...</td>\n",
       "      <td>Weak</td>\n",
       "    </tr>\n",
       "    <tr>\n",
       "      <th>ECK120030163</th>\n",
       "      <td>C0664</td>\n",
       "      <td>C0664</td>\n",
       "      <td>C0664</td>\n",
       "      <td>NaN</td>\n",
       "      <td>[IHBCE|W|Inferred by a human based on computat...</td>\n",
       "      <td>Weak</td>\n",
       "    </tr>\n",
       "    <tr>\n",
       "      <th>...</th>\n",
       "      <td>...</td>\n",
       "      <td>...</td>\n",
       "      <td>...</td>\n",
       "      <td>...</td>\n",
       "      <td>...</td>\n",
       "      <td>...</td>\n",
       "    </tr>\n",
       "    <tr>\n",
       "      <th>ECK120009821</th>\n",
       "      <td>zraP</td>\n",
       "      <td>zraP</td>\n",
       "      <td>zraP</td>\n",
       "      <td>zraPp</td>\n",
       "      <td>NaN</td>\n",
       "      <td>NaN</td>\n",
       "    </tr>\n",
       "    <tr>\n",
       "      <th>ECK120009822</th>\n",
       "      <td>zraSR</td>\n",
       "      <td>zraSR</td>\n",
       "      <td>zraS,zraR</td>\n",
       "      <td>zraSp</td>\n",
       "      <td>[ITCR|W|Inferred through co-regulation],[IEP|W...</td>\n",
       "      <td>Weak</td>\n",
       "    </tr>\n",
       "    <tr>\n",
       "      <th>ECK120021094</th>\n",
       "      <td>zupT</td>\n",
       "      <td>zupT</td>\n",
       "      <td>zupT</td>\n",
       "      <td>zupTp</td>\n",
       "      <td>[AISGDTU|W|Automated inference that a single-g...</td>\n",
       "      <td>Weak</td>\n",
       "    </tr>\n",
       "    <tr>\n",
       "      <th>ECK120021095</th>\n",
       "      <td>zur</td>\n",
       "      <td>zur</td>\n",
       "      <td>zur</td>\n",
       "      <td>NaN</td>\n",
       "      <td>[AISGDTU|W|Automated inference that a single-g...</td>\n",
       "      <td>Weak</td>\n",
       "    </tr>\n",
       "    <tr>\n",
       "      <th>ECK120009400</th>\n",
       "      <td>zwf</td>\n",
       "      <td>zwf</td>\n",
       "      <td>zwf</td>\n",
       "      <td>zwfp</td>\n",
       "      <td>NaN</td>\n",
       "      <td>NaN</td>\n",
       "    </tr>\n",
       "  </tbody>\n",
       "</table>\n",
       "<p>3699 rows × 6 columns</p>\n",
       "</div>"
      ],
      "text/plain": [
       "                 TU operon      genes promoter  \\\n",
       "0                                                \n",
       "ECK120030224  C0299  C0299      C0299      NaN   \n",
       "ECK120030164  C0362  C0362      C0362      NaN   \n",
       "ECK120027910  C0465  C0465      C0465      NaN   \n",
       "ECK120027906  C0614  C0614      C0614      NaN   \n",
       "ECK120030163  C0664  C0664      C0664      NaN   \n",
       "...             ...    ...        ...      ...   \n",
       "ECK120009821   zraP   zraP       zraP    zraPp   \n",
       "ECK120009822  zraSR  zraSR  zraS,zraR    zraSp   \n",
       "ECK120021094   zupT   zupT       zupT    zupTp   \n",
       "ECK120021095    zur    zur        zur      NaN   \n",
       "ECK120009400    zwf    zwf        zwf     zwfp   \n",
       "\n",
       "                                                       evidence confidence  \n",
       "0                                                                           \n",
       "ECK120030224                                                NaN        NaN  \n",
       "ECK120030164  [IHBCE|W|Inferred by a human based on computat...       Weak  \n",
       "ECK120027910  [AISGDTU|W|Automated inference that a single-g...       Weak  \n",
       "ECK120027906  [AISGDTU|W|Automated inference that a single-g...       Weak  \n",
       "ECK120030163  [IHBCE|W|Inferred by a human based on computat...       Weak  \n",
       "...                                                         ...        ...  \n",
       "ECK120009821                                                NaN        NaN  \n",
       "ECK120009822  [ITCR|W|Inferred through co-regulation],[IEP|W...       Weak  \n",
       "ECK120021094  [AISGDTU|W|Automated inference that a single-g...       Weak  \n",
       "ECK120021095  [AISGDTU|W|Automated inference that a single-g...       Weak  \n",
       "ECK120009400                                                NaN        NaN  \n",
       "\n",
       "[3699 rows x 6 columns]"
      ]
     },
     "execution_count": 2,
     "metadata": {},
     "output_type": "execute_result"
    }
   ],
   "source": [
    "operon_df = pd.read_csv('regulondb_TUs.txt', sep = '\\t', skiprows = 37, header = None, index_col = 0)\n",
    "operon_df.columns = ['TU', 'operon', 'genes', 'promoter', 'evidence', 'confidence']\n",
    "operon_df"
   ]
  },
  {
   "cell_type": "code",
   "execution_count": 3,
   "metadata": {
    "scrolled": true
   },
   "outputs": [],
   "source": [
    "gene_info = pd.read_csv('RegulonDB_GeneProductSet.txt', index_col = 0, skiprows=41, sep = '\t', header = None)\n",
    "\n",
    "strand_dict = dict(zip(gene_info[1], gene_info[5]))\n",
    "\n",
    "gene_info = pd.read_csv('gene_info.csv', index_col = 0)\n",
    "strand_dict1 = dict(zip(gene_info.gene_name, gene_info.strand))\n",
    "sub_strand = {'+':'forward', '-':'reverse'}\n",
    "strand_dict2 = {k:sub_strand[v] for k, v in strand_dict1.items()}\n",
    "\n",
    "strand_dict = {**strand_dict, **strand_dict2}"
   ]
  },
  {
   "cell_type": "code",
   "execution_count": 4,
   "metadata": {},
   "outputs": [],
   "source": [
    "strand_dict['yaiV'] = 'forward'\n",
    "strand_dict['ydaC'] = 'reverse' # now rcbA\n",
    "strand_dict['ydaQ'] = 'reverse' # now xisR\n",
    "strand_dict['ydcX'] = 'forward' # now ortT\n",
    "strand_dict['acrS'] = 'reverse' # now envR\n",
    "strand_dict['yjhX'] = 'reverse' # now topAI\n",
    "strand_dict['sfmZ'] = 'reverse' # unclear but everything in the neighborhood is reverse.\n",
    "strand_dict['croE'] = 'forward' # now ymfT\n",
    "strand_dict['stfP'] = 'forward' # now ycfK\n",
    "strand_dict['insP'] = 'forward' # now yncK\n",
    "strand_dict['yneM'] = 'forward' # now mgtS\n",
    "strand_dict['intK'] = 'reverse' # now ydfW\n",
    "strand_dict['ynhF'] = 'reverse' # now cydH\n",
    "strand_dict['yegK'] = 'reverse' # now pphC\n",
    "strand_dict['cbdX'] = 'forward' # now appX"
   ]
  },
  {
   "cell_type": "code",
   "execution_count": 5,
   "metadata": {},
   "outputs": [
    {
     "data": {
      "text/html": [
       "<div>\n",
       "<style scoped>\n",
       "    .dataframe tbody tr th:only-of-type {\n",
       "        vertical-align: middle;\n",
       "    }\n",
       "\n",
       "    .dataframe tbody tr th {\n",
       "        vertical-align: top;\n",
       "    }\n",
       "\n",
       "    .dataframe thead th {\n",
       "        text-align: right;\n",
       "    }\n",
       "</style>\n",
       "<table border=\"1\" class=\"dataframe\">\n",
       "  <thead>\n",
       "    <tr style=\"text-align: right;\">\n",
       "      <th></th>\n",
       "      <th>Gene</th>\n",
       "      <th>Locus</th>\n",
       "      <th>Synonyms</th>\n",
       "      <th>Organism</th>\n",
       "      <th>Strain</th>\n",
       "      <th>Binding_site_id</th>\n",
       "      <th>Condition</th>\n",
       "      <th>Peak_start</th>\n",
       "      <th>Peak_end</th>\n",
       "      <th>Peak_strength</th>\n",
       "      <th>link</th>\n",
       "    </tr>\n",
       "  </thead>\n",
       "  <tbody>\n",
       "    <tr>\n",
       "      <th>0</th>\n",
       "      <td>SVEN_RS00030</td>\n",
       "      <td>SVEN_RS00030</td>\n",
       "      <td></td>\n",
       "      <td>Streptomyces venezuelae</td>\n",
       "      <td>ATCC 10712</td>\n",
       "      <td>Lsr2-MS-1</td>\n",
       "      <td>lsr2 + MS</td>\n",
       "      <td>3811</td>\n",
       "      <td>4024</td>\n",
       "      <td>-1.880621</td>\n",
       "      <td>tf_dashboard.html?organism=s_venezuelae&amp;tf=Lsr...</td>\n",
       "    </tr>\n",
       "    <tr>\n",
       "      <th>1</th>\n",
       "      <td>SVEN_RS01020</td>\n",
       "      <td>SVEN_RS01020</td>\n",
       "      <td></td>\n",
       "      <td>Streptomyces venezuelae</td>\n",
       "      <td>ATCC 10712</td>\n",
       "      <td>Lsr2-MS-2</td>\n",
       "      <td>lsr2 + MS</td>\n",
       "      <td>228117</td>\n",
       "      <td>228485</td>\n",
       "      <td>-1.782210</td>\n",
       "      <td>tf_dashboard.html?organism=s_venezuelae&amp;tf=Lsr...</td>\n",
       "    </tr>\n",
       "    <tr>\n",
       "      <th>2</th>\n",
       "      <td>SVEN_RS01220</td>\n",
       "      <td>SVEN_RS01220</td>\n",
       "      <td></td>\n",
       "      <td>Streptomyces venezuelae</td>\n",
       "      <td>ATCC 10712</td>\n",
       "      <td>Lsr2-MS-3</td>\n",
       "      <td>lsr2 + MS</td>\n",
       "      <td>268339</td>\n",
       "      <td>269459</td>\n",
       "      <td>-1.243085</td>\n",
       "      <td>tf_dashboard.html?organism=s_venezuelae&amp;tf=Lsr...</td>\n",
       "    </tr>\n",
       "    <tr>\n",
       "      <th>3</th>\n",
       "      <td>SVEN_RS01230</td>\n",
       "      <td>SVEN_RS01230</td>\n",
       "      <td></td>\n",
       "      <td>Streptomyces venezuelae</td>\n",
       "      <td>ATCC 10712</td>\n",
       "      <td>Lsr2-MS-4</td>\n",
       "      <td>lsr2 + MS</td>\n",
       "      <td>269662</td>\n",
       "      <td>269930</td>\n",
       "      <td>-1.308862</td>\n",
       "      <td>tf_dashboard.html?organism=s_venezuelae&amp;tf=Lsr...</td>\n",
       "    </tr>\n",
       "    <tr>\n",
       "      <th>4</th>\n",
       "      <td>SVEN_RS02195</td>\n",
       "      <td>SVEN_RS02195</td>\n",
       "      <td></td>\n",
       "      <td>Streptomyces venezuelae</td>\n",
       "      <td>ATCC 10712</td>\n",
       "      <td>Lsr2-MS-5</td>\n",
       "      <td>lsr2 + MS</td>\n",
       "      <td>501613</td>\n",
       "      <td>502566</td>\n",
       "      <td>-1.668116</td>\n",
       "      <td>tf_dashboard.html?organism=s_venezuelae&amp;tf=Lsr...</td>\n",
       "    </tr>\n",
       "    <tr>\n",
       "      <th>...</th>\n",
       "      <td>...</td>\n",
       "      <td>...</td>\n",
       "      <td>...</td>\n",
       "      <td>...</td>\n",
       "      <td>...</td>\n",
       "      <td>...</td>\n",
       "      <td>...</td>\n",
       "      <td>...</td>\n",
       "      <td>...</td>\n",
       "      <td>...</td>\n",
       "      <td>...</td>\n",
       "    </tr>\n",
       "    <tr>\n",
       "      <th>32450</th>\n",
       "      <td>gntK</td>\n",
       "      <td>b3437</td>\n",
       "      <td>ECK3422</td>\n",
       "      <td>Escherichia coli</td>\n",
       "      <td>K-12 MG1655</td>\n",
       "      <td>FlhC-LB-46</td>\n",
       "      <td>flhc + LB</td>\n",
       "      <td>3578756</td>\n",
       "      <td>3578798</td>\n",
       "      <td>9.620000</td>\n",
       "      <td>tf_dashboard.html?organism=e_coli&amp;tf=BaeR&amp;geno...</td>\n",
       "    </tr>\n",
       "    <tr>\n",
       "      <th>32451</th>\n",
       "      <td>gntR</td>\n",
       "      <td>b3438</td>\n",
       "      <td>ECK3423</td>\n",
       "      <td>Escherichia coli</td>\n",
       "      <td>K-12 MG1655</td>\n",
       "      <td>FlhC-LB-46</td>\n",
       "      <td>flhc + LB</td>\n",
       "      <td>3578756</td>\n",
       "      <td>3578798</td>\n",
       "      <td>9.620000</td>\n",
       "      <td>tf_dashboard.html?organism=e_coli&amp;tf=BaeR&amp;geno...</td>\n",
       "    </tr>\n",
       "    <tr>\n",
       "      <th>32452</th>\n",
       "      <td>cspA</td>\n",
       "      <td>b3556</td>\n",
       "      <td>ECK3543</td>\n",
       "      <td>Escherichia coli</td>\n",
       "      <td>K-12 MG1655</td>\n",
       "      <td>FlhC-LB-47</td>\n",
       "      <td>flhc + LB</td>\n",
       "      <td>3719983</td>\n",
       "      <td>3720012</td>\n",
       "      <td>1.450000</td>\n",
       "      <td>tf_dashboard.html?organism=e_coli&amp;tf=BaeR&amp;geno...</td>\n",
       "    </tr>\n",
       "    <tr>\n",
       "      <th>32453</th>\n",
       "      <td>aslB</td>\n",
       "      <td>b3800</td>\n",
       "      <td>atsB,ECK3793,gppB</td>\n",
       "      <td>Escherichia coli</td>\n",
       "      <td>K-12 MG1655</td>\n",
       "      <td>FlhC-LB-48</td>\n",
       "      <td>flhc + LB</td>\n",
       "      <td>3982479</td>\n",
       "      <td>3982527</td>\n",
       "      <td>2.020000</td>\n",
       "      <td>tf_dashboard.html?organism=e_coli&amp;tf=BaeR&amp;geno...</td>\n",
       "    </tr>\n",
       "    <tr>\n",
       "      <th>32454</th>\n",
       "      <td>aslB</td>\n",
       "      <td>b3800</td>\n",
       "      <td>atsB,ECK3793,gppB</td>\n",
       "      <td>Escherichia coli</td>\n",
       "      <td>K-12 MG1655</td>\n",
       "      <td>FlhC-LB-49</td>\n",
       "      <td>flhc + LB</td>\n",
       "      <td>3982579</td>\n",
       "      <td>3982622</td>\n",
       "      <td>1.900000</td>\n",
       "      <td>tf_dashboard.html?organism=e_coli&amp;tf=BaeR&amp;geno...</td>\n",
       "    </tr>\n",
       "  </tbody>\n",
       "</table>\n",
       "<p>32455 rows × 11 columns</p>\n",
       "</div>"
      ],
      "text/plain": [
       "               Gene         Locus           Synonyms                 Organism  \\\n",
       "0      SVEN_RS00030  SVEN_RS00030                     Streptomyces venezuelae   \n",
       "1      SVEN_RS01020  SVEN_RS01020                     Streptomyces venezuelae   \n",
       "2      SVEN_RS01220  SVEN_RS01220                     Streptomyces venezuelae   \n",
       "3      SVEN_RS01230  SVEN_RS01230                     Streptomyces venezuelae   \n",
       "4      SVEN_RS02195  SVEN_RS02195                     Streptomyces venezuelae   \n",
       "...             ...           ...                ...                      ...   \n",
       "32450          gntK         b3437            ECK3422         Escherichia coli   \n",
       "32451          gntR         b3438            ECK3423         Escherichia coli   \n",
       "32452          cspA         b3556            ECK3543         Escherichia coli   \n",
       "32453          aslB         b3800  atsB,ECK3793,gppB         Escherichia coli   \n",
       "32454          aslB         b3800  atsB,ECK3793,gppB         Escherichia coli   \n",
       "\n",
       "            Strain Binding_site_id  Condition  Peak_start  Peak_end  \\\n",
       "0       ATCC 10712       Lsr2-MS-1  lsr2 + MS        3811      4024   \n",
       "1       ATCC 10712       Lsr2-MS-2  lsr2 + MS      228117    228485   \n",
       "2       ATCC 10712       Lsr2-MS-3  lsr2 + MS      268339    269459   \n",
       "3       ATCC 10712       Lsr2-MS-4  lsr2 + MS      269662    269930   \n",
       "4       ATCC 10712       Lsr2-MS-5  lsr2 + MS      501613    502566   \n",
       "...            ...             ...        ...         ...       ...   \n",
       "32450  K-12 MG1655      FlhC-LB-46  flhc + LB     3578756   3578798   \n",
       "32451  K-12 MG1655      FlhC-LB-46  flhc + LB     3578756   3578798   \n",
       "32452  K-12 MG1655      FlhC-LB-47  flhc + LB     3719983   3720012   \n",
       "32453  K-12 MG1655      FlhC-LB-48  flhc + LB     3982479   3982527   \n",
       "32454  K-12 MG1655      FlhC-LB-49  flhc + LB     3982579   3982622   \n",
       "\n",
       "       Peak_strength                                               link  \n",
       "0          -1.880621  tf_dashboard.html?organism=s_venezuelae&tf=Lsr...  \n",
       "1          -1.782210  tf_dashboard.html?organism=s_venezuelae&tf=Lsr...  \n",
       "2          -1.243085  tf_dashboard.html?organism=s_venezuelae&tf=Lsr...  \n",
       "3          -1.308862  tf_dashboard.html?organism=s_venezuelae&tf=Lsr...  \n",
       "4          -1.668116  tf_dashboard.html?organism=s_venezuelae&tf=Lsr...  \n",
       "...              ...                                                ...  \n",
       "32450       9.620000  tf_dashboard.html?organism=e_coli&tf=BaeR&geno...  \n",
       "32451       9.620000  tf_dashboard.html?organism=e_coli&tf=BaeR&geno...  \n",
       "32452       1.450000  tf_dashboard.html?organism=e_coli&tf=BaeR&geno...  \n",
       "32453       2.020000  tf_dashboard.html?organism=e_coli&tf=BaeR&geno...  \n",
       "32454       1.900000  tf_dashboard.html?organism=e_coli&tf=BaeR&geno...  \n",
       "\n",
       "[32455 rows x 11 columns]"
      ]
     },
     "execution_count": 5,
     "metadata": {},
     "output_type": "execute_result"
    }
   ],
   "source": [
    "gene_search = pd.read_json('../ChiPdb/data/genes_search.json')\n",
    "gene_search"
   ]
  },
  {
   "cell_type": "code",
   "execution_count": 6,
   "metadata": {},
   "outputs": [],
   "source": [
    "syn_dict = dict()\n",
    "for i, row in gene_search.iterrows():\n",
    "    if len(row.Synonyms) > 0:\n",
    "        for s in row.Synonyms.split(','):\n",
    "            syn_dict[s] = row.Gene"
   ]
  },
  {
   "cell_type": "markdown",
   "metadata": {},
   "source": [
    "## Gene Mapping"
   ]
  },
  {
   "cell_type": "code",
   "execution_count": 7,
   "metadata": {},
   "outputs": [],
   "source": [
    "# get operon sets for each known operon\n",
    "operon_dict = {}\n",
    "for op_id, row in operon_df.iterrows():\n",
    "    operon_dict[op_id] = set(row.genes.split(','))"
   ]
  },
  {
   "cell_type": "code",
   "execution_count": 8,
   "metadata": {},
   "outputs": [],
   "source": [
    "# get all the genes from the operon df\n",
    "genes_odf = set()\n",
    "for k, v in operon_dict.items():\n",
    "    genes_odf = genes_odf.union(v)"
   ]
  },
  {
   "cell_type": "code",
   "execution_count": 9,
   "metadata": {},
   "outputs": [
    {
     "data": {
      "text/plain": [
       "[]"
      ]
     },
     "execution_count": 9,
     "metadata": {},
     "output_type": "execute_result"
    }
   ],
   "source": [
    "gec = gene_search.loc[gene_search.Organism == 'Escherichia coli']\n",
    "bad_genes = []\n",
    "for g in gec.Gene:\n",
    "    try:\n",
    "        strand_dict[g]\n",
    "    except:\n",
    "        try:\n",
    "            strand_dict[g.partition('_')[0]]\n",
    "        except:\n",
    "            bad_genes += [g]\n",
    "bad_genes"
   ]
  },
  {
   "cell_type": "markdown",
   "metadata": {},
   "source": [
    "## Operon Matching"
   ]
  },
  {
   "cell_type": "code",
   "execution_count": 10,
   "metadata": {},
   "outputs": [],
   "source": [
    "from tqdm.notebook import tqdm"
   ]
  },
  {
   "cell_type": "code",
   "execution_count": 12,
   "metadata": {
    "scrolled": true
   },
   "outputs": [
    {
     "data": {
      "application/vnd.jupyter.widget-view+json": {
       "model_id": "14720038ee364e97970d18c86f2b6998",
       "version_major": 2,
       "version_minor": 0
      },
      "text/plain": [
       "HBox(children=(HTML(value=''), FloatProgress(value=0.0, max=83.0), HTML(value='')))"
      ]
     },
     "metadata": {},
     "output_type": "display_data"
    },
    {
     "data": {
      "application/vnd.jupyter.widget-view+json": {
       "model_id": "e2ca45dfc6454e7aba5e8894e2c8b20e",
       "version_major": 2,
       "version_minor": 0
      },
      "text/plain": [
       "HBox(children=(HTML(value=''), FloatProgress(value=1.0, bar_style='info', layout=Layout(width='20px'), max=1.0…"
      ]
     },
     "metadata": {},
     "output_type": "display_data"
    },
    {
     "name": "stdout",
     "output_type": "stream",
     "text": [
      "\n"
     ]
    },
    {
     "data": {
      "application/vnd.jupyter.widget-view+json": {
       "model_id": "337dbeacf65c48f1acb27f4610d4c5c2",
       "version_major": 2,
       "version_minor": 0
      },
      "text/plain": [
       "HBox(children=(HTML(value=''), FloatProgress(value=1.0, bar_style='info', layout=Layout(width='20px'), max=1.0…"
      ]
     },
     "metadata": {},
     "output_type": "display_data"
    },
    {
     "name": "stdout",
     "output_type": "stream",
     "text": [
      "\n"
     ]
    },
    {
     "data": {
      "application/vnd.jupyter.widget-view+json": {
       "model_id": "4955f24314b74492bbbcc62c2efbfdae",
       "version_major": 2,
       "version_minor": 0
      },
      "text/plain": [
       "HBox(children=(HTML(value=''), FloatProgress(value=1.0, bar_style='info', layout=Layout(width='20px'), max=1.0…"
      ]
     },
     "metadata": {},
     "output_type": "display_data"
    },
    {
     "name": "stdout",
     "output_type": "stream",
     "text": [
      "\n"
     ]
    },
    {
     "data": {
      "application/vnd.jupyter.widget-view+json": {
       "model_id": "0add25c243bb4b72b744165fa5a13fae",
       "version_major": 2,
       "version_minor": 0
      },
      "text/plain": [
       "HBox(children=(HTML(value=''), FloatProgress(value=1.0, bar_style='info', layout=Layout(width='20px'), max=1.0…"
      ]
     },
     "metadata": {},
     "output_type": "display_data"
    },
    {
     "name": "stdout",
     "output_type": "stream",
     "text": [
      "\n"
     ]
    },
    {
     "data": {
      "application/vnd.jupyter.widget-view+json": {
       "model_id": "a1fb2fc5f18944c1a0ada0456474a5bb",
       "version_major": 2,
       "version_minor": 0
      },
      "text/plain": [
       "HBox(children=(HTML(value=''), FloatProgress(value=1.0, bar_style='info', layout=Layout(width='20px'), max=1.0…"
      ]
     },
     "metadata": {},
     "output_type": "display_data"
    },
    {
     "name": "stdout",
     "output_type": "stream",
     "text": [
      "\n"
     ]
    },
    {
     "data": {
      "application/vnd.jupyter.widget-view+json": {
       "model_id": "52295acf18fd4999917efef47fdb0002",
       "version_major": 2,
       "version_minor": 0
      },
      "text/plain": [
       "HBox(children=(HTML(value=''), FloatProgress(value=1.0, bar_style='info', layout=Layout(width='20px'), max=1.0…"
      ]
     },
     "metadata": {},
     "output_type": "display_data"
    },
    {
     "name": "stdout",
     "output_type": "stream",
     "text": [
      "\n"
     ]
    },
    {
     "data": {
      "application/vnd.jupyter.widget-view+json": {
       "model_id": "26947ac357e04b348f86cf0854dfaafb",
       "version_major": 2,
       "version_minor": 0
      },
      "text/plain": [
       "HBox(children=(HTML(value=''), FloatProgress(value=1.0, bar_style='info', layout=Layout(width='20px'), max=1.0…"
      ]
     },
     "metadata": {},
     "output_type": "display_data"
    },
    {
     "name": "stdout",
     "output_type": "stream",
     "text": [
      "\n"
     ]
    },
    {
     "data": {
      "application/vnd.jupyter.widget-view+json": {
       "model_id": "6295d1e37ed84c72857e7d88a14d2e74",
       "version_major": 2,
       "version_minor": 0
      },
      "text/plain": [
       "HBox(children=(HTML(value=''), FloatProgress(value=1.0, bar_style='info', layout=Layout(width='20px'), max=1.0…"
      ]
     },
     "metadata": {},
     "output_type": "display_data"
    },
    {
     "name": "stdout",
     "output_type": "stream",
     "text": [
      "\n"
     ]
    },
    {
     "data": {
      "application/vnd.jupyter.widget-view+json": {
       "model_id": "4e765288281a4dc08761c09e2e9bf337",
       "version_major": 2,
       "version_minor": 0
      },
      "text/plain": [
       "HBox(children=(HTML(value=''), FloatProgress(value=1.0, bar_style='info', layout=Layout(width='20px'), max=1.0…"
      ]
     },
     "metadata": {},
     "output_type": "display_data"
    },
    {
     "name": "stdout",
     "output_type": "stream",
     "text": [
      "\n"
     ]
    },
    {
     "data": {
      "application/vnd.jupyter.widget-view+json": {
       "model_id": "fe2afa8253fc4d7e91f02019f612a3aa",
       "version_major": 2,
       "version_minor": 0
      },
      "text/plain": [
       "HBox(children=(HTML(value=''), FloatProgress(value=1.0, bar_style='info', layout=Layout(width='20px'), max=1.0…"
      ]
     },
     "metadata": {},
     "output_type": "display_data"
    },
    {
     "name": "stdout",
     "output_type": "stream",
     "text": [
      "\n"
     ]
    },
    {
     "data": {
      "application/vnd.jupyter.widget-view+json": {
       "model_id": "b7b2c9a2163048049de033360645db9e",
       "version_major": 2,
       "version_minor": 0
      },
      "text/plain": [
       "HBox(children=(HTML(value=''), FloatProgress(value=1.0, bar_style='info', layout=Layout(width='20px'), max=1.0…"
      ]
     },
     "metadata": {},
     "output_type": "display_data"
    },
    {
     "name": "stdout",
     "output_type": "stream",
     "text": [
      "\n"
     ]
    },
    {
     "data": {
      "application/vnd.jupyter.widget-view+json": {
       "model_id": "c6c08a65d25f4421b87dcbdd54e79184",
       "version_major": 2,
       "version_minor": 0
      },
      "text/plain": [
       "HBox(children=(HTML(value=''), FloatProgress(value=1.0, bar_style='info', layout=Layout(width='20px'), max=1.0…"
      ]
     },
     "metadata": {},
     "output_type": "display_data"
    },
    {
     "name": "stdout",
     "output_type": "stream",
     "text": [
      "\n"
     ]
    },
    {
     "data": {
      "application/vnd.jupyter.widget-view+json": {
       "model_id": "960a4a0f1bf9405686fe1a317c94a63a",
       "version_major": 2,
       "version_minor": 0
      },
      "text/plain": [
       "HBox(children=(HTML(value=''), FloatProgress(value=1.0, bar_style='info', layout=Layout(width='20px'), max=1.0…"
      ]
     },
     "metadata": {},
     "output_type": "display_data"
    },
    {
     "name": "stdout",
     "output_type": "stream",
     "text": [
      "\n"
     ]
    },
    {
     "data": {
      "application/vnd.jupyter.widget-view+json": {
       "model_id": "ad0fc62fbf7c41dc86552682d4d5abd2",
       "version_major": 2,
       "version_minor": 0
      },
      "text/plain": [
       "HBox(children=(HTML(value=''), FloatProgress(value=1.0, bar_style='info', layout=Layout(width='20px'), max=1.0…"
      ]
     },
     "metadata": {},
     "output_type": "display_data"
    },
    {
     "name": "stdout",
     "output_type": "stream",
     "text": [
      "\n"
     ]
    },
    {
     "data": {
      "application/vnd.jupyter.widget-view+json": {
       "model_id": "90d6f7fb769a4f959cd8b64296f093f5",
       "version_major": 2,
       "version_minor": 0
      },
      "text/plain": [
       "HBox(children=(HTML(value=''), FloatProgress(value=1.0, bar_style='info', layout=Layout(width='20px'), max=1.0…"
      ]
     },
     "metadata": {},
     "output_type": "display_data"
    },
    {
     "name": "stdout",
     "output_type": "stream",
     "text": [
      "\n"
     ]
    },
    {
     "data": {
      "application/vnd.jupyter.widget-view+json": {
       "model_id": "75464f5c3f034cd9bbdeff10b2bee5a8",
       "version_major": 2,
       "version_minor": 0
      },
      "text/plain": [
       "HBox(children=(HTML(value=''), FloatProgress(value=1.0, bar_style='info', layout=Layout(width='20px'), max=1.0…"
      ]
     },
     "metadata": {},
     "output_type": "display_data"
    },
    {
     "name": "stdout",
     "output_type": "stream",
     "text": [
      "\n"
     ]
    },
    {
     "data": {
      "application/vnd.jupyter.widget-view+json": {
       "model_id": "76b03629d1f3418f878141747a0b6897",
       "version_major": 2,
       "version_minor": 0
      },
      "text/plain": [
       "HBox(children=(HTML(value=''), FloatProgress(value=1.0, bar_style='info', layout=Layout(width='20px'), max=1.0…"
      ]
     },
     "metadata": {},
     "output_type": "display_data"
    },
    {
     "name": "stdout",
     "output_type": "stream",
     "text": [
      "\n"
     ]
    },
    {
     "data": {
      "application/vnd.jupyter.widget-view+json": {
       "model_id": "bb1a9a6ba6324715a9e4f8fd114128e0",
       "version_major": 2,
       "version_minor": 0
      },
      "text/plain": [
       "HBox(children=(HTML(value=''), FloatProgress(value=1.0, bar_style='info', layout=Layout(width='20px'), max=1.0…"
      ]
     },
     "metadata": {},
     "output_type": "display_data"
    },
    {
     "name": "stdout",
     "output_type": "stream",
     "text": [
      "\n"
     ]
    },
    {
     "data": {
      "application/vnd.jupyter.widget-view+json": {
       "model_id": "2298198db36d4cdba8762b9b6bb4bff4",
       "version_major": 2,
       "version_minor": 0
      },
      "text/plain": [
       "HBox(children=(HTML(value=''), FloatProgress(value=1.0, bar_style='info', layout=Layout(width='20px'), max=1.0…"
      ]
     },
     "metadata": {},
     "output_type": "display_data"
    },
    {
     "name": "stdout",
     "output_type": "stream",
     "text": [
      "\n"
     ]
    },
    {
     "data": {
      "application/vnd.jupyter.widget-view+json": {
       "model_id": "d5326f88b92f4b208d2ad2da0e896425",
       "version_major": 2,
       "version_minor": 0
      },
      "text/plain": [
       "HBox(children=(HTML(value=''), FloatProgress(value=1.0, bar_style='info', layout=Layout(width='20px'), max=1.0…"
      ]
     },
     "metadata": {},
     "output_type": "display_data"
    },
    {
     "name": "stdout",
     "output_type": "stream",
     "text": [
      "\n"
     ]
    },
    {
     "data": {
      "application/vnd.jupyter.widget-view+json": {
       "model_id": "9c2f1283babd4995a9ea98f2bbab1e11",
       "version_major": 2,
       "version_minor": 0
      },
      "text/plain": [
       "HBox(children=(HTML(value=''), FloatProgress(value=1.0, bar_style='info', layout=Layout(width='20px'), max=1.0…"
      ]
     },
     "metadata": {},
     "output_type": "display_data"
    },
    {
     "name": "stdout",
     "output_type": "stream",
     "text": [
      "\n"
     ]
    },
    {
     "data": {
      "application/vnd.jupyter.widget-view+json": {
       "model_id": "0d9579c5f6f84fcd9485625a12b5b9a6",
       "version_major": 2,
       "version_minor": 0
      },
      "text/plain": [
       "HBox(children=(HTML(value=''), FloatProgress(value=1.0, bar_style='info', layout=Layout(width='20px'), max=1.0…"
      ]
     },
     "metadata": {},
     "output_type": "display_data"
    },
    {
     "name": "stdout",
     "output_type": "stream",
     "text": [
      "\n"
     ]
    },
    {
     "data": {
      "application/vnd.jupyter.widget-view+json": {
       "model_id": "1d5f5c504f8c4b36b7a55062657aa516",
       "version_major": 2,
       "version_minor": 0
      },
      "text/plain": [
       "HBox(children=(HTML(value=''), FloatProgress(value=1.0, bar_style='info', layout=Layout(width='20px'), max=1.0…"
      ]
     },
     "metadata": {},
     "output_type": "display_data"
    },
    {
     "name": "stdout",
     "output_type": "stream",
     "text": [
      "\n"
     ]
    },
    {
     "data": {
      "application/vnd.jupyter.widget-view+json": {
       "model_id": "c6989af4eeb14df7bf1ea9bd0f8e0a74",
       "version_major": 2,
       "version_minor": 0
      },
      "text/plain": [
       "HBox(children=(HTML(value=''), FloatProgress(value=1.0, bar_style='info', layout=Layout(width='20px'), max=1.0…"
      ]
     },
     "metadata": {},
     "output_type": "display_data"
    },
    {
     "name": "stdout",
     "output_type": "stream",
     "text": [
      "\n"
     ]
    },
    {
     "data": {
      "application/vnd.jupyter.widget-view+json": {
       "model_id": "b8a702769a9940fca2c5fad489100f33",
       "version_major": 2,
       "version_minor": 0
      },
      "text/plain": [
       "HBox(children=(HTML(value=''), FloatProgress(value=1.0, bar_style='info', layout=Layout(width='20px'), max=1.0…"
      ]
     },
     "metadata": {},
     "output_type": "display_data"
    },
    {
     "name": "stdout",
     "output_type": "stream",
     "text": [
      "\n"
     ]
    },
    {
     "data": {
      "application/vnd.jupyter.widget-view+json": {
       "model_id": "2d80c626b75a436cbe39bea01a3507b2",
       "version_major": 2,
       "version_minor": 0
      },
      "text/plain": [
       "HBox(children=(HTML(value=''), FloatProgress(value=1.0, bar_style='info', layout=Layout(width='20px'), max=1.0…"
      ]
     },
     "metadata": {},
     "output_type": "display_data"
    },
    {
     "name": "stdout",
     "output_type": "stream",
     "text": [
      "\n"
     ]
    },
    {
     "data": {
      "application/vnd.jupyter.widget-view+json": {
       "model_id": "b5ea8ccd8f1144a3b13b37f7272b0f8f",
       "version_major": 2,
       "version_minor": 0
      },
      "text/plain": [
       "HBox(children=(HTML(value=''), FloatProgress(value=1.0, bar_style='info', layout=Layout(width='20px'), max=1.0…"
      ]
     },
     "metadata": {},
     "output_type": "display_data"
    },
    {
     "name": "stdout",
     "output_type": "stream",
     "text": [
      "\n"
     ]
    },
    {
     "data": {
      "application/vnd.jupyter.widget-view+json": {
       "model_id": "4933693758b0480797b11d15df9fe6cf",
       "version_major": 2,
       "version_minor": 0
      },
      "text/plain": [
       "HBox(children=(HTML(value=''), FloatProgress(value=1.0, bar_style='info', layout=Layout(width='20px'), max=1.0…"
      ]
     },
     "metadata": {},
     "output_type": "display_data"
    },
    {
     "name": "stdout",
     "output_type": "stream",
     "text": [
      "\n"
     ]
    },
    {
     "data": {
      "application/vnd.jupyter.widget-view+json": {
       "model_id": "478a171a578d44f09796f4d572647d64",
       "version_major": 2,
       "version_minor": 0
      },
      "text/plain": [
       "HBox(children=(HTML(value=''), FloatProgress(value=1.0, bar_style='info', layout=Layout(width='20px'), max=1.0…"
      ]
     },
     "metadata": {},
     "output_type": "display_data"
    },
    {
     "name": "stdout",
     "output_type": "stream",
     "text": [
      "\n"
     ]
    },
    {
     "data": {
      "application/vnd.jupyter.widget-view+json": {
       "model_id": "20ff80abe7734318816e9c9acc4d006e",
       "version_major": 2,
       "version_minor": 0
      },
      "text/plain": [
       "HBox(children=(HTML(value=''), FloatProgress(value=1.0, bar_style='info', layout=Layout(width='20px'), max=1.0…"
      ]
     },
     "metadata": {},
     "output_type": "display_data"
    },
    {
     "name": "stdout",
     "output_type": "stream",
     "text": [
      "\n"
     ]
    },
    {
     "data": {
      "application/vnd.jupyter.widget-view+json": {
       "model_id": "63f5b58004434c60b9ec4ff64ee82b9f",
       "version_major": 2,
       "version_minor": 0
      },
      "text/plain": [
       "HBox(children=(HTML(value=''), FloatProgress(value=1.0, bar_style='info', layout=Layout(width='20px'), max=1.0…"
      ]
     },
     "metadata": {},
     "output_type": "display_data"
    },
    {
     "name": "stdout",
     "output_type": "stream",
     "text": [
      "\n"
     ]
    },
    {
     "data": {
      "application/vnd.jupyter.widget-view+json": {
       "model_id": "505cc24ec5884da8861d787dc968c096",
       "version_major": 2,
       "version_minor": 0
      },
      "text/plain": [
       "HBox(children=(HTML(value=''), FloatProgress(value=1.0, bar_style='info', layout=Layout(width='20px'), max=1.0…"
      ]
     },
     "metadata": {},
     "output_type": "display_data"
    },
    {
     "name": "stdout",
     "output_type": "stream",
     "text": [
      "\n"
     ]
    },
    {
     "data": {
      "application/vnd.jupyter.widget-view+json": {
       "model_id": "59a11534972f46cfb31736b657b228ca",
       "version_major": 2,
       "version_minor": 0
      },
      "text/plain": [
       "HBox(children=(HTML(value=''), FloatProgress(value=1.0, bar_style='info', layout=Layout(width='20px'), max=1.0…"
      ]
     },
     "metadata": {},
     "output_type": "display_data"
    },
    {
     "name": "stdout",
     "output_type": "stream",
     "text": [
      "\n"
     ]
    },
    {
     "data": {
      "application/vnd.jupyter.widget-view+json": {
       "model_id": "e9c7d36702ff4a55ac14374b44b57d28",
       "version_major": 2,
       "version_minor": 0
      },
      "text/plain": [
       "HBox(children=(HTML(value=''), FloatProgress(value=1.0, bar_style='info', layout=Layout(width='20px'), max=1.0…"
      ]
     },
     "metadata": {},
     "output_type": "display_data"
    },
    {
     "name": "stdout",
     "output_type": "stream",
     "text": [
      "\n"
     ]
    },
    {
     "data": {
      "application/vnd.jupyter.widget-view+json": {
       "model_id": "3d33791c89a44a63890e8d3cdbbdb8c6",
       "version_major": 2,
       "version_minor": 0
      },
      "text/plain": [
       "HBox(children=(HTML(value=''), FloatProgress(value=1.0, bar_style='info', layout=Layout(width='20px'), max=1.0…"
      ]
     },
     "metadata": {},
     "output_type": "display_data"
    },
    {
     "name": "stdout",
     "output_type": "stream",
     "text": [
      "\n"
     ]
    },
    {
     "data": {
      "application/vnd.jupyter.widget-view+json": {
       "model_id": "6ed888acf69148e7a37e28e56d1efe8e",
       "version_major": 2,
       "version_minor": 0
      },
      "text/plain": [
       "HBox(children=(HTML(value=''), FloatProgress(value=1.0, bar_style='info', layout=Layout(width='20px'), max=1.0…"
      ]
     },
     "metadata": {},
     "output_type": "display_data"
    },
    {
     "name": "stdout",
     "output_type": "stream",
     "text": [
      "\n"
     ]
    },
    {
     "data": {
      "application/vnd.jupyter.widget-view+json": {
       "model_id": "be275d8f86394a0cae277371a6fab508",
       "version_major": 2,
       "version_minor": 0
      },
      "text/plain": [
       "HBox(children=(HTML(value=''), FloatProgress(value=1.0, bar_style='info', layout=Layout(width='20px'), max=1.0…"
      ]
     },
     "metadata": {},
     "output_type": "display_data"
    },
    {
     "name": "stdout",
     "output_type": "stream",
     "text": [
      "\n"
     ]
    },
    {
     "data": {
      "application/vnd.jupyter.widget-view+json": {
       "model_id": "93095d5e602d4fb9a9cc34be887ba245",
       "version_major": 2,
       "version_minor": 0
      },
      "text/plain": [
       "HBox(children=(HTML(value=''), FloatProgress(value=1.0, bar_style='info', layout=Layout(width='20px'), max=1.0…"
      ]
     },
     "metadata": {},
     "output_type": "display_data"
    },
    {
     "name": "stdout",
     "output_type": "stream",
     "text": [
      "\n"
     ]
    },
    {
     "data": {
      "application/vnd.jupyter.widget-view+json": {
       "model_id": "5fae0d15f6ec4b0c92a45f07b762ad2d",
       "version_major": 2,
       "version_minor": 0
      },
      "text/plain": [
       "HBox(children=(HTML(value=''), FloatProgress(value=1.0, bar_style='info', layout=Layout(width='20px'), max=1.0…"
      ]
     },
     "metadata": {},
     "output_type": "display_data"
    },
    {
     "name": "stdout",
     "output_type": "stream",
     "text": [
      "\n"
     ]
    },
    {
     "data": {
      "application/vnd.jupyter.widget-view+json": {
       "model_id": "9d5bc04010304a3fa5f7ac54acc322f0",
       "version_major": 2,
       "version_minor": 0
      },
      "text/plain": [
       "HBox(children=(HTML(value=''), FloatProgress(value=1.0, bar_style='info', layout=Layout(width='20px'), max=1.0…"
      ]
     },
     "metadata": {},
     "output_type": "display_data"
    },
    {
     "name": "stdout",
     "output_type": "stream",
     "text": [
      "\n"
     ]
    },
    {
     "data": {
      "application/vnd.jupyter.widget-view+json": {
       "model_id": "82d5a05d6cad42238a4e881e328198f1",
       "version_major": 2,
       "version_minor": 0
      },
      "text/plain": [
       "HBox(children=(HTML(value=''), FloatProgress(value=1.0, bar_style='info', layout=Layout(width='20px'), max=1.0…"
      ]
     },
     "metadata": {},
     "output_type": "display_data"
    },
    {
     "name": "stdout",
     "output_type": "stream",
     "text": [
      "\n"
     ]
    },
    {
     "data": {
      "application/vnd.jupyter.widget-view+json": {
       "model_id": "11e52a5211834fed8bbf1bbec092ac45",
       "version_major": 2,
       "version_minor": 0
      },
      "text/plain": [
       "HBox(children=(HTML(value=''), FloatProgress(value=1.0, bar_style='info', layout=Layout(width='20px'), max=1.0…"
      ]
     },
     "metadata": {},
     "output_type": "display_data"
    },
    {
     "name": "stdout",
     "output_type": "stream",
     "text": [
      "\n"
     ]
    },
    {
     "data": {
      "application/vnd.jupyter.widget-view+json": {
       "model_id": "3360d68c1e98458288fd8eeb318d1711",
       "version_major": 2,
       "version_minor": 0
      },
      "text/plain": [
       "HBox(children=(HTML(value=''), FloatProgress(value=1.0, bar_style='info', layout=Layout(width='20px'), max=1.0…"
      ]
     },
     "metadata": {},
     "output_type": "display_data"
    },
    {
     "name": "stdout",
     "output_type": "stream",
     "text": [
      "\n"
     ]
    },
    {
     "data": {
      "application/vnd.jupyter.widget-view+json": {
       "model_id": "af99b2f170ed4690805c691c82ae1ed1",
       "version_major": 2,
       "version_minor": 0
      },
      "text/plain": [
       "HBox(children=(HTML(value=''), FloatProgress(value=1.0, bar_style='info', layout=Layout(width='20px'), max=1.0…"
      ]
     },
     "metadata": {},
     "output_type": "display_data"
    },
    {
     "name": "stdout",
     "output_type": "stream",
     "text": [
      "\n"
     ]
    },
    {
     "data": {
      "application/vnd.jupyter.widget-view+json": {
       "model_id": "986545a26ba4415fb3e58f8ddbe9b36d",
       "version_major": 2,
       "version_minor": 0
      },
      "text/plain": [
       "HBox(children=(HTML(value=''), FloatProgress(value=1.0, bar_style='info', layout=Layout(width='20px'), max=1.0…"
      ]
     },
     "metadata": {},
     "output_type": "display_data"
    },
    {
     "name": "stdout",
     "output_type": "stream",
     "text": [
      "\n"
     ]
    },
    {
     "data": {
      "application/vnd.jupyter.widget-view+json": {
       "model_id": "1c3882c626a2452ab5ee38b4e2ac1423",
       "version_major": 2,
       "version_minor": 0
      },
      "text/plain": [
       "HBox(children=(HTML(value=''), FloatProgress(value=1.0, bar_style='info', layout=Layout(width='20px'), max=1.0…"
      ]
     },
     "metadata": {},
     "output_type": "display_data"
    },
    {
     "name": "stdout",
     "output_type": "stream",
     "text": [
      "\n"
     ]
    },
    {
     "data": {
      "application/vnd.jupyter.widget-view+json": {
       "model_id": "620015017b4d4be3afcd080048084e24",
       "version_major": 2,
       "version_minor": 0
      },
      "text/plain": [
       "HBox(children=(HTML(value=''), FloatProgress(value=1.0, bar_style='info', layout=Layout(width='20px'), max=1.0…"
      ]
     },
     "metadata": {},
     "output_type": "display_data"
    },
    {
     "name": "stdout",
     "output_type": "stream",
     "text": [
      "\n"
     ]
    },
    {
     "data": {
      "application/vnd.jupyter.widget-view+json": {
       "model_id": "3eedb4f4cef24ca6a32672bac95eb959",
       "version_major": 2,
       "version_minor": 0
      },
      "text/plain": [
       "HBox(children=(HTML(value=''), FloatProgress(value=1.0, bar_style='info', layout=Layout(width='20px'), max=1.0…"
      ]
     },
     "metadata": {},
     "output_type": "display_data"
    },
    {
     "name": "stdout",
     "output_type": "stream",
     "text": [
      "\n"
     ]
    },
    {
     "data": {
      "application/vnd.jupyter.widget-view+json": {
       "model_id": "55d2c31565604c10b879bad2dc46067f",
       "version_major": 2,
       "version_minor": 0
      },
      "text/plain": [
       "HBox(children=(HTML(value=''), FloatProgress(value=1.0, bar_style='info', layout=Layout(width='20px'), max=1.0…"
      ]
     },
     "metadata": {},
     "output_type": "display_data"
    },
    {
     "name": "stdout",
     "output_type": "stream",
     "text": [
      "\n"
     ]
    },
    {
     "data": {
      "application/vnd.jupyter.widget-view+json": {
       "model_id": "0e3c49f640e44235831062b609f6c889",
       "version_major": 2,
       "version_minor": 0
      },
      "text/plain": [
       "HBox(children=(HTML(value=''), FloatProgress(value=1.0, bar_style='info', layout=Layout(width='20px'), max=1.0…"
      ]
     },
     "metadata": {},
     "output_type": "display_data"
    },
    {
     "name": "stdout",
     "output_type": "stream",
     "text": [
      "\n"
     ]
    },
    {
     "data": {
      "application/vnd.jupyter.widget-view+json": {
       "model_id": "e95019c6808f431ea450334ef428886d",
       "version_major": 2,
       "version_minor": 0
      },
      "text/plain": [
       "HBox(children=(HTML(value=''), FloatProgress(value=1.0, bar_style='info', layout=Layout(width='20px'), max=1.0…"
      ]
     },
     "metadata": {},
     "output_type": "display_data"
    },
    {
     "name": "stdout",
     "output_type": "stream",
     "text": [
      "\n"
     ]
    },
    {
     "data": {
      "application/vnd.jupyter.widget-view+json": {
       "model_id": "0bcff16a96a2418fa27c3cb402df460e",
       "version_major": 2,
       "version_minor": 0
      },
      "text/plain": [
       "HBox(children=(HTML(value=''), FloatProgress(value=1.0, bar_style='info', layout=Layout(width='20px'), max=1.0…"
      ]
     },
     "metadata": {},
     "output_type": "display_data"
    },
    {
     "name": "stdout",
     "output_type": "stream",
     "text": [
      "\n"
     ]
    },
    {
     "data": {
      "application/vnd.jupyter.widget-view+json": {
       "model_id": "ef987e7211ce494d90fd5d7f20ee3904",
       "version_major": 2,
       "version_minor": 0
      },
      "text/plain": [
       "HBox(children=(HTML(value=''), FloatProgress(value=1.0, bar_style='info', layout=Layout(width='20px'), max=1.0…"
      ]
     },
     "metadata": {},
     "output_type": "display_data"
    },
    {
     "name": "stdout",
     "output_type": "stream",
     "text": [
      "\n"
     ]
    },
    {
     "data": {
      "application/vnd.jupyter.widget-view+json": {
       "model_id": "f0204a7ce5514ed0b149b5aafedb941d",
       "version_major": 2,
       "version_minor": 0
      },
      "text/plain": [
       "HBox(children=(HTML(value=''), FloatProgress(value=1.0, bar_style='info', layout=Layout(width='20px'), max=1.0…"
      ]
     },
     "metadata": {},
     "output_type": "display_data"
    },
    {
     "name": "stdout",
     "output_type": "stream",
     "text": [
      "\n"
     ]
    },
    {
     "data": {
      "application/vnd.jupyter.widget-view+json": {
       "model_id": "26f8df8dc9e94f1f9340fba9a29effd3",
       "version_major": 2,
       "version_minor": 0
      },
      "text/plain": [
       "HBox(children=(HTML(value=''), FloatProgress(value=1.0, bar_style='info', layout=Layout(width='20px'), max=1.0…"
      ]
     },
     "metadata": {},
     "output_type": "display_data"
    },
    {
     "name": "stdout",
     "output_type": "stream",
     "text": [
      "\n"
     ]
    },
    {
     "data": {
      "application/vnd.jupyter.widget-view+json": {
       "model_id": "3804479546f848c3b5a5d27798300d9a",
       "version_major": 2,
       "version_minor": 0
      },
      "text/plain": [
       "HBox(children=(HTML(value=''), FloatProgress(value=1.0, bar_style='info', layout=Layout(width='20px'), max=1.0…"
      ]
     },
     "metadata": {},
     "output_type": "display_data"
    },
    {
     "name": "stdout",
     "output_type": "stream",
     "text": [
      "\n"
     ]
    },
    {
     "data": {
      "application/vnd.jupyter.widget-view+json": {
       "model_id": "c4f8055af9d84a82ab48864e81b63594",
       "version_major": 2,
       "version_minor": 0
      },
      "text/plain": [
       "HBox(children=(HTML(value=''), FloatProgress(value=1.0, bar_style='info', layout=Layout(width='20px'), max=1.0…"
      ]
     },
     "metadata": {},
     "output_type": "display_data"
    },
    {
     "name": "stdout",
     "output_type": "stream",
     "text": [
      "\n"
     ]
    },
    {
     "data": {
      "application/vnd.jupyter.widget-view+json": {
       "model_id": "61bfe84963794e229ea67e457cae7719",
       "version_major": 2,
       "version_minor": 0
      },
      "text/plain": [
       "HBox(children=(HTML(value=''), FloatProgress(value=1.0, bar_style='info', layout=Layout(width='20px'), max=1.0…"
      ]
     },
     "metadata": {},
     "output_type": "display_data"
    },
    {
     "name": "stdout",
     "output_type": "stream",
     "text": [
      "\n"
     ]
    },
    {
     "data": {
      "application/vnd.jupyter.widget-view+json": {
       "model_id": "84d7abd627ce4e5ebf865797ad9eb8f3",
       "version_major": 2,
       "version_minor": 0
      },
      "text/plain": [
       "HBox(children=(HTML(value=''), FloatProgress(value=1.0, bar_style='info', layout=Layout(width='20px'), max=1.0…"
      ]
     },
     "metadata": {},
     "output_type": "display_data"
    },
    {
     "name": "stdout",
     "output_type": "stream",
     "text": [
      "\n"
     ]
    },
    {
     "data": {
      "application/vnd.jupyter.widget-view+json": {
       "model_id": "4ad11abb668e4fc1a91314037f5e849e",
       "version_major": 2,
       "version_minor": 0
      },
      "text/plain": [
       "HBox(children=(HTML(value=''), FloatProgress(value=1.0, bar_style='info', layout=Layout(width='20px'), max=1.0…"
      ]
     },
     "metadata": {},
     "output_type": "display_data"
    },
    {
     "name": "stdout",
     "output_type": "stream",
     "text": [
      "\n"
     ]
    },
    {
     "data": {
      "application/vnd.jupyter.widget-view+json": {
       "model_id": "052348c07d6d42a389ca7bcdccc296ab",
       "version_major": 2,
       "version_minor": 0
      },
      "text/plain": [
       "HBox(children=(HTML(value=''), FloatProgress(value=1.0, bar_style='info', layout=Layout(width='20px'), max=1.0…"
      ]
     },
     "metadata": {},
     "output_type": "display_data"
    },
    {
     "name": "stdout",
     "output_type": "stream",
     "text": [
      "\n"
     ]
    },
    {
     "data": {
      "application/vnd.jupyter.widget-view+json": {
       "model_id": "16c6e9fbec1d4f8295de715160ab2b96",
       "version_major": 2,
       "version_minor": 0
      },
      "text/plain": [
       "HBox(children=(HTML(value=''), FloatProgress(value=1.0, bar_style='info', layout=Layout(width='20px'), max=1.0…"
      ]
     },
     "metadata": {},
     "output_type": "display_data"
    },
    {
     "name": "stdout",
     "output_type": "stream",
     "text": [
      "\n"
     ]
    },
    {
     "data": {
      "application/vnd.jupyter.widget-view+json": {
       "model_id": "bbb97aa86dcc4a6a99b2acdd4dd99251",
       "version_major": 2,
       "version_minor": 0
      },
      "text/plain": [
       "HBox(children=(HTML(value=''), FloatProgress(value=1.0, bar_style='info', layout=Layout(width='20px'), max=1.0…"
      ]
     },
     "metadata": {},
     "output_type": "display_data"
    },
    {
     "name": "stdout",
     "output_type": "stream",
     "text": [
      "\n"
     ]
    },
    {
     "data": {
      "application/vnd.jupyter.widget-view+json": {
       "model_id": "d70cdc8f98c84dc1a2d2fd3a046aba61",
       "version_major": 2,
       "version_minor": 0
      },
      "text/plain": [
       "HBox(children=(HTML(value=''), FloatProgress(value=1.0, bar_style='info', layout=Layout(width='20px'), max=1.0…"
      ]
     },
     "metadata": {},
     "output_type": "display_data"
    },
    {
     "name": "stdout",
     "output_type": "stream",
     "text": [
      "\n"
     ]
    },
    {
     "data": {
      "application/vnd.jupyter.widget-view+json": {
       "model_id": "3716ce5627e7439cb08a8db926df4385",
       "version_major": 2,
       "version_minor": 0
      },
      "text/plain": [
       "HBox(children=(HTML(value=''), FloatProgress(value=1.0, bar_style='info', layout=Layout(width='20px'), max=1.0…"
      ]
     },
     "metadata": {},
     "output_type": "display_data"
    },
    {
     "name": "stdout",
     "output_type": "stream",
     "text": [
      "\n"
     ]
    },
    {
     "data": {
      "application/vnd.jupyter.widget-view+json": {
       "model_id": "ea4ef0c92bc44b28abc35e3bb8de62fe",
       "version_major": 2,
       "version_minor": 0
      },
      "text/plain": [
       "HBox(children=(HTML(value=''), FloatProgress(value=1.0, bar_style='info', layout=Layout(width='20px'), max=1.0…"
      ]
     },
     "metadata": {},
     "output_type": "display_data"
    },
    {
     "name": "stdout",
     "output_type": "stream",
     "text": [
      "\n"
     ]
    },
    {
     "data": {
      "application/vnd.jupyter.widget-view+json": {
       "model_id": "018d17f778e54e2aad131d58a7454f92",
       "version_major": 2,
       "version_minor": 0
      },
      "text/plain": [
       "HBox(children=(HTML(value=''), FloatProgress(value=1.0, bar_style='info', layout=Layout(width='20px'), max=1.0…"
      ]
     },
     "metadata": {},
     "output_type": "display_data"
    },
    {
     "name": "stdout",
     "output_type": "stream",
     "text": [
      "\n"
     ]
    },
    {
     "data": {
      "application/vnd.jupyter.widget-view+json": {
       "model_id": "e683d76790ec437ea48fcc85fa8bddef",
       "version_major": 2,
       "version_minor": 0
      },
      "text/plain": [
       "HBox(children=(HTML(value=''), FloatProgress(value=1.0, bar_style='info', layout=Layout(width='20px'), max=1.0…"
      ]
     },
     "metadata": {},
     "output_type": "display_data"
    },
    {
     "name": "stdout",
     "output_type": "stream",
     "text": [
      "\n"
     ]
    },
    {
     "data": {
      "application/vnd.jupyter.widget-view+json": {
       "model_id": "934ec9697d8f4f849aaeaff82fd62397",
       "version_major": 2,
       "version_minor": 0
      },
      "text/plain": [
       "HBox(children=(HTML(value=''), FloatProgress(value=1.0, bar_style='info', layout=Layout(width='20px'), max=1.0…"
      ]
     },
     "metadata": {},
     "output_type": "display_data"
    },
    {
     "name": "stdout",
     "output_type": "stream",
     "text": [
      "\n"
     ]
    },
    {
     "data": {
      "application/vnd.jupyter.widget-view+json": {
       "model_id": "7eb5582e17784e63ba457562b99e6627",
       "version_major": 2,
       "version_minor": 0
      },
      "text/plain": [
       "HBox(children=(HTML(value=''), FloatProgress(value=1.0, bar_style='info', layout=Layout(width='20px'), max=1.0…"
      ]
     },
     "metadata": {},
     "output_type": "display_data"
    },
    {
     "name": "stdout",
     "output_type": "stream",
     "text": [
      "\n"
     ]
    },
    {
     "data": {
      "application/vnd.jupyter.widget-view+json": {
       "model_id": "73d0ff4359bb40ec989658d65ae765b7",
       "version_major": 2,
       "version_minor": 0
      },
      "text/plain": [
       "HBox(children=(HTML(value=''), FloatProgress(value=1.0, bar_style='info', layout=Layout(width='20px'), max=1.0…"
      ]
     },
     "metadata": {},
     "output_type": "display_data"
    },
    {
     "name": "stdout",
     "output_type": "stream",
     "text": [
      "\n"
     ]
    },
    {
     "data": {
      "application/vnd.jupyter.widget-view+json": {
       "model_id": "aeac73905b4e45d4918b78640684edef",
       "version_major": 2,
       "version_minor": 0
      },
      "text/plain": [
       "HBox(children=(HTML(value=''), FloatProgress(value=1.0, bar_style='info', layout=Layout(width='20px'), max=1.0…"
      ]
     },
     "metadata": {},
     "output_type": "display_data"
    },
    {
     "name": "stdout",
     "output_type": "stream",
     "text": [
      "\n"
     ]
    },
    {
     "data": {
      "application/vnd.jupyter.widget-view+json": {
       "model_id": "06b3804425d04d2dbdf69e1a8aef453f",
       "version_major": 2,
       "version_minor": 0
      },
      "text/plain": [
       "HBox(children=(HTML(value=''), FloatProgress(value=1.0, bar_style='info', layout=Layout(width='20px'), max=1.0…"
      ]
     },
     "metadata": {},
     "output_type": "display_data"
    },
    {
     "name": "stdout",
     "output_type": "stream",
     "text": [
      "\n"
     ]
    },
    {
     "data": {
      "application/vnd.jupyter.widget-view+json": {
       "model_id": "e272f33591a64435a08e0158ae0d6168",
       "version_major": 2,
       "version_minor": 0
      },
      "text/plain": [
       "HBox(children=(HTML(value=''), FloatProgress(value=1.0, bar_style='info', layout=Layout(width='20px'), max=1.0…"
      ]
     },
     "metadata": {},
     "output_type": "display_data"
    },
    {
     "name": "stdout",
     "output_type": "stream",
     "text": [
      "\n"
     ]
    },
    {
     "data": {
      "application/vnd.jupyter.widget-view+json": {
       "model_id": "8682438695724e47a599374e0fa0fcce",
       "version_major": 2,
       "version_minor": 0
      },
      "text/plain": [
       "HBox(children=(HTML(value=''), FloatProgress(value=1.0, bar_style='info', layout=Layout(width='20px'), max=1.0…"
      ]
     },
     "metadata": {},
     "output_type": "display_data"
    },
    {
     "name": "stdout",
     "output_type": "stream",
     "text": [
      "\n"
     ]
    },
    {
     "data": {
      "application/vnd.jupyter.widget-view+json": {
       "model_id": "5ffcb042a032453c93eb91daedba7ab9",
       "version_major": 2,
       "version_minor": 0
      },
      "text/plain": [
       "HBox(children=(HTML(value=''), FloatProgress(value=1.0, bar_style='info', layout=Layout(width='20px'), max=1.0…"
      ]
     },
     "metadata": {},
     "output_type": "display_data"
    },
    {
     "name": "stdout",
     "output_type": "stream",
     "text": [
      "\n"
     ]
    },
    {
     "data": {
      "application/vnd.jupyter.widget-view+json": {
       "model_id": "5cb1fcd5f06f41f7b18dda5f654c526f",
       "version_major": 2,
       "version_minor": 0
      },
      "text/plain": [
       "HBox(children=(HTML(value=''), FloatProgress(value=1.0, bar_style='info', layout=Layout(width='20px'), max=1.0…"
      ]
     },
     "metadata": {},
     "output_type": "display_data"
    },
    {
     "name": "stdout",
     "output_type": "stream",
     "text": [
      "\n"
     ]
    },
    {
     "data": {
      "application/vnd.jupyter.widget-view+json": {
       "model_id": "9fae07688d92427897fcfbc056738114",
       "version_major": 2,
       "version_minor": 0
      },
      "text/plain": [
       "HBox(children=(HTML(value=''), FloatProgress(value=1.0, bar_style='info', layout=Layout(width='20px'), max=1.0…"
      ]
     },
     "metadata": {},
     "output_type": "display_data"
    },
    {
     "name": "stdout",
     "output_type": "stream",
     "text": [
      "\n"
     ]
    },
    {
     "data": {
      "application/vnd.jupyter.widget-view+json": {
       "model_id": "6a99099c33b944ef9d5db1a4606e58f5",
       "version_major": 2,
       "version_minor": 0
      },
      "text/plain": [
       "HBox(children=(HTML(value=''), FloatProgress(value=1.0, bar_style='info', layout=Layout(width='20px'), max=1.0…"
      ]
     },
     "metadata": {},
     "output_type": "display_data"
    },
    {
     "name": "stdout",
     "output_type": "stream",
     "text": [
      "\n"
     ]
    },
    {
     "data": {
      "application/vnd.jupyter.widget-view+json": {
       "model_id": "2b8d1be7aeff46acb8b33e4caffb8464",
       "version_major": 2,
       "version_minor": 0
      },
      "text/plain": [
       "HBox(children=(HTML(value=''), FloatProgress(value=1.0, bar_style='info', layout=Layout(width='20px'), max=1.0…"
      ]
     },
     "metadata": {},
     "output_type": "display_data"
    },
    {
     "name": "stdout",
     "output_type": "stream",
     "text": [
      "\n"
     ]
    },
    {
     "data": {
      "application/vnd.jupyter.widget-view+json": {
       "model_id": "f07ccc3b76884db28e3adb572ad1d92f",
       "version_major": 2,
       "version_minor": 0
      },
      "text/plain": [
       "HBox(children=(HTML(value=''), FloatProgress(value=1.0, bar_style='info', layout=Layout(width='20px'), max=1.0…"
      ]
     },
     "metadata": {},
     "output_type": "display_data"
    },
    {
     "name": "stdout",
     "output_type": "stream",
     "text": [
      "\n"
     ]
    },
    {
     "data": {
      "application/vnd.jupyter.widget-view+json": {
       "model_id": "109eb10689004a3ca53108e2fd66a8a3",
       "version_major": 2,
       "version_minor": 0
      },
      "text/plain": [
       "HBox(children=(HTML(value=''), FloatProgress(value=1.0, bar_style='info', layout=Layout(width='20px'), max=1.0…"
      ]
     },
     "metadata": {},
     "output_type": "display_data"
    },
    {
     "name": "stdout",
     "output_type": "stream",
     "text": [
      "\n",
      "\n"
     ]
    }
   ],
   "source": [
    "# iterate through this folder\n",
    "folder = '../ChiPdb/data/e_coli/NC_000913.3/table/'\n",
    "\n",
    "# use these to build the new links\n",
    "# unfortunately have to use search functionality since actual\n",
    "#    operon ids are not available :/\n",
    "link_pre = 'http://regulondb.ccg.unam.mx/search?term='\n",
    "link_suf = '&organism=ECK12&type=All#OPERON'\n",
    "\n",
    "html_pre = '<a href=\"'\n",
    "html_mid = '\" target=\"_blank\">'\n",
    "html_suf = '</a>'\n",
    "\n",
    "# there is an odd error in the code. Apologies for this ugly workaround.\n",
    "bad1 = ',<a href=\"http://regulondb.ccg.unam.mx/search?term=ECK120009818&organism=ECK12&type=All#OPERON\" target=\"_blank\"></a>'\n",
    "bad2 = '<a href=\"http://regulondb.ccg.unam.mx/search?term=ECK120009818&organism=ECK12&type=All#OPERON\" target=\"_blank\"></a>,'\n",
    "\n",
    "tables = os.listdir(folder)\n",
    "for t in tqdm(tables):\n",
    "    try:\n",
    "        bt = pd.read_json(folder + t)\n",
    "    except:\n",
    "        continue\n",
    "    \n",
    "    for i, row in tqdm(bt.iterrows()):\n",
    "        if len(row.target_genes) > 0:\n",
    "            target_genes = row.target_genes\n",
    "            closest_gene = row.closest_gene\n",
    "            op_target = set(target_genes.split(','))\n",
    "\n",
    "            op_target_f = set()\n",
    "            op_target_r = set()\n",
    "            for g in op_target:\n",
    "                if not(g in strand_dict) & ('_' in g):\n",
    "                    g = g.partition('_')[0]\n",
    "                if strand_dict[g] == 'forward':\n",
    "                    op_target_f = op_target_f.union([g])\n",
    "                else:\n",
    "                    op_target_r = op_target_r.union([g])\n",
    "\n",
    "            res_full = []\n",
    "\n",
    "            for op_t in [op_target_f, op_target_r]:\n",
    "                # first, look for operons that contain this one\n",
    "                matches = pd.Series(dtype = int)\n",
    "                for op_id, op_set in operon_dict.items():\n",
    "                    if op_t.issubset(op_set):\n",
    "                        matches.loc[op_id] = len(op_set)\n",
    "\n",
    "                if matches.shape[0] > 0: # there is an operon containing this\n",
    "                    # get the smallest ones\n",
    "                    matches = matches.loc[matches == matches.min()]\n",
    "                    match_df = operon_df.loc[matches.index]\n",
    "\n",
    "                    # sort\n",
    "                    match_df = match_df.sort_values(['confidence', 'promoter'])\n",
    "                    op_id = match_df.index[0]\n",
    "                    targets = ','.join(op_t)\n",
    "                    link = link_pre + op_id + link_suf\n",
    "                    res = html_pre + link + html_mid + targets + html_suf\n",
    "\n",
    "\n",
    "                # if no operons contain it, find the operon that \n",
    "                # overlaps most with it\n",
    "                else:\n",
    "\n",
    "                    for op_id, op_set in operon_dict.items():\n",
    "                        if op_t.issuperset(op_set):\n",
    "                            matches.loc[op_id] = len(op_set.intersection(op_t))\n",
    "\n",
    "                    if matches.shape[0] > 0: # there are operons that overlap with this\n",
    "                        # get the highest overlap\n",
    "                        matches = matches.loc[matches == matches.max()]\n",
    "                        match_df = operon_df.loc[matches.index]\n",
    "\n",
    "                        # ensure that the closest gene is there if possible\n",
    "                        match_df['contains_closest'] = match_df.genes.str.contains(closest_gene)\n",
    "\n",
    "                        # sort\n",
    "                        match_df = match_df.sort_values(['contains_closest', 'confidence', 'promoter'],\n",
    "                                                       ascending = [0, 1, 1])\n",
    "                        op_id = match_df.index[0]\n",
    "                        targets = ','.join(op_t)\n",
    "                        link = link_pre + op_id + link_suf\n",
    "                        res = html_pre + link + html_mid + targets + html_suf\n",
    "\n",
    "                    else:\n",
    "                        res = ','.join(op_t)\n",
    "                        \n",
    "\n",
    "                res_full += [res]\n",
    "            bt.loc[i, 'target_genes_html'] = ','.join(res_full)\n",
    "        else:\n",
    "            bt.loc[i, 'target_genes_html'] = row.target_genes\n",
    "            \n",
    "        # ugly workaround...\n",
    "        bt.loc[i, 'target_genes_html'] = bt.loc[i, 'target_genes_html'].replace(bad1, '').replace(bad2, '')\n",
    "    # output\n",
    "    bt.to_json(folder + t, orient = 'records')"
   ]
  }
 ],
 "metadata": {
  "kernelspec": {
   "display_name": "Python 3",
   "language": "python",
   "name": "python3"
  },
  "language_info": {
   "codemirror_mode": {
    "name": "ipython",
    "version": 3
   },
   "file_extension": ".py",
   "mimetype": "text/x-python",
   "name": "python",
   "nbconvert_exporter": "python",
   "pygments_lexer": "ipython3",
   "version": "3.8.5"
  },
  "toc": {
   "base_numbering": 1,
   "nav_menu": {},
   "number_sections": true,
   "sideBar": true,
   "skip_h1_title": true,
   "title_cell": "Table of Contents",
   "title_sidebar": "Contents",
   "toc_cell": true,
   "toc_position": {},
   "toc_section_display": true,
   "toc_window_display": false
  }
 },
 "nbformat": 4,
 "nbformat_minor": 4
}
